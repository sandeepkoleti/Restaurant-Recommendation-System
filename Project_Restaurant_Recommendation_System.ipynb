{
 "cells": [
  {
   "cell_type": "markdown",
   "metadata": {},
   "source": [
    "# Project : Restaurant Recommendation System"
   ]
  },
  {
   "cell_type": "markdown",
   "metadata": {},
   "source": [
    "\n",
    "\n",
    "\n",
    "Objective: To develop a restaurant recommendation system that suggests top 5 restaurants based on user preferences and significant features\n",
    "\n",
    "Data Source: UCI Machine Learning Repository\n",
    "\n",
    "Data Source Link: https://archive.ics.uci.edu/ml/datasets/Restaurant+%26+consumer+data\n",
    "\n",
    "Data Description: There are 9 reports provided for this project. Of these 9 reports, 5 reports contain restaurant data, 4 reports contain user data and 1 report contains the rating data.\n",
    "\n",
    "Approach:\n",
    "\n",
    "**1) Exploratory data analysis: **\n",
    "Here we are computing descriptive statistics of each report and started identifying features and target variable\n",
    "\n",
    "**2) Data cleaning: **\n",
    "a) NaN Handling: The are many columns with missing values or '?'. We are replacing some of the missing features by average of the column or median. For categorical values, we are making few assumptions. For example, if parking column says '?' we are assuming it as 'No Parking' as more than 80% of all the parking column values are 'No Parking'.\n",
    "b) Univariate Analysis: Here we are plotting histograms to look for outliers and unusual spikes in the variance\n",
    "\n",
    "**3) Data Integration: **\n",
    "a) Here we are merging all 5 reports containing restaurant data into one dataframe, 4 reports containing customer data into one dataframe.\n",
    "b) Many features have values split into multiple rows. For example, the restaurant hours data has hours listed for each day into multiple rows. For these kind of scenarios, we are creating functions to collate all the related data for a given restaurant into 1 or 2 rows\n",
    " \n",
    "\n",
    "**4) Data reduction: **\n",
    "a) For this project, restaurant rating is most important variable. If the restaurants do not have rating data, we are not considering those restaurants. \n",
    "b) Some user features like height, weight, color are irrelevant to our analysis So we are performing data reduction to reduce these data points.\n",
    "\n",
    "**5) Data Transformation: **\n",
    "a) One-hot encoding: Restaurant cuisine values are categorical. So we are performing one-hot encoding to convert them to numbers\n",
    "b) Aggregation: We are performing row-wise summations for features that are more useful when they are aggregated.\n",
    "c) We are normailizing the data to address any issue of model being highly sensitive to scaling\n",
    "\n",
    "**6) Feature Engineering: **\n",
    "a) Coorelation between target and features: We developed methods to plot trends between 1) features and ratings 2) features and rating within various user profiles\n",
    "b) ANOVA: We would like to find the significant features based on the ANOVA generated\n",
    "\n",
    "**7) Model Selection and Evaluation: **\n",
    "As the data is labeled data, we are using a supervised learning model. As the target variable is continous wer are using regressors\n",
    "\n",
    "Linear Regression: We would like to do Linear Regression as a benchmark and quickly calculate coefficients and understand significance.\n",
    "K-Nearest Neighbors: We would like to use kNN regressor as in kNN nearer neighbors contribute more to the average than the more distant ones. Given that we are trying to find the restaurants that closely match to the user preferred restaurants with similarity in features, we believe kNN is a good model.\n",
    "We will evaluate the model by calculating RMSE scores by applying k-fold cross-validation.\n",
    "\n",
    "**8) Restaurant Recommendation: **\n",
    "Using the selected model, we will predict ratings for the restaurants that the user have not rated yet. Then we will recommend the top 5 restaurants based on the overall restaurant dataset\n"
   ]
  },
  {
   "cell_type": "markdown",
   "metadata": {},
   "source": [
    "\n",
    "## Step 1: Exploratory data analysis begins!\n"
   ]
  },
  {
   "cell_type": "code",
   "execution_count": 1,
   "metadata": {},
   "outputs": [],
   "source": [
    "import pandas as pd\n",
    "import numpy as np\n",
    "\n",
    "res_payment = pd.read_csv('chefmozaccepts.csv', encoding='utf-8')\n",
    "res_cuisine = pd.read_csv('chefmozcuisine.csv', encoding='utf-8')\n",
    "res_hours = pd.read_csv('chefmozhours4.csv', encoding='utf-8')\n",
    "res_parking = pd.read_csv('chefmozparking.csv', encoding='utf-8')\n",
    "user_cuisine = pd.read_csv('usercuisine.csv', encoding='utf-8')\n",
    "user_payment = pd.read_csv('userpayment.csv', encoding='utf-8')\n",
    "user_profile = pd.read_csv('userprofile.csv', encoding='utf-8')\n",
    "final_rating = pd.read_csv('rating_final.csv', encoding='utf-8')\n",
    "res_geo = pd.read_csv('geoplaces2.csv', encoding='ISO-8859-1')"
   ]
  },
  {
   "cell_type": "code",
   "execution_count": 2,
   "metadata": {},
   "outputs": [
    {
     "data": {
      "text/html": [
       "<div>\n",
       "<style scoped>\n",
       "    .dataframe tbody tr th:only-of-type {\n",
       "        vertical-align: middle;\n",
       "    }\n",
       "\n",
       "    .dataframe tbody tr th {\n",
       "        vertical-align: top;\n",
       "    }\n",
       "\n",
       "    .dataframe thead th {\n",
       "        text-align: right;\n",
       "    }\n",
       "</style>\n",
       "<table border=\"1\" class=\"dataframe\">\n",
       "  <thead>\n",
       "    <tr style=\"text-align: right;\">\n",
       "      <th></th>\n",
       "      <th>Metric</th>\n",
       "      <th>Value</th>\n",
       "    </tr>\n",
       "  </thead>\n",
       "  <tbody>\n",
       "    <tr>\n",
       "      <th>0</th>\n",
       "      <td>Total number of rows in res_payment</td>\n",
       "      <td>1314</td>\n",
       "    </tr>\n",
       "    <tr>\n",
       "      <th>1</th>\n",
       "      <td>Number of unique restaurants in res_payment</td>\n",
       "      <td>615</td>\n",
       "    </tr>\n",
       "    <tr>\n",
       "      <th>2</th>\n",
       "      <td>Total number of rows in res_cuisine</td>\n",
       "      <td>916</td>\n",
       "    </tr>\n",
       "    <tr>\n",
       "      <th>3</th>\n",
       "      <td>Number of unique restaurants in res_cuisine</td>\n",
       "      <td>769</td>\n",
       "    </tr>\n",
       "    <tr>\n",
       "      <th>4</th>\n",
       "      <td>Total number of rows in res_hours</td>\n",
       "      <td>2339</td>\n",
       "    </tr>\n",
       "    <tr>\n",
       "      <th>5</th>\n",
       "      <td>Number of unique restaurants in res_hours</td>\n",
       "      <td>694</td>\n",
       "    </tr>\n",
       "    <tr>\n",
       "      <th>6</th>\n",
       "      <td>Total number of rows in res_parking</td>\n",
       "      <td>702</td>\n",
       "    </tr>\n",
       "    <tr>\n",
       "      <th>7</th>\n",
       "      <td>Number of unique restaurants in res_parking</td>\n",
       "      <td>675</td>\n",
       "    </tr>\n",
       "    <tr>\n",
       "      <th>8</th>\n",
       "      <td>Total number of rows in res_geo</td>\n",
       "      <td>130</td>\n",
       "    </tr>\n",
       "    <tr>\n",
       "      <th>9</th>\n",
       "      <td>Number of unique restaurants in res_geo</td>\n",
       "      <td>130</td>\n",
       "    </tr>\n",
       "    <tr>\n",
       "      <th>10</th>\n",
       "      <td>Total number of rows in user_cuisine</td>\n",
       "      <td>330</td>\n",
       "    </tr>\n",
       "    <tr>\n",
       "      <th>11</th>\n",
       "      <td>Number of unique users in user_cuisine</td>\n",
       "      <td>138</td>\n",
       "    </tr>\n",
       "    <tr>\n",
       "      <th>12</th>\n",
       "      <td>Total number of rows in user_payment</td>\n",
       "      <td>177</td>\n",
       "    </tr>\n",
       "    <tr>\n",
       "      <th>13</th>\n",
       "      <td>Number of unique users in user_payment</td>\n",
       "      <td>133</td>\n",
       "    </tr>\n",
       "    <tr>\n",
       "      <th>14</th>\n",
       "      <td>Total number of rows in user_profile</td>\n",
       "      <td>138</td>\n",
       "    </tr>\n",
       "    <tr>\n",
       "      <th>15</th>\n",
       "      <td>Number of unique users in user_profile</td>\n",
       "      <td>138</td>\n",
       "    </tr>\n",
       "    <tr>\n",
       "      <th>16</th>\n",
       "      <td>Total number of rows in final_rating</td>\n",
       "      <td>1161</td>\n",
       "    </tr>\n",
       "    <tr>\n",
       "      <th>17</th>\n",
       "      <td>Number of unique restaurants in final_rating</td>\n",
       "      <td>130</td>\n",
       "    </tr>\n",
       "    <tr>\n",
       "      <th>18</th>\n",
       "      <td>Number of unique users in final_rating</td>\n",
       "      <td>138</td>\n",
       "    </tr>\n",
       "  </tbody>\n",
       "</table>\n",
       "</div>"
      ],
      "text/plain": [
       "                                          Metric  Value\n",
       "0            Total number of rows in res_payment   1314\n",
       "1    Number of unique restaurants in res_payment    615\n",
       "2            Total number of rows in res_cuisine    916\n",
       "3    Number of unique restaurants in res_cuisine    769\n",
       "4              Total number of rows in res_hours   2339\n",
       "5      Number of unique restaurants in res_hours    694\n",
       "6            Total number of rows in res_parking    702\n",
       "7    Number of unique restaurants in res_parking    675\n",
       "8                Total number of rows in res_geo    130\n",
       "9        Number of unique restaurants in res_geo    130\n",
       "10          Total number of rows in user_cuisine    330\n",
       "11        Number of unique users in user_cuisine    138\n",
       "12          Total number of rows in user_payment    177\n",
       "13        Number of unique users in user_payment    133\n",
       "14          Total number of rows in user_profile    138\n",
       "15        Number of unique users in user_profile    138\n",
       "16          Total number of rows in final_rating   1161\n",
       "17  Number of unique restaurants in final_rating    130\n",
       "18        Number of unique users in final_rating    138"
      ]
     },
     "execution_count": 2,
     "metadata": {},
     "output_type": "execute_result"
    }
   ],
   "source": [
    "data_describe = {}\n",
    "data_describe['Total number of rows in res_payment'] = res_payment.shape[0]\n",
    "data_describe['Number of unique restaurants in res_payment'] = res_payment['placeID'].nunique()\n",
    "data_describe['Total number of rows in res_cuisine'] = res_cuisine.shape[0]\n",
    "data_describe['Number of unique restaurants in res_cuisine'] = res_cuisine['placeID'].nunique()\n",
    "data_describe['Total number of rows in res_hours'] = res_hours.shape[0]\n",
    "data_describe['Number of unique restaurants in res_hours'] = res_hours['placeID'].nunique()\n",
    "data_describe['Total number of rows in res_parking'] = res_parking.shape[0]\n",
    "data_describe['Number of unique restaurants in res_parking'] = res_parking['placeID'].nunique()\n",
    "data_describe['Total number of rows in res_geo'] = res_geo.shape[0]\n",
    "data_describe['Number of unique restaurants in res_geo'] = res_geo['placeID'].nunique()\n",
    "\n",
    "data_describe['Total number of rows in user_cuisine'] = user_cuisine.shape[0]\n",
    "data_describe['Number of unique users in user_cuisine'] = user_cuisine['userID'].nunique()\n",
    "data_describe['Total number of rows in user_payment'] = user_payment.shape[0]\n",
    "data_describe['Number of unique users in user_payment'] = user_payment['userID'].nunique()\n",
    "data_describe['Total number of rows in user_profile'] = user_profile.shape[0]\n",
    "data_describe['Number of unique users in user_profile'] = user_profile['userID'].nunique()\n",
    "\n",
    "data_describe['Total number of rows in final_rating'] = final_rating.shape[0]\n",
    "data_describe['Number of unique restaurants in final_rating'] = final_rating['placeID'].nunique()\n",
    "data_describe['Number of unique users in final_rating'] = final_rating['userID'].nunique()\n",
    "\n",
    "data_describe = {\n",
    "                    'Metric': [\n",
    "                            'Total number of rows in res_payment',\n",
    "                            'Number of unique restaurants in res_payment',\n",
    "                            'Total number of rows in res_cuisine',\n",
    "                            'Number of unique restaurants in res_cuisine',\n",
    "                            'Total number of rows in res_hours',\n",
    "                            'Number of unique restaurants in res_hours',\n",
    "                            'Total number of rows in res_parking',\n",
    "                            'Number of unique restaurants in res_parking',\n",
    "                            'Total number of rows in res_geo',\n",
    "                            'Number of unique restaurants in res_geo',\n",
    "\n",
    "                            'Total number of rows in user_cuisine',\n",
    "                            'Number of unique users in user_cuisine',\n",
    "                            'Total number of rows in user_payment',\n",
    "                            'Number of unique users in user_payment',\n",
    "                            'Total number of rows in user_profile',\n",
    "                            'Number of unique users in user_profile',\n",
    "\n",
    "                            'Total number of rows in final_rating',\n",
    "                            'Number of unique restaurants in final_rating',\n",
    "                            'Number of unique users in final_rating'\n",
    "                            ],\n",
    "                    'Value': [\n",
    "                            res_payment.shape[0],\n",
    "                            res_payment['placeID'].nunique(),\n",
    "                            res_cuisine.shape[0],\n",
    "                            res_cuisine['placeID'].nunique(),\n",
    "                            res_hours.shape[0],\n",
    "                            res_hours['placeID'].nunique(),\n",
    "                            res_parking.shape[0],\n",
    "                            res_parking['placeID'].nunique(),\n",
    "                            res_geo.shape[0],\n",
    "                            res_geo['placeID'].nunique(),\n",
    "\n",
    "                            user_cuisine.shape[0],\n",
    "                            user_cuisine['userID'].nunique(),\n",
    "                            user_payment.shape[0],\n",
    "                            user_payment['userID'].nunique(),\n",
    "                            user_profile.shape[0],\n",
    "                            user_profile['userID'].nunique(),\n",
    "\n",
    "                            final_rating.shape[0],\n",
    "                            final_rating['placeID'].nunique(),\n",
    "                            final_rating['userID'].nunique(),\n",
    "                            ]\n",
    "\n",
    "                }\n",
    "\n",
    "data_describe_df = pd.DataFrame.from_dict(data_describe)\n",
    "data_describe_df"
   ]
  },
  {
   "cell_type": "code",
   "execution_count": 3,
   "metadata": {},
   "outputs": [
    {
     "data": {
      "text/html": [
       "<div>\n",
       "<style scoped>\n",
       "    .dataframe tbody tr th:only-of-type {\n",
       "        vertical-align: middle;\n",
       "    }\n",
       "\n",
       "    .dataframe tbody tr th {\n",
       "        vertical-align: top;\n",
       "    }\n",
       "\n",
       "    .dataframe thead th {\n",
       "        text-align: right;\n",
       "    }\n",
       "</style>\n",
       "<table border=\"1\" class=\"dataframe\">\n",
       "  <thead>\n",
       "    <tr style=\"text-align: right;\">\n",
       "      <th></th>\n",
       "      <th>placeID</th>\n",
       "      <th>latitude</th>\n",
       "      <th>longitude</th>\n",
       "      <th>the_geom_meter</th>\n",
       "      <th>name</th>\n",
       "      <th>address</th>\n",
       "      <th>city</th>\n",
       "      <th>state</th>\n",
       "      <th>country</th>\n",
       "      <th>fax</th>\n",
       "      <th>...</th>\n",
       "      <th>alcohol</th>\n",
       "      <th>smoking_area</th>\n",
       "      <th>dress_code</th>\n",
       "      <th>accessibility</th>\n",
       "      <th>price</th>\n",
       "      <th>url</th>\n",
       "      <th>Rambience</th>\n",
       "      <th>franchise</th>\n",
       "      <th>area</th>\n",
       "      <th>other_services</th>\n",
       "    </tr>\n",
       "  </thead>\n",
       "  <tbody>\n",
       "    <tr>\n",
       "      <th>0</th>\n",
       "      <td>134999</td>\n",
       "      <td>18.915421</td>\n",
       "      <td>-99.184871</td>\n",
       "      <td>0101000020957F000088568DE356715AC138C0A525FC46...</td>\n",
       "      <td>Kiku Cuernavaca</td>\n",
       "      <td>Revolucion</td>\n",
       "      <td>Cuernavaca</td>\n",
       "      <td>Morelos</td>\n",
       "      <td>Mexico</td>\n",
       "      <td>?</td>\n",
       "      <td>...</td>\n",
       "      <td>No_Alcohol_Served</td>\n",
       "      <td>none</td>\n",
       "      <td>informal</td>\n",
       "      <td>no_accessibility</td>\n",
       "      <td>medium</td>\n",
       "      <td>kikucuernavaca.com.mx</td>\n",
       "      <td>familiar</td>\n",
       "      <td>f</td>\n",
       "      <td>closed</td>\n",
       "      <td>none</td>\n",
       "    </tr>\n",
       "    <tr>\n",
       "      <th>1</th>\n",
       "      <td>132825</td>\n",
       "      <td>22.147392</td>\n",
       "      <td>-100.983092</td>\n",
       "      <td>0101000020957F00001AD016568C4858C1243261274BA5...</td>\n",
       "      <td>puesto de tacos</td>\n",
       "      <td>esquina santos degollado y leon guzman</td>\n",
       "      <td>s.l.p.</td>\n",
       "      <td>s.l.p.</td>\n",
       "      <td>mexico</td>\n",
       "      <td>?</td>\n",
       "      <td>...</td>\n",
       "      <td>No_Alcohol_Served</td>\n",
       "      <td>none</td>\n",
       "      <td>informal</td>\n",
       "      <td>completely</td>\n",
       "      <td>low</td>\n",
       "      <td>?</td>\n",
       "      <td>familiar</td>\n",
       "      <td>f</td>\n",
       "      <td>open</td>\n",
       "      <td>none</td>\n",
       "    </tr>\n",
       "    <tr>\n",
       "      <th>2</th>\n",
       "      <td>135106</td>\n",
       "      <td>22.149709</td>\n",
       "      <td>-100.976093</td>\n",
       "      <td>0101000020957F0000649D6F21634858C119AE9BF528A3...</td>\n",
       "      <td>El Rincï¿½n de San Francisco</td>\n",
       "      <td>Universidad 169</td>\n",
       "      <td>San Luis Potosi</td>\n",
       "      <td>San Luis Potosi</td>\n",
       "      <td>Mexico</td>\n",
       "      <td>?</td>\n",
       "      <td>...</td>\n",
       "      <td>Wine-Beer</td>\n",
       "      <td>only at bar</td>\n",
       "      <td>informal</td>\n",
       "      <td>partially</td>\n",
       "      <td>medium</td>\n",
       "      <td>?</td>\n",
       "      <td>familiar</td>\n",
       "      <td>f</td>\n",
       "      <td>open</td>\n",
       "      <td>none</td>\n",
       "    </tr>\n",
       "  </tbody>\n",
       "</table>\n",
       "<p>3 rows × 21 columns</p>\n",
       "</div>"
      ],
      "text/plain": [
       "   placeID   latitude   longitude  \\\n",
       "0   134999  18.915421  -99.184871   \n",
       "1   132825  22.147392 -100.983092   \n",
       "2   135106  22.149709 -100.976093   \n",
       "\n",
       "                                      the_geom_meter  \\\n",
       "0  0101000020957F000088568DE356715AC138C0A525FC46...   \n",
       "1  0101000020957F00001AD016568C4858C1243261274BA5...   \n",
       "2  0101000020957F0000649D6F21634858C119AE9BF528A3...   \n",
       "\n",
       "                           name                                 address  \\\n",
       "0               Kiku Cuernavaca                              Revolucion   \n",
       "1               puesto de tacos  esquina santos degollado y leon guzman   \n",
       "2  El Rincï¿½n de San Francisco                         Universidad 169   \n",
       "\n",
       "              city            state country fax      ...        \\\n",
       "0       Cuernavaca          Morelos  Mexico   ?      ...         \n",
       "1           s.l.p.           s.l.p.  mexico   ?      ...         \n",
       "2  San Luis Potosi  San Luis Potosi  Mexico   ?      ...         \n",
       "\n",
       "             alcohol smoking_area dress_code     accessibility   price  \\\n",
       "0  No_Alcohol_Served         none   informal  no_accessibility  medium   \n",
       "1  No_Alcohol_Served         none   informal        completely     low   \n",
       "2          Wine-Beer  only at bar   informal         partially  medium   \n",
       "\n",
       "                     url Rambience franchise    area other_services  \n",
       "0  kikucuernavaca.com.mx  familiar         f  closed           none  \n",
       "1                      ?  familiar         f    open           none  \n",
       "2                      ?  familiar         f    open           none  \n",
       "\n",
       "[3 rows x 21 columns]"
      ]
     },
     "execution_count": 3,
     "metadata": {},
     "output_type": "execute_result"
    }
   ],
   "source": [
    "res_geo.head(3)"
   ]
  },
  {
   "cell_type": "markdown",
   "metadata": {},
   "source": [
    "<span style=\"color:blue\">\n",
    "res_geo dataframe contains columns like price, alcohol, dress_code, ambience and others. These are some important features.\n",
    "    </span>"
   ]
  },
  {
   "cell_type": "code",
   "execution_count": 4,
   "metadata": {},
   "outputs": [
    {
     "data": {
      "text/html": [
       "<div>\n",
       "<style scoped>\n",
       "    .dataframe tbody tr th:only-of-type {\n",
       "        vertical-align: middle;\n",
       "    }\n",
       "\n",
       "    .dataframe tbody tr th {\n",
       "        vertical-align: top;\n",
       "    }\n",
       "\n",
       "    .dataframe thead th {\n",
       "        text-align: right;\n",
       "    }\n",
       "</style>\n",
       "<table border=\"1\" class=\"dataframe\">\n",
       "  <thead>\n",
       "    <tr style=\"text-align: right;\">\n",
       "      <th></th>\n",
       "      <th>userID</th>\n",
       "      <th>placeID</th>\n",
       "      <th>rating</th>\n",
       "      <th>food_rating</th>\n",
       "      <th>service_rating</th>\n",
       "    </tr>\n",
       "  </thead>\n",
       "  <tbody>\n",
       "    <tr>\n",
       "      <th>0</th>\n",
       "      <td>U1077</td>\n",
       "      <td>135085</td>\n",
       "      <td>2</td>\n",
       "      <td>2</td>\n",
       "      <td>2</td>\n",
       "    </tr>\n",
       "    <tr>\n",
       "      <th>1</th>\n",
       "      <td>U1077</td>\n",
       "      <td>135038</td>\n",
       "      <td>2</td>\n",
       "      <td>2</td>\n",
       "      <td>1</td>\n",
       "    </tr>\n",
       "    <tr>\n",
       "      <th>2</th>\n",
       "      <td>U1077</td>\n",
       "      <td>132825</td>\n",
       "      <td>2</td>\n",
       "      <td>2</td>\n",
       "      <td>2</td>\n",
       "    </tr>\n",
       "    <tr>\n",
       "      <th>3</th>\n",
       "      <td>U1077</td>\n",
       "      <td>135060</td>\n",
       "      <td>1</td>\n",
       "      <td>2</td>\n",
       "      <td>2</td>\n",
       "    </tr>\n",
       "    <tr>\n",
       "      <th>4</th>\n",
       "      <td>U1068</td>\n",
       "      <td>135104</td>\n",
       "      <td>1</td>\n",
       "      <td>1</td>\n",
       "      <td>2</td>\n",
       "    </tr>\n",
       "  </tbody>\n",
       "</table>\n",
       "</div>"
      ],
      "text/plain": [
       "  userID  placeID  rating  food_rating  service_rating\n",
       "0  U1077   135085       2            2               2\n",
       "1  U1077   135038       2            2               1\n",
       "2  U1077   132825       2            2               2\n",
       "3  U1077   135060       1            2               2\n",
       "4  U1068   135104       1            1               2"
      ]
     },
     "execution_count": 4,
     "metadata": {},
     "output_type": "execute_result"
    }
   ],
   "source": [
    "final_rating.head()"
   ]
  },
  {
   "cell_type": "markdown",
   "metadata": {},
   "source": [
    "<span style=\"color:blue\">\n",
    "The final rating has the target variable - **rating**. This is given by a user with a unique userID on a restaurant with unique placeID\n",
    "    </span>"
   ]
  },
  {
   "cell_type": "markdown",
   "metadata": {},
   "source": [
    "## Step 1: Exploratory Data Analysis completed. \n"
   ]
  },
  {
   "cell_type": "markdown",
   "metadata": {},
   "source": [
    "## Step 2: Data Cleaning starts!"
   ]
  },
  {
   "cell_type": "markdown",
   "metadata": {},
   "source": [
    "<span style=\"color:blue\">\n",
    " a) Data quality check: **NaN Handling **\n",
    " </span>\n",
    " \n",
    " <span style=\"color:blue\">\n",
    "  Checking how many null values are in these dataframes\n",
    "</span>"
   ]
  },
  {
   "cell_type": "code",
   "execution_count": 5,
   "metadata": {},
   "outputs": [
    {
     "name": "stdout",
     "output_type": "stream",
     "text": [
      "0\n",
      "0\n",
      "0\n",
      "0\n",
      "0\n",
      "0\n",
      "0\n",
      "0\n",
      "0\n"
     ]
    }
   ],
   "source": [
    "print(res_payment.isnull().sum().sum())\n",
    "print(res_cuisine.isnull().sum().sum())\n",
    "print(res_hours.isnull().sum().sum())\n",
    "print(res_parking.isnull().sum().sum())\n",
    "print(user_cuisine.isnull().sum().sum())\n",
    "print(user_payment.isnull().sum().sum())\n",
    "print(user_profile.isnull().sum().sum())\n",
    "print(final_rating.isnull().sum().sum())\n",
    "print(res_geo.isnull().sum().sum())"
   ]
  },
  {
   "cell_type": "markdown",
   "metadata": {},
   "source": [
    "<span style=\"color:blue\">\n",
    "There are no null values in all these dataframes.\n",
    "</span>    "
   ]
  },
  {
   "cell_type": "markdown",
   "metadata": {},
   "source": [
    "\n",
    "<span style=\"color:blue\">\n",
    "** b) Data quality check: Invalid characters **\n",
    "</span>\n",
    "\n",
    "<span style=\"color:blue\">\n",
    "Checking if any dataframes have value '?'\n",
    "</span>"
   ]
  },
  {
   "cell_type": "code",
   "execution_count": 6,
   "metadata": {},
   "outputs": [
    {
     "name": "stdout",
     "output_type": "stream",
     "text": [
      "Rpayment    False\n",
      "dtype: bool\n",
      "Rcuisine    False\n",
      "dtype: bool\n",
      "hours    False\n",
      "days     False\n",
      "dtype: bool\n",
      "parking_lot    False\n",
      "dtype: bool\n",
      "userID      False\n",
      "Rcuisine    False\n",
      "dtype: bool\n",
      "userID      False\n",
      "Upayment    False\n",
      "dtype: bool\n",
      "userID    False\n",
      "dtype: bool\n",
      "userID              False\n",
      "smoker               True\n",
      "drink_level         False\n",
      "dress_preference     True\n",
      "ambience             True\n",
      "transport            True\n",
      "marital_status       True\n",
      "hijos                True\n",
      "interest            False\n",
      "personality         False\n",
      "religion            False\n",
      "activity             True\n",
      "color               False\n",
      "budget               True\n",
      "dtype: bool\n",
      "the_geom_meter    False\n",
      "name              False\n",
      "address            True\n",
      "city               True\n",
      "state              True\n",
      "country            True\n",
      "fax                True\n",
      "zip                True\n",
      "alcohol           False\n",
      "smoking_area      False\n",
      "dress_code        False\n",
      "accessibility     False\n",
      "price             False\n",
      "url                True\n",
      "Rambience         False\n",
      "franchise         False\n",
      "area              False\n",
      "other_services    False\n",
      "dtype: bool\n"
     ]
    }
   ],
   "source": [
    "print(res_payment.select_dtypes([np.object]).apply(lambda x: x.str.contains('\\?').any()))\n",
    "print(res_cuisine.select_dtypes([np.object]).apply(lambda x: x.str.contains('\\?').any()))\n",
    "print(res_hours.select_dtypes([np.object]).apply(lambda x: x.str.contains('\\?').any()))\n",
    "print(res_parking.select_dtypes([np.object]).apply(lambda x: x.str.contains('\\?').any()))\n",
    "print(user_cuisine.select_dtypes([np.object]).apply(lambda x: x.str.contains('\\?').any()))\n",
    "print(user_payment.select_dtypes([np.object]).apply(lambda x: x.str.contains('\\?').any()))\n",
    "print(final_rating.select_dtypes([np.object]).apply(lambda x: x.str.contains('\\?').any()))\n",
    "print(user_profile.select_dtypes([np.object]).apply(lambda x: x.str.contains('\\?').any()))\n",
    "print(res_geo.select_dtypes([np.object]).apply(lambda x: x.str.contains('\\?').any()))\n"
   ]
  },
  {
   "cell_type": "markdown",
   "metadata": {},
   "source": [
    "<span style=\"color:blue\">\n",
    "We could see from the above results that the dataframes - **user_profile and res_geo** contain '?' values.\n",
    "</span>\n",
    "\n",
    "<span style=\"color:blue\">\n",
    "Initially, we are starting '?' handling for user_profile below.\n",
    "</span>"
   ]
  },
  {
   "cell_type": "code",
   "execution_count": 7,
   "metadata": {},
   "outputs": [
    {
     "name": "stdout",
     "output_type": "stream",
     "text": [
      "Index(['smoker', 'dress_preference', 'ambience', 'transport', 'marital_status',\n",
      "       'hijos', 'activity', 'budget'],\n",
      "      dtype='object')\n"
     ]
    }
   ],
   "source": [
    "test1 = user_profile.select_dtypes([np.object]).apply(lambda x: x.str.contains('\\?').any())\n",
    "print(user_profile.select_dtypes([np.object]).columns[test1])"
   ]
  },
  {
   "cell_type": "markdown",
   "metadata": {},
   "source": [
    "<span style=\"color:blue\">\n",
    "We can see that the above 8 columns have invalid value '?'\n",
    "</span>    \n",
    "<span style=\"color:blue\">    \n",
    "We would like to see the distribution and make assumptions to replace these '?' values.\n",
    "</span>    "
   ]
  },
  {
   "cell_type": "code",
   "execution_count": 8,
   "metadata": {},
   "outputs": [
    {
     "name": "stdout",
     "output_type": "stream",
     "text": [
      "Feature: smoker\n",
      "false    109\n",
      "true      26\n",
      "?          3\n",
      "Name: smoker, dtype: int64\n",
      "\n",
      "\n",
      "Feature: dress_preference\n",
      "no preference    53\n",
      "formal           41\n",
      "informal         35\n",
      "?                 5\n",
      "elegant           4\n",
      "Name: dress_preference, dtype: int64\n",
      "\n",
      "\n",
      "Feature: ambience\n",
      "family      70\n",
      "friends     46\n",
      "solitary    16\n",
      "?            6\n",
      "Name: ambience, dtype: int64\n",
      "\n",
      "\n",
      "Feature: transport\n",
      "public       82\n",
      "car owner    35\n",
      "on foot      14\n",
      "?             7\n",
      "Name: transport, dtype: int64\n",
      "\n",
      "\n",
      "Feature: hijos\n",
      "independent    113\n",
      "?               11\n",
      "kids            11\n",
      "dependent        3\n",
      "Name: hijos, dtype: int64\n",
      "\n",
      "\n",
      "Feature: activity\n",
      "student          113\n",
      "professional      15\n",
      "?                  7\n",
      "unemployed         2\n",
      "working-class      1\n",
      "Name: activity, dtype: int64\n",
      "\n",
      "\n",
      "Feature: marital_status\n",
      "single     122\n",
      "married     10\n",
      "?            4\n",
      "widow        2\n",
      "Name: marital_status, dtype: int64\n",
      "\n",
      "\n",
      "Feature: budget\n",
      "medium    91\n",
      "low       35\n",
      "?          7\n",
      "high       5\n",
      "Name: budget, dtype: int64\n"
     ]
    }
   ],
   "source": [
    "print('Feature: smoker')\n",
    "print(user_profile['smoker'].value_counts())\n",
    "print('\\n')\n",
    "print('Feature: dress_preference')\n",
    "print(user_profile['dress_preference'].value_counts())\n",
    "print('\\n')\n",
    "print('Feature: ambience')\n",
    "print(user_profile['ambience'].value_counts())\n",
    "print('\\n')\n",
    "print('Feature: transport')\n",
    "print(user_profile['transport'].value_counts())\n",
    "print('\\n')\n",
    "print('Feature: hijos')\n",
    "print(user_profile['hijos'].value_counts())\n",
    "print('\\n')\n",
    "print('Feature: activity')\n",
    "print(user_profile['activity'].value_counts())\n",
    "print('\\n')\n",
    "print('Feature: marital_status')\n",
    "print(user_profile['marital_status'].value_counts())\n",
    "print('\\n')\n",
    "print('Feature: budget')\n",
    "print(user_profile['budget'].value_counts())"
   ]
  },
  {
   "cell_type": "code",
   "execution_count": 9,
   "metadata": {},
   "outputs": [],
   "source": [
    "#As 80% of the users are non-smokers, we are assuming the three users with unknown information to be non-smokers.\n",
    "user_profile['smoker'] = user_profile['smoker'].replace('?','false')\n",
    "\n",
    "'''\n",
    "Dress preference feature has a potential to be an important factor.\n",
    "When we checked the restaurant data, the restaurants have dress codes as 'casual', 'informal' and 'formal'.\n",
    "Therefore, 1)to not disturb current distribution between 'formal' and 'informal' in the user's dress preference data,\n",
    "2) as 'no preference' has the highest number of values,\n",
    "we are replacing '?' with 'no preference' :\n",
    "'''\n",
    "user_profile['dress_preference'] = user_profile['dress_preference'].replace('?','no preference')\n",
    "\n",
    "'''\n",
    "Ambience feature has a potential to be an important factor.\n",
    "When we checked the restaurant data, the restaurants have ambience values as 'familiar', 'quiet'.\n",
    "As 'family' has the highest number of values, we are replacing '?' with 'family' :\n",
    "'''\n",
    "user_profile['ambience'] = user_profile['ambience'].replace('?','family')\n",
    "\n",
    "# As the majority of the users are using public transport, we would like to replace the '?' value with 'public'\n",
    "user_profile['transport'] = user_profile['transport'].replace('?','public')\n",
    "\n",
    "# As close to 90% of the users are single, we would like to replace the '?' value with 'single'\n",
    "user_profile['marital_status'] = user_profile['marital_status'].replace('?','single')\n",
    "\n",
    "'''\n",
    "Hijos mean children. Here, there is a clear distribution between marital status and hijos. \n",
    "there are 122 single people and 113 users who are independent. \n",
    "Therefore we assume hijos with '?' could refer to 'independent'\n",
    "'''\n",
    "user_profile['hijos'] = user_profile['hijos'].replace('?','independent')\n",
    "\n",
    "''' As more than 85% of the users are single, students and with no children, \n",
    "we would like to replace the '?' value with 'student'\n",
    "'''\n",
    "user_profile['activity'] = user_profile['activity'].replace('?','student')\n",
    "\n",
    "'''\n",
    "As majority of users are with medium budget and more than 85% of the users are single, students and with no children, \n",
    "we would like to replace the '?' value with 'medium'\n",
    "'''\n",
    "user_profile['budget'] = user_profile['budget'].replace('?','medium')"
   ]
  },
  {
   "cell_type": "code",
   "execution_count": 10,
   "metadata": {},
   "outputs": [
    {
     "name": "stdout",
     "output_type": "stream",
     "text": [
      "Feature: smoker\n",
      "false    112\n",
      "true      26\n",
      "Name: smoker, dtype: int64\n",
      "\n",
      "\n",
      "Feature: dress_preference\n",
      "no preference    58\n",
      "formal           41\n",
      "informal         35\n",
      "elegant           4\n",
      "Name: dress_preference, dtype: int64\n",
      "\n",
      "\n",
      "Feature: ambience\n",
      "family      76\n",
      "friends     46\n",
      "solitary    16\n",
      "Name: ambience, dtype: int64\n",
      "\n",
      "\n",
      "Feature: transport\n",
      "public       89\n",
      "car owner    35\n",
      "on foot      14\n",
      "Name: transport, dtype: int64\n",
      "\n",
      "\n",
      "Feature: hijos\n",
      "independent    124\n",
      "kids            11\n",
      "dependent        3\n",
      "Name: hijos, dtype: int64\n",
      "\n",
      "\n",
      "Feature: activity\n",
      "student          120\n",
      "professional      15\n",
      "unemployed         2\n",
      "working-class      1\n",
      "Name: activity, dtype: int64\n",
      "\n",
      "\n",
      "Feature: marital_status\n",
      "single     126\n",
      "married     10\n",
      "widow        2\n",
      "Name: marital_status, dtype: int64\n",
      "\n",
      "\n",
      "Feature: budget\n",
      "medium    98\n",
      "low       35\n",
      "high       5\n",
      "Name: budget, dtype: int64\n"
     ]
    }
   ],
   "source": [
    "print('Feature: smoker')\n",
    "print(user_profile['smoker'].value_counts())\n",
    "print('\\n')\n",
    "print('Feature: dress_preference')\n",
    "print(user_profile['dress_preference'].value_counts())\n",
    "print('\\n')\n",
    "print('Feature: ambience')\n",
    "print(user_profile['ambience'].value_counts())\n",
    "print('\\n')\n",
    "print('Feature: transport')\n",
    "print(user_profile['transport'].value_counts())\n",
    "print('\\n')\n",
    "print('Feature: hijos')\n",
    "print(user_profile['hijos'].value_counts())\n",
    "print('\\n')\n",
    "print('Feature: activity')\n",
    "print(user_profile['activity'].value_counts())\n",
    "print('\\n')\n",
    "print('Feature: marital_status')\n",
    "print(user_profile['marital_status'].value_counts())\n",
    "print('\\n')\n",
    "print('Feature: budget')\n",
    "print(user_profile['budget'].value_counts())"
   ]
  },
  {
   "cell_type": "markdown",
   "metadata": {},
   "source": [
    "<span style=\"color:blue\">\n",
    "'?' handling for user_profile dataframe is completed now.\n",
    "</span>    \n",
    "<span style=\"color:blue\">\n",
    "    **Also we can see that:**\n",
    "    Students are the major customer group. They are single and do not have children. Most of the customers are non-smokers, use public transport and prefer family or friendly ambience. And most of them pay cash with budget low or medium.\n",
    "We are performing now for res_geo dataframe below:\n",
    "</span>    "
   ]
  },
  {
   "cell_type": "code",
   "execution_count": 11,
   "metadata": {},
   "outputs": [
    {
     "name": "stdout",
     "output_type": "stream",
     "text": [
      "Index(['address', 'city', 'state', 'country', 'fax', 'zip', 'url'], dtype='object')\n"
     ]
    }
   ],
   "source": [
    "test2 = res_geo.select_dtypes([np.object]).apply(lambda x: x.str.contains('\\?').any())\n",
    "print(res_geo.select_dtypes([np.object]).columns[test2])"
   ]
  },
  {
   "cell_type": "code",
   "execution_count": 12,
   "metadata": {},
   "outputs": [
    {
     "data": {
      "text/plain": [
       "Mexico    89\n",
       "?         28\n",
       "mexico    13\n",
       "Name: country, dtype: int64"
      ]
     },
     "execution_count": 12,
     "metadata": {},
     "output_type": "execute_result"
    }
   ],
   "source": [
    "res_geo['country'].value_counts()"
   ]
  },
  {
   "cell_type": "markdown",
   "metadata": {},
   "source": [
    "<span style=\"color:blue\">\n",
    "As we know the data is that of Mexico, we can replace the '?' value in the country to 'Mexico'.\n",
    "</span>"
   ]
  },
  {
   "cell_type": "code",
   "execution_count": 13,
   "metadata": {},
   "outputs": [
    {
     "data": {
      "text/plain": [
       "Mexico    130\n",
       "Name: country, dtype: int64"
      ]
     },
     "execution_count": 13,
     "metadata": {},
     "output_type": "execute_result"
    }
   ],
   "source": [
    "res_geo['country'] = res_geo['country'].replace('?','Mexico')\n",
    "res_geo['country'] = res_geo['country'].replace('mexico','Mexico')\n",
    "res_geo['country'].value_counts()"
   ]
  },
  {
   "cell_type": "markdown",
   "metadata": {},
   "source": [
    "<span style=\"color:blue\">\n",
    "For all other address values, it is difficult to assign an address as clearly the users are distinct.\n",
    "So we would like to leave the '?' values as is for now.\n",
    "</span>"
   ]
  },
  {
   "cell_type": "markdown",
   "metadata": {},
   "source": [
    "<span style=\"color:blue\">\n",
    "**c) Data quality check: Univariate Analysis**\n",
    "</span>\n",
    "\n",
    "<span style=\"color:blue\">\n",
    "We are plotting histograms and looking for unusual spikes\n",
    "    </span>"
   ]
  },
  {
   "cell_type": "code",
   "execution_count": 14,
   "metadata": {},
   "outputs": [
    {
     "data": {
      "image/png": "[encoded data removed]",
      "text/plain": [
       "<Figure size 1296x360 with 1 Axes>"
      ]
     },
     "metadata": {},
     "output_type": "display_data"
    }
   ],
   "source": [
    "%matplotlib inline\n",
    "import seaborn as sns\n",
    "import matplotlib.pyplot as plt\n",
    "plt.figure(figsize = (18,5))\n",
    "sns.set(style='darkgrid')\n",
    "ax = sns.countplot(data = res_payment, x='Rpayment')\n",
    "plt.show()"
   ]
  },
  {
   "cell_type": "markdown",
   "metadata": {},
   "source": [
    "<span style=\"color:blue\">\n",
    "    The plot shows that cash is most preferred payment. We assume that Mexico is cash-driven economy. So we are not considering it unusual and leaving it as-is.\n",
    "    </span>"
   ]
  },
  {
   "cell_type": "code",
   "execution_count": 15,
   "metadata": {},
   "outputs": [
    {
     "data": {
      "image/png": "[encoded data removed]",
      "text/plain": [
       "<Figure size 432x288 with 1 Axes>"
      ]
     },
     "metadata": {},
     "output_type": "display_data"
    }
   ],
   "source": [
    "ax1 = sns.countplot(data = res_parking, x='parking_lot')\n",
    "plt.show()"
   ]
  },
  {
   "cell_type": "markdown",
   "metadata": {},
   "source": [
    "<span style=\"color:blue\">\n",
    "The plot shows that majority of the restaurants do not have parking. We assume parking is an important feature. We would like to see the user preferences and then decide again whether parking plays an important role.\n",
    "</span>    "
   ]
  },
  {
   "cell_type": "code",
   "execution_count": 16,
   "metadata": {},
   "outputs": [
    {
     "data": {
      "image/png": "[encoded data removed]",
      "text/plain": [
       "<Figure size 432x288 with 1 Axes>"
      ]
     },
     "metadata": {},
     "output_type": "display_data"
    }
   ],
   "source": [
    "ax = sns.countplot(data = res_geo, x='alcohol')\n",
    "plt.show()"
   ]
  },
  {
   "cell_type": "markdown",
   "metadata": {},
   "source": [
    "<span style=\"color:blue\">\n",
    "The plot shows that majority of the restaurants do not serve alcohol.\n",
    "</span> "
   ]
  },
  {
   "cell_type": "code",
   "execution_count": 17,
   "metadata": {},
   "outputs": [
    {
     "data": {
      "image/png": "[encoded data removed]",
      "text/plain": [
       "<Figure size 432x288 with 1 Axes>"
      ]
     },
     "metadata": {},
     "output_type": "display_data"
    }
   ],
   "source": [
    "ax = sns.countplot(data = res_geo, x='smoking_area')\n",
    "plt.show()"
   ]
  },
  {
   "cell_type": "markdown",
   "metadata": {},
   "source": [
    "<span style=\"color:blue\">\n",
    "The plot shows that majority of the restaurants do not have designated areas for smoking.\n",
    "</span> "
   ]
  },
  {
   "cell_type": "code",
   "execution_count": 18,
   "metadata": {},
   "outputs": [
    {
     "data": {
      "image/png": "[encoded data removed]",
      "text/plain": [
       "<Figure size 432x288 with 1 Axes>"
      ]
     },
     "metadata": {},
     "output_type": "display_data"
    }
   ],
   "source": [
    "ax = sns.countplot(data = res_geo, x='dress_code')\n",
    "plt.show()"
   ]
  },
  {
   "cell_type": "markdown",
   "metadata": {},
   "source": [
    "<span style=\"color:blue\">\n",
    "The plot shows that majority of the restaurants have informal dress code. We assume this is a general pattern.\n",
    "</span> "
   ]
  },
  {
   "cell_type": "code",
   "execution_count": 19,
   "metadata": {},
   "outputs": [
    {
     "data": {
      "image/png": "[encoded data removed]",
      "text/plain": [
       "<Figure size 432x288 with 1 Axes>"
      ]
     },
     "metadata": {},
     "output_type": "display_data"
    }
   ],
   "source": [
    "ax = sns.countplot(data = res_geo, x='price')\n",
    "plt.show()"
   ]
  },
  {
   "cell_type": "markdown",
   "metadata": {},
   "source": [
    "<span style=\"color:blue\">\n",
    "The plot shows that there are significant number of restaurants in each price category. This makes the sample representative of population\n",
    "</span> "
   ]
  },
  {
   "cell_type": "code",
   "execution_count": 20,
   "metadata": {},
   "outputs": [
    {
     "data": {
      "image/png": "[encoded data removed]",
      "text/plain": [
       "<Figure size 432x288 with 1 Axes>"
      ]
     },
     "metadata": {},
     "output_type": "display_data"
    }
   ],
   "source": [
    "ax = sns.countplot(data = res_geo, x='Rambience')\n",
    "plt.show()"
   ]
  },
  {
   "cell_type": "markdown",
   "metadata": {},
   "source": [
    "<span style=\"color:blue\">\n",
    "The plot shows that majority of the restaurants have a familiar ambience. This makes sense and we assume restaurants generally have a familiar ambience and this is not an outlier.\n",
    "</span> "
   ]
  },
  {
   "cell_type": "code",
   "execution_count": 21,
   "metadata": {},
   "outputs": [
    {
     "data": {
      "image/png": "[encoded data removed]",
      "text/plain": [
       "<Figure size 432x288 with 1 Axes>"
      ]
     },
     "metadata": {},
     "output_type": "display_data"
    }
   ],
   "source": [
    "ax = sns.countplot(data = res_geo, x='area')\n",
    "plt.show()"
   ]
  },
  {
   "cell_type": "markdown",
   "metadata": {},
   "source": [
    "<span style=\"color:blue\">\n",
    "The plot shows that majority of the restaurants have closed areas. This makes sense and we assume restaurants usually have closed spaces.\n",
    "</span> "
   ]
  },
  {
   "cell_type": "markdown",
   "metadata": {},
   "source": [
    "Based on above data, we can notice that there is an agreement/similar pattern between users and restaurants.\n",
    "\n",
    "1) Most of the users prefer cash and most restaurants accept cash than credit/debit cards. \n",
    "\n",
    "2) Most of the users use public transport and most restaurants do not provide parking.\n",
    "\n",
    "3) Most of the users prefer low to medium budget and most restaurants are low to medium priced.\n",
    "\n",
    "4) Most of the users prefer family and friendly ambiences and most restaurants have familiar ambience\n",
    "\n",
    "So there is a mutual representation of restaurant profile and user preferences"
   ]
  },
  {
   "cell_type": "markdown",
   "metadata": {},
   "source": [
    "## Step 2: Data cleaning is completed."
   ]
  },
  {
   "cell_type": "markdown",
   "metadata": {},
   "source": [
    "## Step 3: Data Integration begins! "
   ]
  },
  {
   "cell_type": "markdown",
   "metadata": {},
   "source": [
    "<span style=\"color:blue\">\n",
    "We have seen in the Step-1 that there are multiple rows for a given place ID. For example, a restaurant offers different type of parking options. these options are currently divided into several rows for a restaurant. We are performing the steps below to perform data integration:\n",
    "</span>\n",
    "\n",
    "<span style=\"color:blue\">\n",
    "1) Combine multiple rows for a given placeID\n",
    "</span>\n",
    "\n",
    "<span style=\"color:blue\">\n",
    "2) Merge dataframes for a given placeID\n",
    "</span>"
   ]
  },
  {
   "cell_type": "code",
   "execution_count": 22,
   "metadata": {},
   "outputs": [],
   "source": [
    "#The below function is created to combine multiple rows for a given placeID\n",
    "def create_resdictdf(res_df):\n",
    "    merge_column = res_df.columns[1]\n",
    "    placeID_list = res_df['placeID'].unique()\n",
    "    res_col_dict = {}\n",
    "    for placeID in placeID_list:\n",
    "        res_col_list = res_df[merge_column][res_df['placeID']==placeID].tolist()\n",
    "        res_col_dict[placeID] = res_col_list\n",
    "\n",
    "    res_dictdf = pd.DataFrame(columns= res_df.columns)\n",
    "    for key in res_col_dict:\n",
    "        res_dictdf = res_dictdf.append({'placeID':key, merge_column: res_col_dict[key]}, ignore_index = True)\n",
    "    \n",
    "    res_dictdf['placeID'] = res_dictdf['placeID'].astype('int64')\n",
    "    return res_dictdf"
   ]
  },
  {
   "cell_type": "code",
   "execution_count": 23,
   "metadata": {},
   "outputs": [
    {
     "name": "stdout",
     "output_type": "stream",
     "text": [
      "   placeID                                           Rpayment\n",
      "0   135110  [cash, VISA, MasterCard-Eurocard, American_Exp...\n",
      "1   135109                                             [cash]\n",
      "2   135107  [cash, VISA, MasterCard-Eurocard, American_Exp...\n",
      "   placeID parking_lot\n",
      "0   135111    [public]\n",
      "1   135110      [none]\n",
      "2   135109      [none]\n"
     ]
    }
   ],
   "source": [
    "res_payment1 = create_resdictdf(res_payment)\n",
    "print(res_payment1.head(3))\n",
    "res_parking1 = create_resdictdf(res_parking)\n",
    "print(res_parking1.head(3))\n"
   ]
  },
  {
   "cell_type": "code",
   "execution_count": 24,
   "metadata": {},
   "outputs": [
    {
     "name": "stdout",
     "output_type": "stream",
     "text": [
      "   placeID                                         days_hours\n",
      "0   135111  [[Mon;Tue;Wed;Thu;Fri;]:[00:00-23:30;], [Sat;]...\n",
      "1   135110  [[Mon;Tue;Wed;Thu;Fri;]:[08:00-19:00;], [Sat;]...\n",
      "2   135109  [[Mon;Tue;Wed;Thu;Fri;]:[08:00-21:00;], [Sat;]...\n"
     ]
    }
   ],
   "source": [
    "# Doing it similarly for hours data. The hours data differs to that of parking or cuisine or payment.\n",
    "# So we are writing a new function here.\n",
    "res_hours['days_hours'] = '[' + res_hours['days'] + ']:[' + res_hours['hours'] + ']'\n",
    "placeID_list = res_hours['placeID'].unique()\n",
    "res_hours_dict = {}\n",
    "for placeID in placeID_list:\n",
    "    res_hours_list = res_hours['days_hours'][res_hours['placeID']==placeID].tolist()\n",
    "    res_hours_dict[placeID] = res_hours_list\n",
    "    \n",
    "res_hours1 = pd.DataFrame(columns= ['placeID', 'days_hours'])\n",
    "for key in res_hours_dict:\n",
    "    res_hours1 = res_hours1.append({'placeID':key, 'days_hours': res_hours_dict[key]}, ignore_index = True)\n",
    "\n",
    "res_hours1['placeID'] = res_hours1['placeID'].astype('int64') \n",
    "print(res_hours1.head(3))"
   ]
  },
  {
   "cell_type": "markdown",
   "metadata": {},
   "source": [
    "<span style=\"color:blue\">\n",
    "The rows in three dataframes res_hours, res_parking and res_payment are combined.\n",
    "For res_cuisine we cannot perform the above because the cuisines are one of the top most important features in predicting the top restaurants.So we would like to perform one hot encoding to transform the values\n",
    "    </span>"
   ]
  },
  {
   "cell_type": "code",
   "execution_count": 25,
   "metadata": {},
   "outputs": [
    {
     "data": {
      "text/html": [
       "<div>\n",
       "<style scoped>\n",
       "    .dataframe tbody tr th:only-of-type {\n",
       "        vertical-align: middle;\n",
       "    }\n",
       "\n",
       "    .dataframe tbody tr th {\n",
       "        vertical-align: top;\n",
       "    }\n",
       "\n",
       "    .dataframe thead th {\n",
       "        text-align: right;\n",
       "    }\n",
       "</style>\n",
       "<table border=\"1\" class=\"dataframe\">\n",
       "  <thead>\n",
       "    <tr style=\"text-align: right;\">\n",
       "      <th></th>\n",
       "      <th>placeID</th>\n",
       "      <th>Rcuisine_Afghan</th>\n",
       "      <th>Rcuisine_African</th>\n",
       "      <th>Rcuisine_American</th>\n",
       "      <th>Rcuisine_Armenian</th>\n",
       "      <th>Rcuisine_Asian</th>\n",
       "      <th>Rcuisine_Bagels</th>\n",
       "      <th>Rcuisine_Bakery</th>\n",
       "      <th>Rcuisine_Bar</th>\n",
       "      <th>Rcuisine_Bar_Pub_Brewery</th>\n",
       "      <th>...</th>\n",
       "      <th>Rcuisine_Soup</th>\n",
       "      <th>Rcuisine_Southern</th>\n",
       "      <th>Rcuisine_Southwestern</th>\n",
       "      <th>Rcuisine_Spanish</th>\n",
       "      <th>Rcuisine_Steaks</th>\n",
       "      <th>Rcuisine_Sushi</th>\n",
       "      <th>Rcuisine_Thai</th>\n",
       "      <th>Rcuisine_Turkish</th>\n",
       "      <th>Rcuisine_Vegetarian</th>\n",
       "      <th>Rcuisine_Vietnamese</th>\n",
       "    </tr>\n",
       "  </thead>\n",
       "  <tbody>\n",
       "    <tr>\n",
       "      <th>0</th>\n",
       "      <td>132001</td>\n",
       "      <td>0</td>\n",
       "      <td>0</td>\n",
       "      <td>0</td>\n",
       "      <td>0</td>\n",
       "      <td>0</td>\n",
       "      <td>0</td>\n",
       "      <td>0</td>\n",
       "      <td>0</td>\n",
       "      <td>0</td>\n",
       "      <td>...</td>\n",
       "      <td>0</td>\n",
       "      <td>0</td>\n",
       "      <td>0</td>\n",
       "      <td>0</td>\n",
       "      <td>0</td>\n",
       "      <td>0</td>\n",
       "      <td>0</td>\n",
       "      <td>0</td>\n",
       "      <td>0</td>\n",
       "      <td>0</td>\n",
       "    </tr>\n",
       "    <tr>\n",
       "      <th>1</th>\n",
       "      <td>132002</td>\n",
       "      <td>0</td>\n",
       "      <td>0</td>\n",
       "      <td>0</td>\n",
       "      <td>0</td>\n",
       "      <td>0</td>\n",
       "      <td>0</td>\n",
       "      <td>0</td>\n",
       "      <td>0</td>\n",
       "      <td>0</td>\n",
       "      <td>...</td>\n",
       "      <td>0</td>\n",
       "      <td>0</td>\n",
       "      <td>0</td>\n",
       "      <td>0</td>\n",
       "      <td>0</td>\n",
       "      <td>0</td>\n",
       "      <td>0</td>\n",
       "      <td>0</td>\n",
       "      <td>0</td>\n",
       "      <td>0</td>\n",
       "    </tr>\n",
       "    <tr>\n",
       "      <th>2</th>\n",
       "      <td>132003</td>\n",
       "      <td>0</td>\n",
       "      <td>0</td>\n",
       "      <td>0</td>\n",
       "      <td>0</td>\n",
       "      <td>0</td>\n",
       "      <td>0</td>\n",
       "      <td>0</td>\n",
       "      <td>0</td>\n",
       "      <td>0</td>\n",
       "      <td>...</td>\n",
       "      <td>0</td>\n",
       "      <td>0</td>\n",
       "      <td>0</td>\n",
       "      <td>0</td>\n",
       "      <td>0</td>\n",
       "      <td>0</td>\n",
       "      <td>0</td>\n",
       "      <td>0</td>\n",
       "      <td>0</td>\n",
       "      <td>0</td>\n",
       "    </tr>\n",
       "    <tr>\n",
       "      <th>3</th>\n",
       "      <td>132004</td>\n",
       "      <td>0</td>\n",
       "      <td>0</td>\n",
       "      <td>0</td>\n",
       "      <td>0</td>\n",
       "      <td>0</td>\n",
       "      <td>0</td>\n",
       "      <td>0</td>\n",
       "      <td>0</td>\n",
       "      <td>0</td>\n",
       "      <td>...</td>\n",
       "      <td>0</td>\n",
       "      <td>0</td>\n",
       "      <td>0</td>\n",
       "      <td>0</td>\n",
       "      <td>0</td>\n",
       "      <td>0</td>\n",
       "      <td>0</td>\n",
       "      <td>0</td>\n",
       "      <td>0</td>\n",
       "      <td>0</td>\n",
       "    </tr>\n",
       "    <tr>\n",
       "      <th>4</th>\n",
       "      <td>132005</td>\n",
       "      <td>0</td>\n",
       "      <td>0</td>\n",
       "      <td>0</td>\n",
       "      <td>0</td>\n",
       "      <td>0</td>\n",
       "      <td>0</td>\n",
       "      <td>0</td>\n",
       "      <td>0</td>\n",
       "      <td>0</td>\n",
       "      <td>...</td>\n",
       "      <td>0</td>\n",
       "      <td>0</td>\n",
       "      <td>0</td>\n",
       "      <td>0</td>\n",
       "      <td>0</td>\n",
       "      <td>0</td>\n",
       "      <td>0</td>\n",
       "      <td>0</td>\n",
       "      <td>0</td>\n",
       "      <td>0</td>\n",
       "    </tr>\n",
       "  </tbody>\n",
       "</table>\n",
       "<p>5 rows × 60 columns</p>\n",
       "</div>"
      ],
      "text/plain": [
       "   placeID  Rcuisine_Afghan  Rcuisine_African  Rcuisine_American  \\\n",
       "0   132001                0                 0                  0   \n",
       "1   132002                0                 0                  0   \n",
       "2   132003                0                 0                  0   \n",
       "3   132004                0                 0                  0   \n",
       "4   132005                0                 0                  0   \n",
       "\n",
       "   Rcuisine_Armenian  Rcuisine_Asian  Rcuisine_Bagels  Rcuisine_Bakery  \\\n",
       "0                  0               0                0                0   \n",
       "1                  0               0                0                0   \n",
       "2                  0               0                0                0   \n",
       "3                  0               0                0                0   \n",
       "4                  0               0                0                0   \n",
       "\n",
       "   Rcuisine_Bar  Rcuisine_Bar_Pub_Brewery         ...           Rcuisine_Soup  \\\n",
       "0             0                         0         ...                       0   \n",
       "1             0                         0         ...                       0   \n",
       "2             0                         0         ...                       0   \n",
       "3             0                         0         ...                       0   \n",
       "4             0                         0         ...                       0   \n",
       "\n",
       "   Rcuisine_Southern  Rcuisine_Southwestern  Rcuisine_Spanish  \\\n",
       "0                  0                      0                 0   \n",
       "1                  0                      0                 0   \n",
       "2                  0                      0                 0   \n",
       "3                  0                      0                 0   \n",
       "4                  0                      0                 0   \n",
       "\n",
       "   Rcuisine_Steaks  Rcuisine_Sushi  Rcuisine_Thai  Rcuisine_Turkish  \\\n",
       "0                0               0              0                 0   \n",
       "1                0               0              0                 0   \n",
       "2                0               0              0                 0   \n",
       "3                0               0              0                 0   \n",
       "4                0               0              0                 0   \n",
       "\n",
       "   Rcuisine_Vegetarian  Rcuisine_Vietnamese  \n",
       "0                    0                    0  \n",
       "1                    0                    0  \n",
       "2                    0                    0  \n",
       "3                    0                    0  \n",
       "4                    0                    0  \n",
       "\n",
       "[5 rows x 60 columns]"
      ]
     },
     "execution_count": 25,
     "metadata": {},
     "output_type": "execute_result"
    }
   ],
   "source": [
    "res_cuisine1 = pd.get_dummies(res_cuisine,columns=['Rcuisine'])\n",
    "res_cuisine1 = res_cuisine1.groupby('placeID',as_index=False).sum()\n",
    "res_cuisine1.head()"
   ]
  },
  {
   "cell_type": "code",
   "execution_count": 26,
   "metadata": {},
   "outputs": [
    {
     "name": "stdout",
     "output_type": "stream",
     "text": [
      "0\n"
     ]
    }
   ],
   "source": [
    "print(res_cuisine1.isnull().sum().sum())"
   ]
  },
  {
   "cell_type": "markdown",
   "metadata": {},
   "source": [
    "<span style=\"color:blue\">\n",
    "Now we have merged all the rows for each restaurant data file for a given placeID.\n",
    "</span>\n",
    "\n",
    "\n",
    "<span style=\"color:blue\">\n",
    "When we combine all the 5 data files we can calculate the total number of restuarants.\n",
    "</span>"
   ]
  },
  {
   "cell_type": "code",
   "execution_count": 27,
   "metadata": {},
   "outputs": [
    {
     "name": "stdout",
     "output_type": "stream",
     "text": [
      "Total number of restaurants 938.\n"
     ]
    }
   ],
   "source": [
    "total_no_restuarants = res_payment['placeID']\n",
    "total_no_restuarants = total_no_restuarants.append([res_cuisine['placeID'],\n",
    "                                                    res_hours['placeID'],\n",
    "                                                    res_parking['placeID'], \n",
    "                                                    res_geo['placeID']])\n",
    "total_no_restuarants = total_no_restuarants.drop_duplicates()\n",
    "print(\"Total number of restaurants {}.\".format(len(total_no_restuarants)))"
   ]
  },
  {
   "cell_type": "code",
   "execution_count": 28,
   "metadata": {},
   "outputs": [
    {
     "name": "stdout",
     "output_type": "stream",
     "text": [
      "    placeID\n",
      "0    135110\n",
      "5    135109\n",
      "6    135107\n",
      "11   135106\n",
      "14   135105\n"
     ]
    }
   ],
   "source": [
    "res_total = pd.DataFrame(total_no_restuarants)\n",
    "print(res_total.head())"
   ]
  },
  {
   "cell_type": "code",
   "execution_count": 29,
   "metadata": {},
   "outputs": [
    {
     "data": {
      "text/html": [
       "<div>\n",
       "<style scoped>\n",
       "    .dataframe tbody tr th:only-of-type {\n",
       "        vertical-align: middle;\n",
       "    }\n",
       "\n",
       "    .dataframe tbody tr th {\n",
       "        vertical-align: top;\n",
       "    }\n",
       "\n",
       "    .dataframe thead th {\n",
       "        text-align: right;\n",
       "    }\n",
       "</style>\n",
       "<table border=\"1\" class=\"dataframe\">\n",
       "  <thead>\n",
       "    <tr style=\"text-align: right;\">\n",
       "      <th></th>\n",
       "      <th>placeID</th>\n",
       "    </tr>\n",
       "  </thead>\n",
       "  <tbody>\n",
       "    <tr>\n",
       "      <th>0</th>\n",
       "      <td>135110</td>\n",
       "    </tr>\n",
       "    <tr>\n",
       "      <th>1</th>\n",
       "      <td>135109</td>\n",
       "    </tr>\n",
       "    <tr>\n",
       "      <th>2</th>\n",
       "      <td>135107</td>\n",
       "    </tr>\n",
       "    <tr>\n",
       "      <th>3</th>\n",
       "      <td>135106</td>\n",
       "    </tr>\n",
       "    <tr>\n",
       "      <th>4</th>\n",
       "      <td>135105</td>\n",
       "    </tr>\n",
       "  </tbody>\n",
       "</table>\n",
       "</div>"
      ],
      "text/plain": [
       "   placeID\n",
       "0   135110\n",
       "1   135109\n",
       "2   135107\n",
       "3   135106\n",
       "4   135105"
      ]
     },
     "execution_count": 29,
     "metadata": {},
     "output_type": "execute_result"
    }
   ],
   "source": [
    "res_total = res_total.reset_index(drop=True)\n",
    "res_total.head()"
   ]
  },
  {
   "cell_type": "markdown",
   "metadata": {},
   "source": [
    "<span style=\"color:blue\">\n",
    "Merging all restaurant data into one dataframe\n",
    "</span>"
   ]
  },
  {
   "cell_type": "code",
   "execution_count": 30,
   "metadata": {
    "scrolled": true
   },
   "outputs": [
    {
     "data": {
      "text/html": [
       "<div>\n",
       "<style scoped>\n",
       "    .dataframe tbody tr th:only-of-type {\n",
       "        vertical-align: middle;\n",
       "    }\n",
       "\n",
       "    .dataframe tbody tr th {\n",
       "        vertical-align: top;\n",
       "    }\n",
       "\n",
       "    .dataframe thead th {\n",
       "        text-align: right;\n",
       "    }\n",
       "</style>\n",
       "<table border=\"1\" class=\"dataframe\">\n",
       "  <thead>\n",
       "    <tr style=\"text-align: right;\">\n",
       "      <th></th>\n",
       "      <th>placeID</th>\n",
       "      <th>Rpayment</th>\n",
       "      <th>Rcuisine_Afghan</th>\n",
       "      <th>Rcuisine_African</th>\n",
       "      <th>Rcuisine_American</th>\n",
       "      <th>Rcuisine_Armenian</th>\n",
       "      <th>Rcuisine_Asian</th>\n",
       "      <th>Rcuisine_Bagels</th>\n",
       "      <th>Rcuisine_Bakery</th>\n",
       "      <th>Rcuisine_Bar</th>\n",
       "      <th>...</th>\n",
       "      <th>alcohol</th>\n",
       "      <th>smoking_area</th>\n",
       "      <th>dress_code</th>\n",
       "      <th>accessibility</th>\n",
       "      <th>price</th>\n",
       "      <th>url</th>\n",
       "      <th>Rambience</th>\n",
       "      <th>franchise</th>\n",
       "      <th>area</th>\n",
       "      <th>other_services</th>\n",
       "    </tr>\n",
       "  </thead>\n",
       "  <tbody>\n",
       "    <tr>\n",
       "      <th>0</th>\n",
       "      <td>135110</td>\n",
       "      <td>[cash, VISA, MasterCard-Eurocard, American_Exp...</td>\n",
       "      <td>0.0</td>\n",
       "      <td>0.0</td>\n",
       "      <td>0.0</td>\n",
       "      <td>0.0</td>\n",
       "      <td>0.0</td>\n",
       "      <td>0.0</td>\n",
       "      <td>0.0</td>\n",
       "      <td>0.0</td>\n",
       "      <td>...</td>\n",
       "      <td>NaN</td>\n",
       "      <td>NaN</td>\n",
       "      <td>NaN</td>\n",
       "      <td>NaN</td>\n",
       "      <td>NaN</td>\n",
       "      <td>NaN</td>\n",
       "      <td>NaN</td>\n",
       "      <td>NaN</td>\n",
       "      <td>NaN</td>\n",
       "      <td>NaN</td>\n",
       "    </tr>\n",
       "    <tr>\n",
       "      <th>1</th>\n",
       "      <td>135109</td>\n",
       "      <td>[cash]</td>\n",
       "      <td>0.0</td>\n",
       "      <td>0.0</td>\n",
       "      <td>0.0</td>\n",
       "      <td>0.0</td>\n",
       "      <td>0.0</td>\n",
       "      <td>0.0</td>\n",
       "      <td>0.0</td>\n",
       "      <td>0.0</td>\n",
       "      <td>...</td>\n",
       "      <td>Wine-Beer</td>\n",
       "      <td>not permitted</td>\n",
       "      <td>informal</td>\n",
       "      <td>no_accessibility</td>\n",
       "      <td>medium</td>\n",
       "      <td>?</td>\n",
       "      <td>quiet</td>\n",
       "      <td>f</td>\n",
       "      <td>closed</td>\n",
       "      <td>Internet</td>\n",
       "    </tr>\n",
       "    <tr>\n",
       "      <th>2</th>\n",
       "      <td>135107</td>\n",
       "      <td>[cash, VISA, MasterCard-Eurocard, American_Exp...</td>\n",
       "      <td>0.0</td>\n",
       "      <td>0.0</td>\n",
       "      <td>0.0</td>\n",
       "      <td>0.0</td>\n",
       "      <td>0.0</td>\n",
       "      <td>0.0</td>\n",
       "      <td>0.0</td>\n",
       "      <td>0.0</td>\n",
       "      <td>...</td>\n",
       "      <td>NaN</td>\n",
       "      <td>NaN</td>\n",
       "      <td>NaN</td>\n",
       "      <td>NaN</td>\n",
       "      <td>NaN</td>\n",
       "      <td>NaN</td>\n",
       "      <td>NaN</td>\n",
       "      <td>NaN</td>\n",
       "      <td>NaN</td>\n",
       "      <td>NaN</td>\n",
       "    </tr>\n",
       "    <tr>\n",
       "      <th>3</th>\n",
       "      <td>135106</td>\n",
       "      <td>[cash, VISA, MasterCard-Eurocard]</td>\n",
       "      <td>0.0</td>\n",
       "      <td>0.0</td>\n",
       "      <td>0.0</td>\n",
       "      <td>0.0</td>\n",
       "      <td>0.0</td>\n",
       "      <td>0.0</td>\n",
       "      <td>0.0</td>\n",
       "      <td>0.0</td>\n",
       "      <td>...</td>\n",
       "      <td>Wine-Beer</td>\n",
       "      <td>only at bar</td>\n",
       "      <td>informal</td>\n",
       "      <td>partially</td>\n",
       "      <td>medium</td>\n",
       "      <td>?</td>\n",
       "      <td>familiar</td>\n",
       "      <td>f</td>\n",
       "      <td>open</td>\n",
       "      <td>none</td>\n",
       "    </tr>\n",
       "    <tr>\n",
       "      <th>4</th>\n",
       "      <td>135105</td>\n",
       "      <td>[cash]</td>\n",
       "      <td>0.0</td>\n",
       "      <td>0.0</td>\n",
       "      <td>0.0</td>\n",
       "      <td>0.0</td>\n",
       "      <td>0.0</td>\n",
       "      <td>0.0</td>\n",
       "      <td>0.0</td>\n",
       "      <td>0.0</td>\n",
       "      <td>...</td>\n",
       "      <td>NaN</td>\n",
       "      <td>NaN</td>\n",
       "      <td>NaN</td>\n",
       "      <td>NaN</td>\n",
       "      <td>NaN</td>\n",
       "      <td>NaN</td>\n",
       "      <td>NaN</td>\n",
       "      <td>NaN</td>\n",
       "      <td>NaN</td>\n",
       "      <td>NaN</td>\n",
       "    </tr>\n",
       "  </tbody>\n",
       "</table>\n",
       "<p>5 rows × 83 columns</p>\n",
       "</div>"
      ],
      "text/plain": [
       "   placeID                                           Rpayment  \\\n",
       "0   135110  [cash, VISA, MasterCard-Eurocard, American_Exp...   \n",
       "1   135109                                             [cash]   \n",
       "2   135107  [cash, VISA, MasterCard-Eurocard, American_Exp...   \n",
       "3   135106                  [cash, VISA, MasterCard-Eurocard]   \n",
       "4   135105                                             [cash]   \n",
       "\n",
       "   Rcuisine_Afghan  Rcuisine_African  Rcuisine_American  Rcuisine_Armenian  \\\n",
       "0              0.0               0.0                0.0                0.0   \n",
       "1              0.0               0.0                0.0                0.0   \n",
       "2              0.0               0.0                0.0                0.0   \n",
       "3              0.0               0.0                0.0                0.0   \n",
       "4              0.0               0.0                0.0                0.0   \n",
       "\n",
       "   Rcuisine_Asian  Rcuisine_Bagels  Rcuisine_Bakery  Rcuisine_Bar  \\\n",
       "0             0.0              0.0              0.0           0.0   \n",
       "1             0.0              0.0              0.0           0.0   \n",
       "2             0.0              0.0              0.0           0.0   \n",
       "3             0.0              0.0              0.0           0.0   \n",
       "4             0.0              0.0              0.0           0.0   \n",
       "\n",
       "        ...          alcohol   smoking_area  dress_code     accessibility  \\\n",
       "0       ...              NaN            NaN         NaN               NaN   \n",
       "1       ...        Wine-Beer  not permitted    informal  no_accessibility   \n",
       "2       ...              NaN            NaN         NaN               NaN   \n",
       "3       ...        Wine-Beer    only at bar    informal         partially   \n",
       "4       ...              NaN            NaN         NaN               NaN   \n",
       "\n",
       "    price  url  Rambience  franchise    area  other_services  \n",
       "0     NaN  NaN        NaN        NaN     NaN             NaN  \n",
       "1  medium    ?      quiet          f  closed        Internet  \n",
       "2     NaN  NaN        NaN        NaN     NaN             NaN  \n",
       "3  medium    ?   familiar          f    open            none  \n",
       "4     NaN  NaN        NaN        NaN     NaN             NaN  \n",
       "\n",
       "[5 rows x 83 columns]"
      ]
     },
     "execution_count": 30,
     "metadata": {},
     "output_type": "execute_result"
    }
   ],
   "source": [
    "res_total = pd.merge(left= res_total, right= res_payment1, how='left',  on='placeID')\n",
    "res_total = pd.merge(left= res_total, right= res_cuisine1, how='left', on='placeID')\n",
    "res_total = pd.merge(left= res_total, right= res_hours1, how='left', on='placeID')\n",
    "res_total = pd.merge(left= res_total, right= res_parking1, how='left', on='placeID')\n",
    "res_total = pd.merge(left= res_total, right= res_geo, how='left', on='placeID')\n",
    "res_total.head()"
   ]
  },
  {
   "cell_type": "code",
   "execution_count": 31,
   "metadata": {},
   "outputs": [
    {
     "name": "stdout",
     "output_type": "stream",
     "text": [
      "(938, 83)\n"
     ]
    }
   ],
   "source": [
    "print(res_total.shape)"
   ]
  },
  {
   "cell_type": "markdown",
   "metadata": {},
   "source": [
    "<span style=\"color:blue\">\n",
    "So now, res_total is the final dataframe containing restaurant level data.\n",
    "On the other hand, we have users data in 3 reports\n",
    "Similar to restaurants, there are multiple rows for one user. So we are combining these rows into one\n",
    "</span>"
   ]
  },
  {
   "cell_type": "code",
   "execution_count": 32,
   "metadata": {},
   "outputs": [],
   "source": [
    "# We are creating a function below to combine multiple rows for user dataframe into one.\n",
    "def create_userdictdf(user_df):\n",
    "    merge_column = user_df.columns[1]\n",
    "    userID_list = user_df['userID'].unique()\n",
    "    user_col_dict = {}\n",
    "    for userID in userID_list:\n",
    "        user_col_list = user_df[merge_column][user_df['userID']==userID].tolist()\n",
    "        user_col_dict[userID] = user_col_list\n",
    "\n",
    "    user_dictdf = pd.DataFrame(columns= user_df.columns)\n",
    "    for key in user_col_dict:\n",
    "        user_dictdf = user_dictdf.append({'userID':key, merge_column: user_col_dict[key]}, ignore_index = True)\n",
    "    \n",
    "    return user_dictdf"
   ]
  },
  {
   "cell_type": "code",
   "execution_count": 33,
   "metadata": {},
   "outputs": [
    {
     "data": {
      "text/html": [
       "<div>\n",
       "<style scoped>\n",
       "    .dataframe tbody tr th:only-of-type {\n",
       "        vertical-align: middle;\n",
       "    }\n",
       "\n",
       "    .dataframe tbody tr th {\n",
       "        vertical-align: top;\n",
       "    }\n",
       "\n",
       "    .dataframe thead th {\n",
       "        text-align: right;\n",
       "    }\n",
       "</style>\n",
       "<table border=\"1\" class=\"dataframe\">\n",
       "  <thead>\n",
       "    <tr style=\"text-align: right;\">\n",
       "      <th></th>\n",
       "      <th>userID</th>\n",
       "      <th>Rcuisine</th>\n",
       "    </tr>\n",
       "  </thead>\n",
       "  <tbody>\n",
       "    <tr>\n",
       "      <th>0</th>\n",
       "      <td>U1001</td>\n",
       "      <td>[American]</td>\n",
       "    </tr>\n",
       "    <tr>\n",
       "      <th>1</th>\n",
       "      <td>U1002</td>\n",
       "      <td>[Mexican]</td>\n",
       "    </tr>\n",
       "    <tr>\n",
       "      <th>2</th>\n",
       "      <td>U1003</td>\n",
       "      <td>[Mexican]</td>\n",
       "    </tr>\n",
       "    <tr>\n",
       "      <th>3</th>\n",
       "      <td>U1004</td>\n",
       "      <td>[Bakery, Breakfast-Brunch, Japanese, Contempor...</td>\n",
       "    </tr>\n",
       "    <tr>\n",
       "      <th>4</th>\n",
       "      <td>U1005</td>\n",
       "      <td>[American]</td>\n",
       "    </tr>\n",
       "  </tbody>\n",
       "</table>\n",
       "</div>"
      ],
      "text/plain": [
       "  userID                                           Rcuisine\n",
       "0  U1001                                         [American]\n",
       "1  U1002                                          [Mexican]\n",
       "2  U1003                                          [Mexican]\n",
       "3  U1004  [Bakery, Breakfast-Brunch, Japanese, Contempor...\n",
       "4  U1005                                         [American]"
      ]
     },
     "execution_count": 33,
     "metadata": {},
     "output_type": "execute_result"
    }
   ],
   "source": [
    "user_cuisine1 = create_userdictdf(user_cuisine)\n",
    "user_payment1 = create_userdictdf(user_payment)\n",
    "user_cuisine1.head()"
   ]
  },
  {
   "cell_type": "code",
   "execution_count": 34,
   "metadata": {},
   "outputs": [
    {
     "data": {
      "text/html": [
       "<div>\n",
       "<style scoped>\n",
       "    .dataframe tbody tr th:only-of-type {\n",
       "        vertical-align: middle;\n",
       "    }\n",
       "\n",
       "    .dataframe tbody tr th {\n",
       "        vertical-align: top;\n",
       "    }\n",
       "\n",
       "    .dataframe thead th {\n",
       "        text-align: right;\n",
       "    }\n",
       "</style>\n",
       "<table border=\"1\" class=\"dataframe\">\n",
       "  <thead>\n",
       "    <tr style=\"text-align: right;\">\n",
       "      <th></th>\n",
       "      <th>userID</th>\n",
       "      <th>Upayment</th>\n",
       "    </tr>\n",
       "  </thead>\n",
       "  <tbody>\n",
       "    <tr>\n",
       "      <th>0</th>\n",
       "      <td>U1001</td>\n",
       "      <td>[cash]</td>\n",
       "    </tr>\n",
       "    <tr>\n",
       "      <th>1</th>\n",
       "      <td>U1002</td>\n",
       "      <td>[cash]</td>\n",
       "    </tr>\n",
       "    <tr>\n",
       "      <th>2</th>\n",
       "      <td>U1003</td>\n",
       "      <td>[cash]</td>\n",
       "    </tr>\n",
       "    <tr>\n",
       "      <th>3</th>\n",
       "      <td>U1004</td>\n",
       "      <td>[cash, bank_debit_cards]</td>\n",
       "    </tr>\n",
       "    <tr>\n",
       "      <th>4</th>\n",
       "      <td>U1005</td>\n",
       "      <td>[cash]</td>\n",
       "    </tr>\n",
       "  </tbody>\n",
       "</table>\n",
       "</div>"
      ],
      "text/plain": [
       "  userID                  Upayment\n",
       "0  U1001                    [cash]\n",
       "1  U1002                    [cash]\n",
       "2  U1003                    [cash]\n",
       "3  U1004  [cash, bank_debit_cards]\n",
       "4  U1005                    [cash]"
      ]
     },
     "execution_count": 34,
     "metadata": {},
     "output_type": "execute_result"
    }
   ],
   "source": [
    "user_payment1.head()"
   ]
  },
  {
   "cell_type": "code",
   "execution_count": 35,
   "metadata": {},
   "outputs": [
    {
     "data": {
      "text/html": [
       "<div>\n",
       "<style scoped>\n",
       "    .dataframe tbody tr th:only-of-type {\n",
       "        vertical-align: middle;\n",
       "    }\n",
       "\n",
       "    .dataframe tbody tr th {\n",
       "        vertical-align: top;\n",
       "    }\n",
       "\n",
       "    .dataframe thead th {\n",
       "        text-align: right;\n",
       "    }\n",
       "</style>\n",
       "<table border=\"1\" class=\"dataframe\">\n",
       "  <thead>\n",
       "    <tr style=\"text-align: right;\">\n",
       "      <th></th>\n",
       "      <th>userID</th>\n",
       "      <th>Rcuisine_Afghan</th>\n",
       "      <th>Rcuisine_African</th>\n",
       "      <th>Rcuisine_American</th>\n",
       "      <th>Rcuisine_Armenian</th>\n",
       "      <th>Rcuisine_Asian</th>\n",
       "      <th>Rcuisine_Australian</th>\n",
       "      <th>Rcuisine_Austrian</th>\n",
       "      <th>Rcuisine_Bagels</th>\n",
       "      <th>Rcuisine_Bakery</th>\n",
       "      <th>...</th>\n",
       "      <th>Rcuisine_Swiss</th>\n",
       "      <th>Rcuisine_Tapas</th>\n",
       "      <th>Rcuisine_Tea_House</th>\n",
       "      <th>Rcuisine_Tex-Mex</th>\n",
       "      <th>Rcuisine_Thai</th>\n",
       "      <th>Rcuisine_Tibetan</th>\n",
       "      <th>Rcuisine_Tunisian</th>\n",
       "      <th>Rcuisine_Turkish</th>\n",
       "      <th>Rcuisine_Vegetarian</th>\n",
       "      <th>Rcuisine_Vietnamese</th>\n",
       "    </tr>\n",
       "  </thead>\n",
       "  <tbody>\n",
       "    <tr>\n",
       "      <th>0</th>\n",
       "      <td>U1001</td>\n",
       "      <td>0</td>\n",
       "      <td>0</td>\n",
       "      <td>1</td>\n",
       "      <td>0</td>\n",
       "      <td>0</td>\n",
       "      <td>0</td>\n",
       "      <td>0</td>\n",
       "      <td>0</td>\n",
       "      <td>0</td>\n",
       "      <td>...</td>\n",
       "      <td>0</td>\n",
       "      <td>0</td>\n",
       "      <td>0</td>\n",
       "      <td>0</td>\n",
       "      <td>0</td>\n",
       "      <td>0</td>\n",
       "      <td>0</td>\n",
       "      <td>0</td>\n",
       "      <td>0</td>\n",
       "      <td>0</td>\n",
       "    </tr>\n",
       "    <tr>\n",
       "      <th>1</th>\n",
       "      <td>U1002</td>\n",
       "      <td>0</td>\n",
       "      <td>0</td>\n",
       "      <td>0</td>\n",
       "      <td>0</td>\n",
       "      <td>0</td>\n",
       "      <td>0</td>\n",
       "      <td>0</td>\n",
       "      <td>0</td>\n",
       "      <td>0</td>\n",
       "      <td>...</td>\n",
       "      <td>0</td>\n",
       "      <td>0</td>\n",
       "      <td>0</td>\n",
       "      <td>0</td>\n",
       "      <td>0</td>\n",
       "      <td>0</td>\n",
       "      <td>0</td>\n",
       "      <td>0</td>\n",
       "      <td>0</td>\n",
       "      <td>0</td>\n",
       "    </tr>\n",
       "    <tr>\n",
       "      <th>2</th>\n",
       "      <td>U1003</td>\n",
       "      <td>0</td>\n",
       "      <td>0</td>\n",
       "      <td>0</td>\n",
       "      <td>0</td>\n",
       "      <td>0</td>\n",
       "      <td>0</td>\n",
       "      <td>0</td>\n",
       "      <td>0</td>\n",
       "      <td>0</td>\n",
       "      <td>...</td>\n",
       "      <td>0</td>\n",
       "      <td>0</td>\n",
       "      <td>0</td>\n",
       "      <td>0</td>\n",
       "      <td>0</td>\n",
       "      <td>0</td>\n",
       "      <td>0</td>\n",
       "      <td>0</td>\n",
       "      <td>0</td>\n",
       "      <td>0</td>\n",
       "    </tr>\n",
       "    <tr>\n",
       "      <th>3</th>\n",
       "      <td>U1004</td>\n",
       "      <td>0</td>\n",
       "      <td>0</td>\n",
       "      <td>0</td>\n",
       "      <td>0</td>\n",
       "      <td>0</td>\n",
       "      <td>0</td>\n",
       "      <td>0</td>\n",
       "      <td>1</td>\n",
       "      <td>1</td>\n",
       "      <td>...</td>\n",
       "      <td>0</td>\n",
       "      <td>0</td>\n",
       "      <td>0</td>\n",
       "      <td>0</td>\n",
       "      <td>0</td>\n",
       "      <td>0</td>\n",
       "      <td>0</td>\n",
       "      <td>0</td>\n",
       "      <td>0</td>\n",
       "      <td>0</td>\n",
       "    </tr>\n",
       "    <tr>\n",
       "      <th>4</th>\n",
       "      <td>U1005</td>\n",
       "      <td>0</td>\n",
       "      <td>0</td>\n",
       "      <td>1</td>\n",
       "      <td>0</td>\n",
       "      <td>0</td>\n",
       "      <td>0</td>\n",
       "      <td>0</td>\n",
       "      <td>0</td>\n",
       "      <td>0</td>\n",
       "      <td>...</td>\n",
       "      <td>0</td>\n",
       "      <td>0</td>\n",
       "      <td>0</td>\n",
       "      <td>0</td>\n",
       "      <td>0</td>\n",
       "      <td>0</td>\n",
       "      <td>0</td>\n",
       "      <td>0</td>\n",
       "      <td>0</td>\n",
       "      <td>0</td>\n",
       "    </tr>\n",
       "  </tbody>\n",
       "</table>\n",
       "<p>5 rows × 104 columns</p>\n",
       "</div>"
      ],
      "text/plain": [
       "  userID  Rcuisine_Afghan  Rcuisine_African  Rcuisine_American  \\\n",
       "0  U1001                0                 0                  1   \n",
       "1  U1002                0                 0                  0   \n",
       "2  U1003                0                 0                  0   \n",
       "3  U1004                0                 0                  0   \n",
       "4  U1005                0                 0                  1   \n",
       "\n",
       "   Rcuisine_Armenian  Rcuisine_Asian  Rcuisine_Australian  Rcuisine_Austrian  \\\n",
       "0                  0               0                    0                  0   \n",
       "1                  0               0                    0                  0   \n",
       "2                  0               0                    0                  0   \n",
       "3                  0               0                    0                  0   \n",
       "4                  0               0                    0                  0   \n",
       "\n",
       "   Rcuisine_Bagels  Rcuisine_Bakery         ...           Rcuisine_Swiss  \\\n",
       "0                0                0         ...                        0   \n",
       "1                0                0         ...                        0   \n",
       "2                0                0         ...                        0   \n",
       "3                1                1         ...                        0   \n",
       "4                0                0         ...                        0   \n",
       "\n",
       "   Rcuisine_Tapas  Rcuisine_Tea_House  Rcuisine_Tex-Mex  Rcuisine_Thai  \\\n",
       "0               0                   0                 0              0   \n",
       "1               0                   0                 0              0   \n",
       "2               0                   0                 0              0   \n",
       "3               0                   0                 0              0   \n",
       "4               0                   0                 0              0   \n",
       "\n",
       "   Rcuisine_Tibetan  Rcuisine_Tunisian  Rcuisine_Turkish  Rcuisine_Vegetarian  \\\n",
       "0                 0                  0                 0                    0   \n",
       "1                 0                  0                 0                    0   \n",
       "2                 0                  0                 0                    0   \n",
       "3                 0                  0                 0                    0   \n",
       "4                 0                  0                 0                    0   \n",
       "\n",
       "   Rcuisine_Vietnamese  \n",
       "0                    0  \n",
       "1                    0  \n",
       "2                    0  \n",
       "3                    0  \n",
       "4                    0  \n",
       "\n",
       "[5 rows x 104 columns]"
      ]
     },
     "execution_count": 35,
     "metadata": {},
     "output_type": "execute_result"
    }
   ],
   "source": [
    "user_cuisine1 = pd.get_dummies(user_cuisine,columns=['Rcuisine'])\n",
    "user_cuisine1 = user_cuisine1.groupby('userID',as_index=False).sum()\n",
    "user_cuisine1.head()"
   ]
  },
  {
   "cell_type": "markdown",
   "metadata": {},
   "source": [
    "<span style=\"color:blue\">\n",
    "    Now we have merged all the rows for each user data file for a given userID.\n",
    "When we combine all the 3 data files we can calculate the total number of users.\n",
    "    </span>"
   ]
  },
  {
   "cell_type": "code",
   "execution_count": 36,
   "metadata": {},
   "outputs": [
    {
     "name": "stdout",
     "output_type": "stream",
     "text": [
      "Total number of users 138.\n"
     ]
    }
   ],
   "source": [
    "total_no_users = user_cuisine1['userID']\n",
    "total_no_users = total_no_users.append([user_payment1['userID'],\n",
    "                                                    user_profile['userID']])\n",
    "total_no_users = total_no_users.drop_duplicates()\n",
    "print(\"Total number of users {}.\".format(len(total_no_users)))"
   ]
  },
  {
   "cell_type": "code",
   "execution_count": 37,
   "metadata": {},
   "outputs": [
    {
     "data": {
      "text/html": [
       "<div>\n",
       "<style scoped>\n",
       "    .dataframe tbody tr th:only-of-type {\n",
       "        vertical-align: middle;\n",
       "    }\n",
       "\n",
       "    .dataframe tbody tr th {\n",
       "        vertical-align: top;\n",
       "    }\n",
       "\n",
       "    .dataframe thead th {\n",
       "        text-align: right;\n",
       "    }\n",
       "</style>\n",
       "<table border=\"1\" class=\"dataframe\">\n",
       "  <thead>\n",
       "    <tr style=\"text-align: right;\">\n",
       "      <th></th>\n",
       "      <th>userID</th>\n",
       "    </tr>\n",
       "  </thead>\n",
       "  <tbody>\n",
       "    <tr>\n",
       "      <th>0</th>\n",
       "      <td>U1001</td>\n",
       "    </tr>\n",
       "    <tr>\n",
       "      <th>1</th>\n",
       "      <td>U1002</td>\n",
       "    </tr>\n",
       "    <tr>\n",
       "      <th>2</th>\n",
       "      <td>U1003</td>\n",
       "    </tr>\n",
       "    <tr>\n",
       "      <th>3</th>\n",
       "      <td>U1004</td>\n",
       "    </tr>\n",
       "    <tr>\n",
       "      <th>4</th>\n",
       "      <td>U1005</td>\n",
       "    </tr>\n",
       "  </tbody>\n",
       "</table>\n",
       "</div>"
      ],
      "text/plain": [
       "  userID\n",
       "0  U1001\n",
       "1  U1002\n",
       "2  U1003\n",
       "3  U1004\n",
       "4  U1005"
      ]
     },
     "execution_count": 37,
     "metadata": {},
     "output_type": "execute_result"
    }
   ],
   "source": [
    "user_total = pd.DataFrame(total_no_users)\n",
    "user_total.head()"
   ]
  },
  {
   "cell_type": "code",
   "execution_count": 38,
   "metadata": {},
   "outputs": [
    {
     "data": {
      "text/html": [
       "<div>\n",
       "<style scoped>\n",
       "    .dataframe tbody tr th:only-of-type {\n",
       "        vertical-align: middle;\n",
       "    }\n",
       "\n",
       "    .dataframe tbody tr th {\n",
       "        vertical-align: top;\n",
       "    }\n",
       "\n",
       "    .dataframe thead th {\n",
       "        text-align: right;\n",
       "    }\n",
       "</style>\n",
       "<table border=\"1\" class=\"dataframe\">\n",
       "  <thead>\n",
       "    <tr style=\"text-align: right;\">\n",
       "      <th></th>\n",
       "      <th>userID</th>\n",
       "    </tr>\n",
       "  </thead>\n",
       "  <tbody>\n",
       "    <tr>\n",
       "      <th>0</th>\n",
       "      <td>U1001</td>\n",
       "    </tr>\n",
       "    <tr>\n",
       "      <th>1</th>\n",
       "      <td>U1002</td>\n",
       "    </tr>\n",
       "    <tr>\n",
       "      <th>2</th>\n",
       "      <td>U1003</td>\n",
       "    </tr>\n",
       "    <tr>\n",
       "      <th>3</th>\n",
       "      <td>U1004</td>\n",
       "    </tr>\n",
       "    <tr>\n",
       "      <th>4</th>\n",
       "      <td>U1005</td>\n",
       "    </tr>\n",
       "  </tbody>\n",
       "</table>\n",
       "</div>"
      ],
      "text/plain": [
       "  userID\n",
       "0  U1001\n",
       "1  U1002\n",
       "2  U1003\n",
       "3  U1004\n",
       "4  U1005"
      ]
     },
     "execution_count": 38,
     "metadata": {},
     "output_type": "execute_result"
    }
   ],
   "source": [
    "user_total = user_total.reset_index(drop=True)\n",
    "user_total.head()"
   ]
  },
  {
   "cell_type": "code",
   "execution_count": 39,
   "metadata": {},
   "outputs": [
    {
     "data": {
      "text/html": [
       "<div>\n",
       "<style scoped>\n",
       "    .dataframe tbody tr th:only-of-type {\n",
       "        vertical-align: middle;\n",
       "    }\n",
       "\n",
       "    .dataframe tbody tr th {\n",
       "        vertical-align: top;\n",
       "    }\n",
       "\n",
       "    .dataframe thead th {\n",
       "        text-align: right;\n",
       "    }\n",
       "</style>\n",
       "<table border=\"1\" class=\"dataframe\">\n",
       "  <thead>\n",
       "    <tr style=\"text-align: right;\">\n",
       "      <th></th>\n",
       "      <th>userID</th>\n",
       "      <th>latitude</th>\n",
       "      <th>longitude</th>\n",
       "      <th>smoker</th>\n",
       "      <th>drink_level</th>\n",
       "      <th>dress_preference</th>\n",
       "      <th>ambience</th>\n",
       "      <th>transport</th>\n",
       "      <th>marital_status</th>\n",
       "      <th>hijos</th>\n",
       "      <th>...</th>\n",
       "      <th>Rcuisine_Tapas</th>\n",
       "      <th>Rcuisine_Tea_House</th>\n",
       "      <th>Rcuisine_Tex-Mex</th>\n",
       "      <th>Rcuisine_Thai</th>\n",
       "      <th>Rcuisine_Tibetan</th>\n",
       "      <th>Rcuisine_Tunisian</th>\n",
       "      <th>Rcuisine_Turkish</th>\n",
       "      <th>Rcuisine_Vegetarian</th>\n",
       "      <th>Rcuisine_Vietnamese</th>\n",
       "      <th>Upayment</th>\n",
       "    </tr>\n",
       "  </thead>\n",
       "  <tbody>\n",
       "    <tr>\n",
       "      <th>0</th>\n",
       "      <td>U1001</td>\n",
       "      <td>22.139997</td>\n",
       "      <td>-100.978803</td>\n",
       "      <td>false</td>\n",
       "      <td>abstemious</td>\n",
       "      <td>informal</td>\n",
       "      <td>family</td>\n",
       "      <td>on foot</td>\n",
       "      <td>single</td>\n",
       "      <td>independent</td>\n",
       "      <td>...</td>\n",
       "      <td>0</td>\n",
       "      <td>0</td>\n",
       "      <td>0</td>\n",
       "      <td>0</td>\n",
       "      <td>0</td>\n",
       "      <td>0</td>\n",
       "      <td>0</td>\n",
       "      <td>0</td>\n",
       "      <td>0</td>\n",
       "      <td>[cash]</td>\n",
       "    </tr>\n",
       "    <tr>\n",
       "      <th>1</th>\n",
       "      <td>U1002</td>\n",
       "      <td>22.150087</td>\n",
       "      <td>-100.983325</td>\n",
       "      <td>false</td>\n",
       "      <td>abstemious</td>\n",
       "      <td>informal</td>\n",
       "      <td>family</td>\n",
       "      <td>public</td>\n",
       "      <td>single</td>\n",
       "      <td>independent</td>\n",
       "      <td>...</td>\n",
       "      <td>0</td>\n",
       "      <td>0</td>\n",
       "      <td>0</td>\n",
       "      <td>0</td>\n",
       "      <td>0</td>\n",
       "      <td>0</td>\n",
       "      <td>0</td>\n",
       "      <td>0</td>\n",
       "      <td>0</td>\n",
       "      <td>[cash]</td>\n",
       "    </tr>\n",
       "    <tr>\n",
       "      <th>2</th>\n",
       "      <td>U1003</td>\n",
       "      <td>22.119847</td>\n",
       "      <td>-100.946527</td>\n",
       "      <td>false</td>\n",
       "      <td>social drinker</td>\n",
       "      <td>formal</td>\n",
       "      <td>family</td>\n",
       "      <td>public</td>\n",
       "      <td>single</td>\n",
       "      <td>independent</td>\n",
       "      <td>...</td>\n",
       "      <td>0</td>\n",
       "      <td>0</td>\n",
       "      <td>0</td>\n",
       "      <td>0</td>\n",
       "      <td>0</td>\n",
       "      <td>0</td>\n",
       "      <td>0</td>\n",
       "      <td>0</td>\n",
       "      <td>0</td>\n",
       "      <td>[cash]</td>\n",
       "    </tr>\n",
       "    <tr>\n",
       "      <th>3</th>\n",
       "      <td>U1004</td>\n",
       "      <td>18.867000</td>\n",
       "      <td>-99.183000</td>\n",
       "      <td>false</td>\n",
       "      <td>abstemious</td>\n",
       "      <td>informal</td>\n",
       "      <td>family</td>\n",
       "      <td>public</td>\n",
       "      <td>single</td>\n",
       "      <td>independent</td>\n",
       "      <td>...</td>\n",
       "      <td>0</td>\n",
       "      <td>0</td>\n",
       "      <td>0</td>\n",
       "      <td>0</td>\n",
       "      <td>0</td>\n",
       "      <td>0</td>\n",
       "      <td>0</td>\n",
       "      <td>0</td>\n",
       "      <td>0</td>\n",
       "      <td>[cash, bank_debit_cards]</td>\n",
       "    </tr>\n",
       "    <tr>\n",
       "      <th>4</th>\n",
       "      <td>U1005</td>\n",
       "      <td>22.183477</td>\n",
       "      <td>-100.959891</td>\n",
       "      <td>false</td>\n",
       "      <td>abstemious</td>\n",
       "      <td>no preference</td>\n",
       "      <td>family</td>\n",
       "      <td>public</td>\n",
       "      <td>single</td>\n",
       "      <td>independent</td>\n",
       "      <td>...</td>\n",
       "      <td>0</td>\n",
       "      <td>0</td>\n",
       "      <td>0</td>\n",
       "      <td>0</td>\n",
       "      <td>0</td>\n",
       "      <td>0</td>\n",
       "      <td>0</td>\n",
       "      <td>0</td>\n",
       "      <td>0</td>\n",
       "      <td>[cash]</td>\n",
       "    </tr>\n",
       "  </tbody>\n",
       "</table>\n",
       "<p>5 rows × 123 columns</p>\n",
       "</div>"
      ],
      "text/plain": [
       "  userID   latitude   longitude smoker     drink_level dress_preference  \\\n",
       "0  U1001  22.139997 -100.978803  false      abstemious         informal   \n",
       "1  U1002  22.150087 -100.983325  false      abstemious         informal   \n",
       "2  U1003  22.119847 -100.946527  false  social drinker           formal   \n",
       "3  U1004  18.867000  -99.183000  false      abstemious         informal   \n",
       "4  U1005  22.183477 -100.959891  false      abstemious    no preference   \n",
       "\n",
       "  ambience transport marital_status        hijos            ...             \\\n",
       "0   family   on foot         single  independent            ...              \n",
       "1   family    public         single  independent            ...              \n",
       "2   family    public         single  independent            ...              \n",
       "3   family    public         single  independent            ...              \n",
       "4   family    public         single  independent            ...              \n",
       "\n",
       "   Rcuisine_Tapas Rcuisine_Tea_House Rcuisine_Tex-Mex Rcuisine_Thai  \\\n",
       "0               0                  0                0             0   \n",
       "1               0                  0                0             0   \n",
       "2               0                  0                0             0   \n",
       "3               0                  0                0             0   \n",
       "4               0                  0                0             0   \n",
       "\n",
       "  Rcuisine_Tibetan Rcuisine_Tunisian  Rcuisine_Turkish Rcuisine_Vegetarian  \\\n",
       "0                0                 0                 0                   0   \n",
       "1                0                 0                 0                   0   \n",
       "2                0                 0                 0                   0   \n",
       "3                0                 0                 0                   0   \n",
       "4                0                 0                 0                   0   \n",
       "\n",
       "   Rcuisine_Vietnamese                  Upayment  \n",
       "0                    0                    [cash]  \n",
       "1                    0                    [cash]  \n",
       "2                    0                    [cash]  \n",
       "3                    0  [cash, bank_debit_cards]  \n",
       "4                    0                    [cash]  \n",
       "\n",
       "[5 rows x 123 columns]"
      ]
     },
     "execution_count": 39,
     "metadata": {},
     "output_type": "execute_result"
    }
   ],
   "source": [
    "user_total = pd.merge(left= user_total, right= user_profile, how='left', on='userID')\n",
    "user_total = pd.merge(left= user_total, right= user_cuisine1, how='left', on='userID')\n",
    "user_total = pd.merge(left= user_total, right= user_payment1, how='left', on='userID')\n",
    "\n",
    "user_total.head()"
   ]
  },
  {
   "cell_type": "code",
   "execution_count": 40,
   "metadata": {},
   "outputs": [
    {
     "data": {
      "text/plain": [
       "(138, 123)"
      ]
     },
     "execution_count": 40,
     "metadata": {},
     "output_type": "execute_result"
    }
   ],
   "source": [
    "user_total.shape"
   ]
  },
  {
   "cell_type": "markdown",
   "metadata": {},
   "source": [
    "<span style=\"color:blue\">\n",
    "So now, user_total is the final dataframe containing all user level data.\n",
    "Overall we have integrated data from 9 reports to 3 dataframes - res_total, user_total, final_rating\n",
    "</span>\n"
   ]
  },
  {
   "cell_type": "markdown",
   "metadata": {},
   "source": [
    "## Step 3: Data Integration is completed"
   ]
  },
  {
   "cell_type": "markdown",
   "metadata": {},
   "source": [
    "## Step 4: Data Reduction begins!"
   ]
  },
  {
   "cell_type": "markdown",
   "metadata": {},
   "source": [
    "<span style=\"color:blue\">\n",
    "Now we would like to perform **data reduction** by aiming to reduce the rows and features.\n",
    "The final rating data contains the actual restaurants containing ratings. So we would like to focus only on these restaurants.\n",
    "</span>"
   ]
  },
  {
   "cell_type": "code",
   "execution_count": 41,
   "metadata": {},
   "outputs": [
    {
     "name": "stdout",
     "output_type": "stream",
     "text": [
      "(938, 83)\n",
      "(1161, 5)\n",
      "(130, 83)\n"
     ]
    }
   ],
   "source": [
    "print(res_total.shape)\n",
    "print(final_rating.shape)\n",
    "final_rating_placeID_list = final_rating['placeID'].unique()\n",
    "res_total = res_total[res_total['placeID'].isin(final_rating_placeID_list)]\n",
    "print(res_total.shape)"
   ]
  },
  {
   "cell_type": "code",
   "execution_count": 42,
   "metadata": {},
   "outputs": [
    {
     "data": {
      "text/html": [
       "<div>\n",
       "<style scoped>\n",
       "    .dataframe tbody tr th:only-of-type {\n",
       "        vertical-align: middle;\n",
       "    }\n",
       "\n",
       "    .dataframe tbody tr th {\n",
       "        vertical-align: top;\n",
       "    }\n",
       "\n",
       "    .dataframe thead th {\n",
       "        text-align: right;\n",
       "    }\n",
       "</style>\n",
       "<table border=\"1\" class=\"dataframe\">\n",
       "  <thead>\n",
       "    <tr style=\"text-align: right;\">\n",
       "      <th></th>\n",
       "      <th>placeID</th>\n",
       "      <th>Rpayment</th>\n",
       "      <th>Rcuisine_Afghan</th>\n",
       "      <th>Rcuisine_African</th>\n",
       "      <th>Rcuisine_American</th>\n",
       "      <th>Rcuisine_Armenian</th>\n",
       "      <th>Rcuisine_Asian</th>\n",
       "      <th>Rcuisine_Bagels</th>\n",
       "      <th>Rcuisine_Bakery</th>\n",
       "      <th>Rcuisine_Bar</th>\n",
       "      <th>...</th>\n",
       "      <th>alcohol</th>\n",
       "      <th>smoking_area</th>\n",
       "      <th>dress_code</th>\n",
       "      <th>accessibility</th>\n",
       "      <th>price</th>\n",
       "      <th>url</th>\n",
       "      <th>Rambience</th>\n",
       "      <th>franchise</th>\n",
       "      <th>area</th>\n",
       "      <th>other_services</th>\n",
       "    </tr>\n",
       "  </thead>\n",
       "  <tbody>\n",
       "    <tr>\n",
       "      <th>0</th>\n",
       "      <td>135109</td>\n",
       "      <td>[cash]</td>\n",
       "      <td>0.0</td>\n",
       "      <td>0.0</td>\n",
       "      <td>0.0</td>\n",
       "      <td>0.0</td>\n",
       "      <td>0.0</td>\n",
       "      <td>0.0</td>\n",
       "      <td>0.0</td>\n",
       "      <td>0.0</td>\n",
       "      <td>...</td>\n",
       "      <td>Wine-Beer</td>\n",
       "      <td>not permitted</td>\n",
       "      <td>informal</td>\n",
       "      <td>no_accessibility</td>\n",
       "      <td>medium</td>\n",
       "      <td>?</td>\n",
       "      <td>quiet</td>\n",
       "      <td>f</td>\n",
       "      <td>closed</td>\n",
       "      <td>Internet</td>\n",
       "    </tr>\n",
       "    <tr>\n",
       "      <th>1</th>\n",
       "      <td>135106</td>\n",
       "      <td>[cash, VISA, MasterCard-Eurocard]</td>\n",
       "      <td>0.0</td>\n",
       "      <td>0.0</td>\n",
       "      <td>0.0</td>\n",
       "      <td>0.0</td>\n",
       "      <td>0.0</td>\n",
       "      <td>0.0</td>\n",
       "      <td>0.0</td>\n",
       "      <td>0.0</td>\n",
       "      <td>...</td>\n",
       "      <td>Wine-Beer</td>\n",
       "      <td>only at bar</td>\n",
       "      <td>informal</td>\n",
       "      <td>partially</td>\n",
       "      <td>medium</td>\n",
       "      <td>?</td>\n",
       "      <td>familiar</td>\n",
       "      <td>f</td>\n",
       "      <td>open</td>\n",
       "      <td>none</td>\n",
       "    </tr>\n",
       "    <tr>\n",
       "      <th>2</th>\n",
       "      <td>135104</td>\n",
       "      <td>[cash, VISA, MasterCard-Eurocard]</td>\n",
       "      <td>0.0</td>\n",
       "      <td>0.0</td>\n",
       "      <td>0.0</td>\n",
       "      <td>0.0</td>\n",
       "      <td>0.0</td>\n",
       "      <td>0.0</td>\n",
       "      <td>0.0</td>\n",
       "      <td>0.0</td>\n",
       "      <td>...</td>\n",
       "      <td>Full_Bar</td>\n",
       "      <td>not permitted</td>\n",
       "      <td>informal</td>\n",
       "      <td>completely</td>\n",
       "      <td>medium</td>\n",
       "      <td>?</td>\n",
       "      <td>familiar</td>\n",
       "      <td>t</td>\n",
       "      <td>closed</td>\n",
       "      <td>variety</td>\n",
       "    </tr>\n",
       "    <tr>\n",
       "      <th>3</th>\n",
       "      <td>135088</td>\n",
       "      <td>[cash]</td>\n",
       "      <td>0.0</td>\n",
       "      <td>0.0</td>\n",
       "      <td>0.0</td>\n",
       "      <td>0.0</td>\n",
       "      <td>0.0</td>\n",
       "      <td>0.0</td>\n",
       "      <td>0.0</td>\n",
       "      <td>0.0</td>\n",
       "      <td>...</td>\n",
       "      <td>No_Alcohol_Served</td>\n",
       "      <td>not permitted</td>\n",
       "      <td>informal</td>\n",
       "      <td>no_accessibility</td>\n",
       "      <td>low</td>\n",
       "      <td>www.cenidet.edu.mx</td>\n",
       "      <td>quiet</td>\n",
       "      <td>f</td>\n",
       "      <td>closed</td>\n",
       "      <td>none</td>\n",
       "    </tr>\n",
       "    <tr>\n",
       "      <th>4</th>\n",
       "      <td>135086</td>\n",
       "      <td>[cash, VISA, MasterCard-Eurocard]</td>\n",
       "      <td>0.0</td>\n",
       "      <td>0.0</td>\n",
       "      <td>0.0</td>\n",
       "      <td>0.0</td>\n",
       "      <td>0.0</td>\n",
       "      <td>0.0</td>\n",
       "      <td>0.0</td>\n",
       "      <td>0.0</td>\n",
       "      <td>...</td>\n",
       "      <td>No_Alcohol_Served</td>\n",
       "      <td>not permitted</td>\n",
       "      <td>informal</td>\n",
       "      <td>no_accessibility</td>\n",
       "      <td>medium</td>\n",
       "      <td>?</td>\n",
       "      <td>familiar</td>\n",
       "      <td>t</td>\n",
       "      <td>closed</td>\n",
       "      <td>none</td>\n",
       "    </tr>\n",
       "  </tbody>\n",
       "</table>\n",
       "<p>5 rows × 83 columns</p>\n",
       "</div>"
      ],
      "text/plain": [
       "   placeID                           Rpayment  Rcuisine_Afghan  \\\n",
       "0   135109                             [cash]              0.0   \n",
       "1   135106  [cash, VISA, MasterCard-Eurocard]              0.0   \n",
       "2   135104  [cash, VISA, MasterCard-Eurocard]              0.0   \n",
       "3   135088                             [cash]              0.0   \n",
       "4   135086  [cash, VISA, MasterCard-Eurocard]              0.0   \n",
       "\n",
       "   Rcuisine_African  Rcuisine_American  Rcuisine_Armenian  Rcuisine_Asian  \\\n",
       "0               0.0                0.0                0.0             0.0   \n",
       "1               0.0                0.0                0.0             0.0   \n",
       "2               0.0                0.0                0.0             0.0   \n",
       "3               0.0                0.0                0.0             0.0   \n",
       "4               0.0                0.0                0.0             0.0   \n",
       "\n",
       "   Rcuisine_Bagels  Rcuisine_Bakery  Rcuisine_Bar       ...        \\\n",
       "0              0.0              0.0           0.0       ...         \n",
       "1              0.0              0.0           0.0       ...         \n",
       "2              0.0              0.0           0.0       ...         \n",
       "3              0.0              0.0           0.0       ...         \n",
       "4              0.0              0.0           0.0       ...         \n",
       "\n",
       "             alcohol   smoking_area  dress_code     accessibility   price  \\\n",
       "0          Wine-Beer  not permitted    informal  no_accessibility  medium   \n",
       "1          Wine-Beer    only at bar    informal         partially  medium   \n",
       "2           Full_Bar  not permitted    informal        completely  medium   \n",
       "3  No_Alcohol_Served  not permitted    informal  no_accessibility     low   \n",
       "4  No_Alcohol_Served  not permitted    informal  no_accessibility  medium   \n",
       "\n",
       "                  url  Rambience  franchise    area  other_services  \n",
       "0                   ?      quiet          f  closed        Internet  \n",
       "1                   ?   familiar          f    open            none  \n",
       "2                   ?   familiar          t  closed         variety  \n",
       "3  www.cenidet.edu.mx      quiet          f  closed            none  \n",
       "4                   ?   familiar          t  closed            none  \n",
       "\n",
       "[5 rows x 83 columns]"
      ]
     },
     "execution_count": 42,
     "metadata": {},
     "output_type": "execute_result"
    }
   ],
   "source": [
    "res_total = res_total.reset_index(drop=True)\n",
    "res_total.head()"
   ]
  },
  {
   "cell_type": "markdown",
   "metadata": {},
   "source": [
    "<span style=\"color:blue\">\n",
    "Given that user data does not contain any information regarding hours, the_geom_meter, and other features, we would like to drop these features from restaurant data. \n",
    "    </span>"
   ]
  },
  {
   "cell_type": "code",
   "execution_count": 43,
   "metadata": {},
   "outputs": [
    {
     "name": "stdout",
     "output_type": "stream",
     "text": [
      "(130, 83)\n",
      "(130, 72)\n"
     ]
    }
   ],
   "source": [
    "print(res_total.shape)\n",
    "res_total = res_total.drop(['days_hours','the_geom_meter','country', 'name', 'address', 'city', 'state','zip', 'latitude','longitude','fax'], axis=1)\n",
    "print(res_total.shape)"
   ]
  },
  {
   "cell_type": "code",
   "execution_count": 44,
   "metadata": {},
   "outputs": [
    {
     "name": "stdout",
     "output_type": "stream",
     "text": [
      "2081\n"
     ]
    }
   ],
   "source": [
    "print(res_total.isnull().sum().sum())"
   ]
  },
  {
   "cell_type": "code",
   "execution_count": 45,
   "metadata": {},
   "outputs": [
    {
     "name": "stdout",
     "output_type": "stream",
     "text": [
      "0\n"
     ]
    }
   ],
   "source": [
    "res_total = res_total.fillna(0)\n",
    "print(res_total.isnull().sum().sum())"
   ]
  },
  {
   "cell_type": "markdown",
   "metadata": {},
   "source": [
    "<span style=\"color:blue\">\n",
    "After we filtered the restaurants that have the rating, we can see that some of these restaurants do not have any values for some cuisines. All values are 0 in a given column. They would not add any valuable information. So we are dropping these columns\n",
    "    </span>"
   ]
  },
  {
   "cell_type": "code",
   "execution_count": 46,
   "metadata": {},
   "outputs": [
    {
     "name": "stdout",
     "output_type": "stream",
     "text": [
      "(130, 72)\n",
      "(130, 36)\n"
     ]
    }
   ],
   "source": [
    "print(res_total.shape)\n",
    "res_total = res_total.loc[:, (res_total != 0).any(axis=0)]\n",
    "print(res_total.shape)"
   ]
  },
  {
   "cell_type": "markdown",
   "metadata": {},
   "source": [
    "<span style=\"color:blue\">\n",
    "Similarly, there are many user features that we assume are not related to restaurant rating. These include: \n",
    "interest, personality,\treligion, activity,\tcolor,\tweight \n",
    "    </span>"
   ]
  },
  {
   "cell_type": "code",
   "execution_count": 47,
   "metadata": {},
   "outputs": [
    {
     "name": "stdout",
     "output_type": "stream",
     "text": [
      "(138, 123)\n",
      "(138, 111)\n"
     ]
    }
   ],
   "source": [
    "print(user_total.shape)\n",
    "user_total = user_total.drop(['religion','personality','activity', 'color', 'interest', 'weight', 'height', 'marital_status','hijos','latitude', 'longitude', 'birth_year'], axis=1)\n",
    "print(user_total.shape)"
   ]
  },
  {
   "cell_type": "code",
   "execution_count": 48,
   "metadata": {},
   "outputs": [],
   "source": [
    "user_total['Upayment'] = user_total['Upayment'].fillna('cash')"
   ]
  },
  {
   "cell_type": "code",
   "execution_count": 49,
   "metadata": {},
   "outputs": [
    {
     "name": "stdout",
     "output_type": "stream",
     "text": [
      "(138, 111)\n",
      "(138, 111)\n"
     ]
    }
   ],
   "source": [
    "print(user_total.shape)\n",
    "user_total = user_total.loc[:, (user_total != 0).any(axis=0)]\n",
    "print(user_total.shape)"
   ]
  },
  {
   "cell_type": "markdown",
   "metadata": {},
   "source": [
    "## Step 4: Data Reduction is now completed."
   ]
  },
  {
   "cell_type": "markdown",
   "metadata": {},
   "source": [
    "## Step 5: Data Transformation begins!"
   ]
  },
  {
   "cell_type": "markdown",
   "metadata": {},
   "source": [
    "<span style=\"color:blue\">\n",
    "For our analysis, we would need the data to be numeric.\n",
    "So here we are exploring data and make assumptions to map the data to numerical values.\n",
    "    </span>"
   ]
  },
  {
   "cell_type": "markdown",
   "metadata": {},
   "source": [
    "<span style=\"color:blue\">\n",
    "We will start with parking data by performing frequency distribution to explore the parking options\n",
    "    <span>"
   ]
  },
  {
   "cell_type": "code",
   "execution_count": 50,
   "metadata": {},
   "outputs": [
    {
     "name": "stdout",
     "output_type": "stream",
     "text": [
      "0\n"
     ]
    }
   ],
   "source": [
    "multiple_parking_rows = 0\n",
    "for k in res_total['parking_lot']:\n",
    "    if len(k) > 1:\n",
    "        multiple_parking_rows += 1\n",
    "        print('There are rows with multiple parking options')\n",
    "print(multiple_parking_rows)"
   ]
  },
  {
   "cell_type": "markdown",
   "metadata": {},
   "source": [
    "<span style=\"color:blue\">\n",
    "After we filtered the restaurants with ratings, all these 138 restaurants have only one parking option. So we are converting the list to the value\n",
    "    </span>"
   ]
  },
  {
   "cell_type": "code",
   "execution_count": 51,
   "metadata": {},
   "outputs": [
    {
     "data": {
      "text/plain": [
       "none             65\n",
       "yes              46\n",
       "public           16\n",
       "valet parking     3\n",
       "Name: parking_lot, dtype: int64"
      ]
     },
     "execution_count": 51,
     "metadata": {},
     "output_type": "execute_result"
    }
   ],
   "source": [
    "res_total['parking_lot'] = res_total['parking_lot'].apply(lambda x:x[0])\n",
    "res_total['parking_lot'].value_counts()"
   ]
  },
  {
   "cell_type": "markdown",
   "metadata": {},
   "source": [
    "<span style=\"color:blue\">\n",
    "Parking is one of the important features for a given restaurant, so if the restaurant has no parking then we will give a value of 0. If it is available, we will give a value 1.\n",
    "    </span>"
   ]
  },
  {
   "cell_type": "code",
   "execution_count": 52,
   "metadata": {},
   "outputs": [
    {
     "data": {
      "text/plain": [
       "1    65\n",
       "0    65\n",
       "Name: parking_lot, dtype: int64"
      ]
     },
     "execution_count": 52,
     "metadata": {},
     "output_type": "execute_result"
    }
   ],
   "source": [
    "res_total['parking_lot'] = res_total.parking_lot.map({'none':0, 'public':1, 'yes':1, 'valet parking':1})\n",
    "res_total['parking_lot'].value_counts()"
   ]
  },
  {
   "cell_type": "code",
   "execution_count": 53,
   "metadata": {},
   "outputs": [
    {
     "data": {
      "text/plain": [
       "No_Alcohol_Served    87\n",
       "Wine-Beer            34\n",
       "Full_Bar              9\n",
       "Name: alcohol, dtype: int64"
      ]
     },
     "execution_count": 53,
     "metadata": {},
     "output_type": "execute_result"
    }
   ],
   "source": [
    "res_total['alcohol'].value_counts()"
   ]
  },
  {
   "cell_type": "markdown",
   "metadata": {},
   "source": [
    "<span style=\"color:blue\">\n",
    "We assume alcohol to be a significant feature for a restaurant. So if the restaurant serves alcohol, we give it a value 1 and if not 0.</span>"
   ]
  },
  {
   "cell_type": "code",
   "execution_count": 54,
   "metadata": {},
   "outputs": [
    {
     "data": {
      "text/plain": [
       "0    87\n",
       "1    43\n",
       "Name: alcohol, dtype: int64"
      ]
     },
     "execution_count": 54,
     "metadata": {},
     "output_type": "execute_result"
    }
   ],
   "source": [
    "res_total['alcohol'] = res_total['alcohol'].map(lambda x: 0 if x == 'No_Alcohol_Served' else 1)\n",
    "res_total['alcohol'].value_counts()"
   ]
  },
  {
   "cell_type": "code",
   "execution_count": 55,
   "metadata": {},
   "outputs": [
    {
     "data": {
      "text/plain": [
       "none             70\n",
       "not permitted    25\n",
       "section          24\n",
       "permitted         9\n",
       "only at bar       2\n",
       "Name: smoking_area, dtype: int64"
      ]
     },
     "execution_count": 55,
     "metadata": {},
     "output_type": "execute_result"
    }
   ],
   "source": [
    "res_total['smoking_area'].value_counts()"
   ]
  },
  {
   "cell_type": "markdown",
   "metadata": {},
   "source": [
    "<span style=\"color:blue\">\n",
    "We assume that if a restaurant has a designated smoking area, it is a nice feature. So for values - 'section' and 'only at bar', we will give value 1 and all others 0\n",
    "    </span>"
   ]
  },
  {
   "cell_type": "code",
   "execution_count": 56,
   "metadata": {},
   "outputs": [
    {
     "data": {
      "text/plain": [
       "1    95\n",
       "0    35\n",
       "Name: smoking_area, dtype: int64"
      ]
     },
     "execution_count": 56,
     "metadata": {},
     "output_type": "execute_result"
    }
   ],
   "source": [
    "res_total['smoking_area'] = res_total['smoking_area'].map(lambda x: 1 if (x == 'none') | (x == 'not permitted') else 0)\n",
    "res_total['smoking_area'].value_counts()"
   ]
  },
  {
   "cell_type": "code",
   "execution_count": 57,
   "metadata": {},
   "outputs": [
    {
     "data": {
      "text/plain": [
       "none        119\n",
       "variety       7\n",
       "Internet      4\n",
       "Name: other_services, dtype: int64"
      ]
     },
     "execution_count": 57,
     "metadata": {},
     "output_type": "execute_result"
    }
   ],
   "source": [
    "res_total['other_services'].value_counts()"
   ]
  },
  {
   "cell_type": "markdown",
   "metadata": {},
   "source": [
    "<span style=\"color:blue\">\n",
    "If there is an additional service offered by the restaurant, we assume it will make the restaurant more welcoming. Therefore, we will give value 1 for any additional service and 0 if not offered.\n",
    "    </span>"
   ]
  },
  {
   "cell_type": "code",
   "execution_count": 58,
   "metadata": {},
   "outputs": [
    {
     "data": {
      "text/plain": [
       "0    119\n",
       "1     11\n",
       "Name: other_services, dtype: int64"
      ]
     },
     "execution_count": 58,
     "metadata": {},
     "output_type": "execute_result"
    }
   ],
   "source": [
    "res_total['other_services'] = res_total['other_services'].map(lambda x: 0 if x == 'none'  else 1)\n",
    "res_total['other_services'].value_counts()"
   ]
  },
  {
   "cell_type": "code",
   "execution_count": 59,
   "metadata": {},
   "outputs": [
    {
     "data": {
      "text/plain": [
       "medium    60\n",
       "low       45\n",
       "high      25\n",
       "Name: price, dtype: int64"
      ]
     },
     "execution_count": 59,
     "metadata": {},
     "output_type": "execute_result"
    }
   ],
   "source": [
    "res_total['price'].value_counts()"
   ]
  },
  {
   "cell_type": "markdown",
   "metadata": {},
   "source": [
    "<span style=\"color:blue\">\n",
    "We assume high priced restaurants generally offer better features. So we will give 1 for low, 2 for medium and 3 for high priced restauarants\n",
    "    </span>"
   ]
  },
  {
   "cell_type": "code",
   "execution_count": 60,
   "metadata": {},
   "outputs": [
    {
     "data": {
      "text/plain": [
       "2    60\n",
       "1    45\n",
       "3    25\n",
       "Name: price, dtype: int64"
      ]
     },
     "execution_count": 60,
     "metadata": {},
     "output_type": "execute_result"
    }
   ],
   "source": [
    "res_total['price'] = res_total['price'].map({'low': 1, 'medium': 2, 'high': 3})\n",
    "res_total['price'].value_counts()"
   ]
  },
  {
   "cell_type": "code",
   "execution_count": 61,
   "metadata": {},
   "outputs": [
    {
     "data": {
      "text/plain": [
       "informal    118\n",
       "casual       10\n",
       "formal        2\n",
       "Name: dress_code, dtype: int64"
      ]
     },
     "execution_count": 61,
     "metadata": {},
     "output_type": "execute_result"
    }
   ],
   "source": [
    "res_total['dress_code'].value_counts()"
   ]
  },
  {
   "cell_type": "markdown",
   "metadata": {},
   "source": [
    "<span style=\"color:blue\">\n",
    "Given that formal restaurants tend to have higher rating, we will give formal dress code value 1 and others 0\n",
    "    </span>"
   ]
  },
  {
   "cell_type": "code",
   "execution_count": 62,
   "metadata": {},
   "outputs": [
    {
     "data": {
      "text/plain": [
       "0    128\n",
       "1      2\n",
       "Name: dress_code, dtype: int64"
      ]
     },
     "execution_count": 62,
     "metadata": {},
     "output_type": "execute_result"
    }
   ],
   "source": [
    "res_total['dress_code'] = res_total['dress_code'].map({'informal':0, 'casual':0, 'formal': 1})\n",
    "res_total['dress_code'].value_counts()"
   ]
  },
  {
   "cell_type": "code",
   "execution_count": 63,
   "metadata": {},
   "outputs": [
    {
     "data": {
      "text/plain": [
       "no_accessibility    76\n",
       "completely          45\n",
       "partially            9\n",
       "Name: accessibility, dtype: int64"
      ]
     },
     "execution_count": 63,
     "metadata": {},
     "output_type": "execute_result"
    }
   ],
   "source": [
    "res_total['accessibility'].value_counts()"
   ]
  },
  {
   "cell_type": "markdown",
   "metadata": {},
   "source": [
    "<span style=\"color:blue\">\n",
    "An accessibility feature in a restaurant is an important feature and can be useful to the users. Therefore we are giving no accessbility as 0 and partial 1 and complete as 2\n",
    "    </span>"
   ]
  },
  {
   "cell_type": "code",
   "execution_count": 64,
   "metadata": {},
   "outputs": [
    {
     "data": {
      "text/plain": [
       "0    76\n",
       "2    45\n",
       "1     9\n",
       "Name: accessibility, dtype: int64"
      ]
     },
     "execution_count": 64,
     "metadata": {},
     "output_type": "execute_result"
    }
   ],
   "source": [
    "res_total['accessibility'] = res_total['accessibility'].map({'no_accessibility':0, 'partially':1, 'completely': 2})\n",
    "res_total['accessibility'].value_counts()"
   ]
  },
  {
   "cell_type": "code",
   "execution_count": 65,
   "metadata": {},
   "outputs": [
    {
     "data": {
      "text/plain": [
       "familiar    121\n",
       "quiet         9\n",
       "Name: Rambience, dtype: int64"
      ]
     },
     "execution_count": 65,
     "metadata": {},
     "output_type": "execute_result"
    }
   ],
   "source": [
    "res_total['Rambience'].value_counts()"
   ]
  },
  {
   "cell_type": "markdown",
   "metadata": {},
   "source": [
    "<span style=\"color:blue\">\n",
    "The dataset did not explain about the ambience. The word familiar for ambience is not fully self-explanatory. Given that most of the restaurants have familiar ambience, we will assign value 1 for familiar and 0 for quiet\n",
    "    </span>"
   ]
  },
  {
   "cell_type": "code",
   "execution_count": 66,
   "metadata": {},
   "outputs": [
    {
     "data": {
      "text/plain": [
       "1    121\n",
       "0      9\n",
       "Name: Rambience, dtype: int64"
      ]
     },
     "execution_count": 66,
     "metadata": {},
     "output_type": "execute_result"
    }
   ],
   "source": [
    "res_total['Rambience'] = res_total['Rambience'].map({'familiar':1, 'quiet': 0})\n",
    "res_total['Rambience'].value_counts()"
   ]
  },
  {
   "cell_type": "code",
   "execution_count": 67,
   "metadata": {},
   "outputs": [
    {
     "data": {
      "text/plain": [
       "closed    115\n",
       "open       15\n",
       "Name: area, dtype: int64"
      ]
     },
     "execution_count": 67,
     "metadata": {},
     "output_type": "execute_result"
    }
   ],
   "source": [
    "res_total['area'].value_counts()"
   ]
  },
  {
   "cell_type": "markdown",
   "metadata": {},
   "source": [
    "<span style=\"color:blue\">\n",
    "A closed restaurant might generally be favorable to a wide number of users. Therefore we are assigning value 1 to closed area restaurants and 0 to open areas restaurants."
   ]
  },
  {
   "cell_type": "code",
   "execution_count": 68,
   "metadata": {},
   "outputs": [
    {
     "data": {
      "text/plain": [
       "1    115\n",
       "0     15\n",
       "Name: area, dtype: int64"
      ]
     },
     "execution_count": 68,
     "metadata": {},
     "output_type": "execute_result"
    }
   ],
   "source": [
    "res_total['area'] = res_total['area'].map({'open':0, 'closed':1})\n",
    "res_total['area'].value_counts()"
   ]
  },
  {
   "cell_type": "code",
   "execution_count": 69,
   "metadata": {},
   "outputs": [
    {
     "data": {
      "text/plain": [
       "cash                   500\n",
       "MasterCard-Eurocard    194\n",
       "VISA                   172\n",
       "American_Express       153\n",
       "bank_debit_cards       130\n",
       "Visa                    83\n",
       "Diners_Club             42\n",
       "Discover                11\n",
       "checks                  10\n",
       "gift_certificates        7\n",
       "Carte_Blanche            7\n",
       "Japan_Credit_Bureau      5\n",
       "Name: Rpayment, dtype: int64"
      ]
     },
     "execution_count": 69,
     "metadata": {},
     "output_type": "execute_result"
    }
   ],
   "source": [
    "res_payment['Rpayment'].value_counts()"
   ]
  },
  {
   "cell_type": "code",
   "execution_count": 70,
   "metadata": {},
   "outputs": [
    {
     "data": {
      "text/plain": [
       "cash                   131\n",
       "bank_debit_cards        22\n",
       "VISA                    17\n",
       "MasterCard-Eurocard      4\n",
       "American_Express         3\n",
       "Name: Upayment, dtype: int64"
      ]
     },
     "execution_count": 70,
     "metadata": {},
     "output_type": "execute_result"
    }
   ],
   "source": [
    "user_payment['Upayment'].value_counts()"
   ]
  },
  {
   "cell_type": "code",
   "execution_count": 71,
   "metadata": {},
   "outputs": [],
   "source": [
    "user_payment['Upayment'] = user_payment['Upayment'].apply(lambda x:x[0] if type(x)==list else x)"
   ]
  },
  {
   "cell_type": "markdown",
   "metadata": {},
   "source": [
    "<span style=\"color:blue\">\n",
    "    Given that the dataset origin is from Mexico, based on our general knowledge, we assume people in Mexico would like to perform transactions in cash. So if the restaurant accepts cash, we would like give it a higher value of 2. If it does not accept cash, we would like to give it a value of 1"
   ]
  },
  {
   "cell_type": "code",
   "execution_count": 72,
   "metadata": {},
   "outputs": [],
   "source": [
    "res_total['Rpayment'] = res_total['Rpayment'].apply(lambda x:x[0] if type(x)==list else x)\n",
    "res_total['Rpayment'] = res_total['Rpayment'] .map({'cash':2, 'VISA':1})\n",
    "res_total['Rpayment'] = res_total['Rpayment'].fillna(0)\n",
    "res_total['Rpayment'] = res_total['Rpayment'].astype('int64')"
   ]
  },
  {
   "cell_type": "code",
   "execution_count": 73,
   "metadata": {},
   "outputs": [
    {
     "data": {
      "text/plain": [
       "f    108\n",
       "t     22\n",
       "Name: franchise, dtype: int64"
      ]
     },
     "execution_count": 73,
     "metadata": {},
     "output_type": "execute_result"
    }
   ],
   "source": [
    "res_total['franchise'].value_counts()"
   ]
  },
  {
   "cell_type": "markdown",
   "metadata": {},
   "source": [
    "<span style=\"color:blue\">\n",
    "The dataset did not explain the franchise feature. We assume f means franchise and also that  franchise restaurants are popular based on the above distribution of the restaurants. Therefore, we will assign value 1 for f and 0 otherwise"
   ]
  },
  {
   "cell_type": "code",
   "execution_count": 74,
   "metadata": {},
   "outputs": [
    {
     "data": {
      "text/plain": [
       "1    108\n",
       "0     22\n",
       "Name: franchise, dtype: int64"
      ]
     },
     "execution_count": 74,
     "metadata": {},
     "output_type": "execute_result"
    }
   ],
   "source": [
    "res_total['franchise'] = res_total['franchise'].map({'f':1, 't':0})\n",
    "res_total['franchise'].value_counts()"
   ]
  },
  {
   "cell_type": "code",
   "execution_count": 75,
   "metadata": {},
   "outputs": [
    {
     "data": {
      "text/plain": [
       "?                        116\n",
       "lacantinaslp.com           2\n",
       "www.cenidet.edu.mx         1\n",
       "lagranvia.com.mx           1\n",
       "sushi-itto.com.mx          1\n",
       "eloceanodorado.com         1\n",
       "lostoneles.com.mx          1\n",
       "chilis.com.mx              1\n",
       "lunacafe.com.mx            1\n",
       "no                         1\n",
       "lasmananitas.com.mx        1\n",
       "carlosandcharlies.com      1\n",
       "kikucuernavaca.com.mx      1\n",
       "reyecito.com               1\n",
       "Name: url, dtype: int64"
      ]
     },
     "execution_count": 75,
     "metadata": {},
     "output_type": "execute_result"
    }
   ],
   "source": [
    "res_total['url'].value_counts()"
   ]
  },
  {
   "cell_type": "markdown",
   "metadata": {},
   "source": [
    "<span style=\"color:blue\">\n",
    "A restaurant with URL is usually favourable to the users. In the dataset, there are many restaurants with url information indicated as '?'. We assume '?' means unknown and therefore assign value 1 when there is a url and 0 for all other cases."
   ]
  },
  {
   "cell_type": "code",
   "execution_count": 76,
   "metadata": {},
   "outputs": [
    {
     "data": {
      "text/plain": [
       "0    117\n",
       "1     13\n",
       "Name: url, dtype: int64"
      ]
     },
     "execution_count": 76,
     "metadata": {},
     "output_type": "execute_result"
    }
   ],
   "source": [
    "res_total['url'] = res_total['url'].replace('?',0)\n",
    "res_total['url'] = res_total['url'].replace('no',0)\n",
    "res_total['url'] = res_total['url'].apply(lambda x:1 if x!=0 else x)\n",
    "res_total['url'].value_counts()"
   ]
  },
  {
   "cell_type": "code",
   "execution_count": 77,
   "metadata": {},
   "outputs": [
    {
     "data": {
      "text/html": [
       "<div>\n",
       "<style scoped>\n",
       "    .dataframe tbody tr th:only-of-type {\n",
       "        vertical-align: middle;\n",
       "    }\n",
       "\n",
       "    .dataframe tbody tr th {\n",
       "        vertical-align: top;\n",
       "    }\n",
       "\n",
       "    .dataframe thead th {\n",
       "        text-align: right;\n",
       "    }\n",
       "</style>\n",
       "<table border=\"1\" class=\"dataframe\">\n",
       "  <thead>\n",
       "    <tr style=\"text-align: right;\">\n",
       "      <th></th>\n",
       "      <th>placeID</th>\n",
       "      <th>Rpayment</th>\n",
       "      <th>Rcuisine_American</th>\n",
       "      <th>Rcuisine_Armenian</th>\n",
       "      <th>Rcuisine_Bakery</th>\n",
       "      <th>Rcuisine_Bar</th>\n",
       "      <th>Rcuisine_Bar_Pub_Brewery</th>\n",
       "      <th>Rcuisine_Breakfast-Brunch</th>\n",
       "      <th>Rcuisine_Burgers</th>\n",
       "      <th>Rcuisine_Cafe-Coffee_Shop</th>\n",
       "      <th>...</th>\n",
       "      <th>alcohol</th>\n",
       "      <th>smoking_area</th>\n",
       "      <th>dress_code</th>\n",
       "      <th>accessibility</th>\n",
       "      <th>price</th>\n",
       "      <th>url</th>\n",
       "      <th>Rambience</th>\n",
       "      <th>franchise</th>\n",
       "      <th>area</th>\n",
       "      <th>other_services</th>\n",
       "    </tr>\n",
       "  </thead>\n",
       "  <tbody>\n",
       "    <tr>\n",
       "      <th>0</th>\n",
       "      <td>135109</td>\n",
       "      <td>2</td>\n",
       "      <td>0.0</td>\n",
       "      <td>0.0</td>\n",
       "      <td>0.0</td>\n",
       "      <td>0.0</td>\n",
       "      <td>0.0</td>\n",
       "      <td>0.0</td>\n",
       "      <td>0.0</td>\n",
       "      <td>0.0</td>\n",
       "      <td>...</td>\n",
       "      <td>1</td>\n",
       "      <td>1</td>\n",
       "      <td>0</td>\n",
       "      <td>0</td>\n",
       "      <td>2</td>\n",
       "      <td>0</td>\n",
       "      <td>0</td>\n",
       "      <td>1</td>\n",
       "      <td>1</td>\n",
       "      <td>1</td>\n",
       "    </tr>\n",
       "    <tr>\n",
       "      <th>1</th>\n",
       "      <td>135106</td>\n",
       "      <td>2</td>\n",
       "      <td>0.0</td>\n",
       "      <td>0.0</td>\n",
       "      <td>0.0</td>\n",
       "      <td>0.0</td>\n",
       "      <td>0.0</td>\n",
       "      <td>0.0</td>\n",
       "      <td>0.0</td>\n",
       "      <td>0.0</td>\n",
       "      <td>...</td>\n",
       "      <td>1</td>\n",
       "      <td>0</td>\n",
       "      <td>0</td>\n",
       "      <td>1</td>\n",
       "      <td>2</td>\n",
       "      <td>0</td>\n",
       "      <td>1</td>\n",
       "      <td>1</td>\n",
       "      <td>0</td>\n",
       "      <td>0</td>\n",
       "    </tr>\n",
       "    <tr>\n",
       "      <th>2</th>\n",
       "      <td>135104</td>\n",
       "      <td>2</td>\n",
       "      <td>0.0</td>\n",
       "      <td>0.0</td>\n",
       "      <td>0.0</td>\n",
       "      <td>0.0</td>\n",
       "      <td>0.0</td>\n",
       "      <td>0.0</td>\n",
       "      <td>0.0</td>\n",
       "      <td>0.0</td>\n",
       "      <td>...</td>\n",
       "      <td>1</td>\n",
       "      <td>1</td>\n",
       "      <td>0</td>\n",
       "      <td>2</td>\n",
       "      <td>2</td>\n",
       "      <td>0</td>\n",
       "      <td>1</td>\n",
       "      <td>0</td>\n",
       "      <td>1</td>\n",
       "      <td>1</td>\n",
       "    </tr>\n",
       "    <tr>\n",
       "      <th>3</th>\n",
       "      <td>135088</td>\n",
       "      <td>2</td>\n",
       "      <td>0.0</td>\n",
       "      <td>0.0</td>\n",
       "      <td>0.0</td>\n",
       "      <td>0.0</td>\n",
       "      <td>0.0</td>\n",
       "      <td>0.0</td>\n",
       "      <td>0.0</td>\n",
       "      <td>0.0</td>\n",
       "      <td>...</td>\n",
       "      <td>0</td>\n",
       "      <td>1</td>\n",
       "      <td>0</td>\n",
       "      <td>0</td>\n",
       "      <td>1</td>\n",
       "      <td>1</td>\n",
       "      <td>0</td>\n",
       "      <td>1</td>\n",
       "      <td>1</td>\n",
       "      <td>0</td>\n",
       "    </tr>\n",
       "    <tr>\n",
       "      <th>4</th>\n",
       "      <td>135086</td>\n",
       "      <td>2</td>\n",
       "      <td>0.0</td>\n",
       "      <td>0.0</td>\n",
       "      <td>0.0</td>\n",
       "      <td>0.0</td>\n",
       "      <td>0.0</td>\n",
       "      <td>0.0</td>\n",
       "      <td>1.0</td>\n",
       "      <td>0.0</td>\n",
       "      <td>...</td>\n",
       "      <td>0</td>\n",
       "      <td>1</td>\n",
       "      <td>0</td>\n",
       "      <td>0</td>\n",
       "      <td>2</td>\n",
       "      <td>0</td>\n",
       "      <td>1</td>\n",
       "      <td>0</td>\n",
       "      <td>1</td>\n",
       "      <td>0</td>\n",
       "    </tr>\n",
       "  </tbody>\n",
       "</table>\n",
       "<p>5 rows × 36 columns</p>\n",
       "</div>"
      ],
      "text/plain": [
       "   placeID  Rpayment  Rcuisine_American  Rcuisine_Armenian  Rcuisine_Bakery  \\\n",
       "0   135109         2                0.0                0.0              0.0   \n",
       "1   135106         2                0.0                0.0              0.0   \n",
       "2   135104         2                0.0                0.0              0.0   \n",
       "3   135088         2                0.0                0.0              0.0   \n",
       "4   135086         2                0.0                0.0              0.0   \n",
       "\n",
       "   Rcuisine_Bar  Rcuisine_Bar_Pub_Brewery  Rcuisine_Breakfast-Brunch  \\\n",
       "0           0.0                       0.0                        0.0   \n",
       "1           0.0                       0.0                        0.0   \n",
       "2           0.0                       0.0                        0.0   \n",
       "3           0.0                       0.0                        0.0   \n",
       "4           0.0                       0.0                        0.0   \n",
       "\n",
       "   Rcuisine_Burgers  Rcuisine_Cafe-Coffee_Shop       ...        alcohol  \\\n",
       "0               0.0                        0.0       ...              1   \n",
       "1               0.0                        0.0       ...              1   \n",
       "2               0.0                        0.0       ...              1   \n",
       "3               0.0                        0.0       ...              0   \n",
       "4               1.0                        0.0       ...              0   \n",
       "\n",
       "   smoking_area  dress_code  accessibility  price  url  Rambience  franchise  \\\n",
       "0             1           0              0      2    0          0          1   \n",
       "1             0           0              1      2    0          1          1   \n",
       "2             1           0              2      2    0          1          0   \n",
       "3             1           0              0      1    1          0          1   \n",
       "4             1           0              0      2    0          1          0   \n",
       "\n",
       "   area  other_services  \n",
       "0     1               1  \n",
       "1     0               0  \n",
       "2     1               1  \n",
       "3     1               0  \n",
       "4     1               0  \n",
       "\n",
       "[5 rows x 36 columns]"
      ]
     },
     "execution_count": 77,
     "metadata": {},
     "output_type": "execute_result"
    }
   ],
   "source": [
    "res_total.head()"
   ]
  },
  {
   "cell_type": "markdown",
   "metadata": {},
   "source": [
    "<span style=\"color:blue\">\n",
    "Here, we are grouping the cuisines into major categories to reduce number of redundant/related features."
   ]
  },
  {
   "cell_type": "code",
   "execution_count": 78,
   "metadata": {},
   "outputs": [],
   "source": [
    "res_total['Rcuisine_Bar_Pub'] = np.zeros(res_total.shape[0])\n",
    "i_total = ((res_total.Rcuisine_Bar == 1) | (res_total.Rcuisine_Bar_Pub_Brewery == 1))\n",
    "res_total.loc[i_total,'Rcuisine_Bar_Pub'] = 1\n",
    "\n",
    "res_total['Rcuisine_Asian'] = np.zeros(res_total.shape[0])\n",
    "i_total = ((res_total.Rcuisine_Chinese == 1) | (res_total.Rcuisine_Japanese == 1) | (res_total.Rcuisine_Vietnamese == 1))\n",
    "res_total.loc[i_total,'Rcuisine_Asian'] = 1\n",
    "\n",
    "res_total['Rcuisine_Western'] = np.zeros(res_total.shape[0])\n",
    "i_total = ((res_total.Rcuisine_Armenian == 1) | (res_total.Rcuisine_Italian == 1) | (res_total.Rcuisine_Mediterranean == 1) \n",
    "         | (res_total.Rcuisine_Pizzeria == 1) | (res_total.Rcuisine_Seafood == 1))\n",
    "res_total.loc[i_total,'Rcuisine_Western'] = 1\n",
    "\n",
    "res_total['Rcuisine_American_Burgers'] = np.zeros(res_total.shape[0])\n",
    "i_total = ((res_total.Rcuisine_American == 1) | (res_total.Rcuisine_Burgers == 1))\n",
    "res_total.loc[i_total,'Rcuisine_American_Burgers'] = 1\n",
    "\n",
    "res_total['Rcuisine_Others'] = np.zeros(res_total.shape[0])\n",
    "i_total = (((res_total.Rcuisine_Bakery == 1) | (res_total[\"Rcuisine_Breakfast-Brunch\"] == 1) | (res_total[\"Rcuisine_Cafe-Coffee_Shop\"] == 1) \n",
    "        | (res_total.Rcuisine_Contemporary == 1) | (res_total.Rcuisine_Family == 1) | (res_total.Rcuisine_Game == 1) \n",
    "        | (res_total.Rcuisine_International == 1) | (res_total.Rcuisine_Regional == 1)))\n",
    "res_total.loc[i_total,'Rcuisine_Others'] = 1\n",
    "\n"
   ]
  },
  {
   "cell_type": "code",
   "execution_count": 79,
   "metadata": {},
   "outputs": [],
   "source": [
    "columns_to_drop = [ 'Rcuisine_American', 'Rcuisine_Armenian', 'Rcuisine_Bakery', 'Rcuisine_Bar', 'Rcuisine_Bar_Pub_Brewery',\n",
    "       'Rcuisine_Breakfast-Brunch', 'Rcuisine_Burgers', 'Rcuisine_Cafe-Coffee_Shop',  'Rcuisine_Chinese',\n",
    "       'Rcuisine_Contemporary', 'Rcuisine_Family', 'Rcuisine_Game', 'Rcuisine_International', 'Rcuisine_Italian',\n",
    "       'Rcuisine_Japanese', 'Rcuisine_Mediterranean',  'Rcuisine_Pizzeria', 'Rcuisine_Regional', 'Rcuisine_Seafood',\n",
    "       'Rcuisine_Vietnamese']\n",
    "res_total = res_total.drop(columns_to_drop, axis=1)"
   ]
  },
  {
   "cell_type": "markdown",
   "metadata": {},
   "source": [
    "<span style=\"color:blue\">\n",
    "We have completed the data transformation on restaurant dataframe. Similarly, we will do now on user dataframe"
   ]
  },
  {
   "cell_type": "code",
   "execution_count": 80,
   "metadata": {},
   "outputs": [
    {
     "data": {
      "text/html": [
       "<div>\n",
       "<style scoped>\n",
       "    .dataframe tbody tr th:only-of-type {\n",
       "        vertical-align: middle;\n",
       "    }\n",
       "\n",
       "    .dataframe tbody tr th {\n",
       "        vertical-align: top;\n",
       "    }\n",
       "\n",
       "    .dataframe thead th {\n",
       "        text-align: right;\n",
       "    }\n",
       "</style>\n",
       "<table border=\"1\" class=\"dataframe\">\n",
       "  <thead>\n",
       "    <tr style=\"text-align: right;\">\n",
       "      <th></th>\n",
       "      <th>userID</th>\n",
       "      <th>smoker</th>\n",
       "      <th>drink_level</th>\n",
       "      <th>dress_preference</th>\n",
       "      <th>ambience</th>\n",
       "      <th>transport</th>\n",
       "      <th>budget</th>\n",
       "      <th>Rcuisine_Afghan</th>\n",
       "      <th>Rcuisine_African</th>\n",
       "      <th>Rcuisine_American</th>\n",
       "      <th>...</th>\n",
       "      <th>Rcuisine_Tapas</th>\n",
       "      <th>Rcuisine_Tea_House</th>\n",
       "      <th>Rcuisine_Tex-Mex</th>\n",
       "      <th>Rcuisine_Thai</th>\n",
       "      <th>Rcuisine_Tibetan</th>\n",
       "      <th>Rcuisine_Tunisian</th>\n",
       "      <th>Rcuisine_Turkish</th>\n",
       "      <th>Rcuisine_Vegetarian</th>\n",
       "      <th>Rcuisine_Vietnamese</th>\n",
       "      <th>Upayment</th>\n",
       "    </tr>\n",
       "  </thead>\n",
       "  <tbody>\n",
       "    <tr>\n",
       "      <th>0</th>\n",
       "      <td>U1001</td>\n",
       "      <td>false</td>\n",
       "      <td>abstemious</td>\n",
       "      <td>informal</td>\n",
       "      <td>family</td>\n",
       "      <td>on foot</td>\n",
       "      <td>medium</td>\n",
       "      <td>0</td>\n",
       "      <td>0</td>\n",
       "      <td>1</td>\n",
       "      <td>...</td>\n",
       "      <td>0</td>\n",
       "      <td>0</td>\n",
       "      <td>0</td>\n",
       "      <td>0</td>\n",
       "      <td>0</td>\n",
       "      <td>0</td>\n",
       "      <td>0</td>\n",
       "      <td>0</td>\n",
       "      <td>0</td>\n",
       "      <td>[cash]</td>\n",
       "    </tr>\n",
       "    <tr>\n",
       "      <th>1</th>\n",
       "      <td>U1002</td>\n",
       "      <td>false</td>\n",
       "      <td>abstemious</td>\n",
       "      <td>informal</td>\n",
       "      <td>family</td>\n",
       "      <td>public</td>\n",
       "      <td>low</td>\n",
       "      <td>0</td>\n",
       "      <td>0</td>\n",
       "      <td>0</td>\n",
       "      <td>...</td>\n",
       "      <td>0</td>\n",
       "      <td>0</td>\n",
       "      <td>0</td>\n",
       "      <td>0</td>\n",
       "      <td>0</td>\n",
       "      <td>0</td>\n",
       "      <td>0</td>\n",
       "      <td>0</td>\n",
       "      <td>0</td>\n",
       "      <td>[cash]</td>\n",
       "    </tr>\n",
       "    <tr>\n",
       "      <th>2</th>\n",
       "      <td>U1003</td>\n",
       "      <td>false</td>\n",
       "      <td>social drinker</td>\n",
       "      <td>formal</td>\n",
       "      <td>family</td>\n",
       "      <td>public</td>\n",
       "      <td>low</td>\n",
       "      <td>0</td>\n",
       "      <td>0</td>\n",
       "      <td>0</td>\n",
       "      <td>...</td>\n",
       "      <td>0</td>\n",
       "      <td>0</td>\n",
       "      <td>0</td>\n",
       "      <td>0</td>\n",
       "      <td>0</td>\n",
       "      <td>0</td>\n",
       "      <td>0</td>\n",
       "      <td>0</td>\n",
       "      <td>0</td>\n",
       "      <td>[cash]</td>\n",
       "    </tr>\n",
       "    <tr>\n",
       "      <th>3</th>\n",
       "      <td>U1004</td>\n",
       "      <td>false</td>\n",
       "      <td>abstemious</td>\n",
       "      <td>informal</td>\n",
       "      <td>family</td>\n",
       "      <td>public</td>\n",
       "      <td>medium</td>\n",
       "      <td>0</td>\n",
       "      <td>0</td>\n",
       "      <td>0</td>\n",
       "      <td>...</td>\n",
       "      <td>0</td>\n",
       "      <td>0</td>\n",
       "      <td>0</td>\n",
       "      <td>0</td>\n",
       "      <td>0</td>\n",
       "      <td>0</td>\n",
       "      <td>0</td>\n",
       "      <td>0</td>\n",
       "      <td>0</td>\n",
       "      <td>[cash, bank_debit_cards]</td>\n",
       "    </tr>\n",
       "    <tr>\n",
       "      <th>4</th>\n",
       "      <td>U1005</td>\n",
       "      <td>false</td>\n",
       "      <td>abstemious</td>\n",
       "      <td>no preference</td>\n",
       "      <td>family</td>\n",
       "      <td>public</td>\n",
       "      <td>medium</td>\n",
       "      <td>0</td>\n",
       "      <td>0</td>\n",
       "      <td>1</td>\n",
       "      <td>...</td>\n",
       "      <td>0</td>\n",
       "      <td>0</td>\n",
       "      <td>0</td>\n",
       "      <td>0</td>\n",
       "      <td>0</td>\n",
       "      <td>0</td>\n",
       "      <td>0</td>\n",
       "      <td>0</td>\n",
       "      <td>0</td>\n",
       "      <td>[cash]</td>\n",
       "    </tr>\n",
       "  </tbody>\n",
       "</table>\n",
       "<p>5 rows × 111 columns</p>\n",
       "</div>"
      ],
      "text/plain": [
       "  userID smoker     drink_level dress_preference ambience transport  budget  \\\n",
       "0  U1001  false      abstemious         informal   family   on foot  medium   \n",
       "1  U1002  false      abstemious         informal   family    public     low   \n",
       "2  U1003  false  social drinker           formal   family    public     low   \n",
       "3  U1004  false      abstemious         informal   family    public  medium   \n",
       "4  U1005  false      abstemious    no preference   family    public  medium   \n",
       "\n",
       "   Rcuisine_Afghan  Rcuisine_African  Rcuisine_American  \\\n",
       "0                0                 0                  1   \n",
       "1                0                 0                  0   \n",
       "2                0                 0                  0   \n",
       "3                0                 0                  0   \n",
       "4                0                 0                  1   \n",
       "\n",
       "             ...             Rcuisine_Tapas  Rcuisine_Tea_House  \\\n",
       "0            ...                          0                   0   \n",
       "1            ...                          0                   0   \n",
       "2            ...                          0                   0   \n",
       "3            ...                          0                   0   \n",
       "4            ...                          0                   0   \n",
       "\n",
       "   Rcuisine_Tex-Mex  Rcuisine_Thai  Rcuisine_Tibetan  Rcuisine_Tunisian  \\\n",
       "0                 0              0                 0                  0   \n",
       "1                 0              0                 0                  0   \n",
       "2                 0              0                 0                  0   \n",
       "3                 0              0                 0                  0   \n",
       "4                 0              0                 0                  0   \n",
       "\n",
       "   Rcuisine_Turkish  Rcuisine_Vegetarian  Rcuisine_Vietnamese  \\\n",
       "0                 0                    0                    0   \n",
       "1                 0                    0                    0   \n",
       "2                 0                    0                    0   \n",
       "3                 0                    0                    0   \n",
       "4                 0                    0                    0   \n",
       "\n",
       "                   Upayment  \n",
       "0                    [cash]  \n",
       "1                    [cash]  \n",
       "2                    [cash]  \n",
       "3  [cash, bank_debit_cards]  \n",
       "4                    [cash]  \n",
       "\n",
       "[5 rows x 111 columns]"
      ]
     },
     "execution_count": 80,
     "metadata": {},
     "output_type": "execute_result"
    }
   ],
   "source": [
    "user_total.head()"
   ]
  },
  {
   "cell_type": "code",
   "execution_count": 81,
   "metadata": {},
   "outputs": [
    {
     "data": {
      "text/plain": [
       "false    112\n",
       "true      26\n",
       "Name: smoker, dtype: int64"
      ]
     },
     "execution_count": 81,
     "metadata": {},
     "output_type": "execute_result"
    }
   ],
   "source": [
    "user_total['smoker'].value_counts()"
   ]
  },
  {
   "cell_type": "markdown",
   "metadata": {},
   "source": [
    "<span style=\"color:blue\">\n",
    "As we have given value 1 for restaurants that have designated smoking areas, we will assign value 1 for users with smoker as true"
   ]
  },
  {
   "cell_type": "code",
   "execution_count": 82,
   "metadata": {},
   "outputs": [
    {
     "data": {
      "text/plain": [
       "0    112\n",
       "1     26\n",
       "Name: smoker, dtype: int64"
      ]
     },
     "execution_count": 82,
     "metadata": {},
     "output_type": "execute_result"
    }
   ],
   "source": [
    "user_total['smoker'] = user_total['smoker'].map({'false': 0, 'true': 1})\n",
    "user_total['smoker'].value_counts()"
   ]
  },
  {
   "cell_type": "code",
   "execution_count": 83,
   "metadata": {},
   "outputs": [
    {
     "data": {
      "text/plain": [
       "no preference    58\n",
       "formal           41\n",
       "informal         35\n",
       "elegant           4\n",
       "Name: dress_preference, dtype: int64"
      ]
     },
     "execution_count": 83,
     "metadata": {},
     "output_type": "execute_result"
    }
   ],
   "source": [
    "user_total['dress_preference'].value_counts()"
   ]
  },
  {
   "cell_type": "markdown",
   "metadata": {},
   "source": [
    "<span style=\"color:blue\">\n",
    "As we have given value 1 for restaurants that require formal dress code, we will assign value 1 for users with formal and elegant dress preference"
   ]
  },
  {
   "cell_type": "code",
   "execution_count": 84,
   "metadata": {},
   "outputs": [
    {
     "data": {
      "text/plain": [
       "0    93\n",
       "1    45\n",
       "Name: dress_preference, dtype: int64"
      ]
     },
     "execution_count": 84,
     "metadata": {},
     "output_type": "execute_result"
    }
   ],
   "source": [
    "user_total['dress_preference'] = user_total['dress_preference'].map({'informal':0, 'no preference':0, 'elegant':1, 'formal': 1})\n",
    "user_total['dress_preference'].value_counts()"
   ]
  },
  {
   "cell_type": "code",
   "execution_count": 85,
   "metadata": {},
   "outputs": [
    {
     "data": {
      "text/plain": [
       "abstemious        51\n",
       "casual drinker    47\n",
       "social drinker    40\n",
       "Name: drink_level, dtype: int64"
      ]
     },
     "execution_count": 85,
     "metadata": {},
     "output_type": "execute_result"
    }
   ],
   "source": [
    "user_total['drink_level'].value_counts()"
   ]
  },
  {
   "cell_type": "markdown",
   "metadata": {},
   "source": [
    "<span style=\"color:blue\">\n",
    "As we have given value 1 for restaurants that allow drinking, we will assign value 1 for users who are casual and social drinkers."
   ]
  },
  {
   "cell_type": "code",
   "execution_count": 86,
   "metadata": {},
   "outputs": [
    {
     "data": {
      "text/plain": [
       "1    87\n",
       "0    51\n",
       "Name: drink_level, dtype: int64"
      ]
     },
     "execution_count": 86,
     "metadata": {},
     "output_type": "execute_result"
    }
   ],
   "source": [
    "user_total['drink_level'] = user_total['drink_level'].map({'abstemious': 0, 'casual drinker': 1, 'social drinker': 1})\n",
    "user_total['drink_level'].value_counts()"
   ]
  },
  {
   "cell_type": "code",
   "execution_count": 87,
   "metadata": {},
   "outputs": [
    {
     "data": {
      "text/plain": [
       "public       89\n",
       "car owner    35\n",
       "on foot      14\n",
       "Name: transport, dtype: int64"
      ]
     },
     "execution_count": 87,
     "metadata": {},
     "output_type": "execute_result"
    }
   ],
   "source": [
    "user_total['transport'].value_counts()"
   ]
  },
  {
   "cell_type": "markdown",
   "metadata": {},
   "source": [
    "<span style=\"color:blue\">\n",
    "As we have given value 1 for restaurants that provide parking, we will assign value 1 for users who are car owners and others 0"
   ]
  },
  {
   "cell_type": "code",
   "execution_count": 88,
   "metadata": {},
   "outputs": [
    {
     "data": {
      "text/plain": [
       "0    103\n",
       "1     35\n",
       "Name: transport, dtype: int64"
      ]
     },
     "execution_count": 88,
     "metadata": {},
     "output_type": "execute_result"
    }
   ],
   "source": [
    "user_total['transport'] = user_total['transport'].map({'public': 0, 'car owner': 1, 'on foot': 0})\n",
    "user_total['transport'].value_counts()"
   ]
  },
  {
   "cell_type": "code",
   "execution_count": 89,
   "metadata": {},
   "outputs": [
    {
     "data": {
      "text/plain": [
       "medium    98\n",
       "low       35\n",
       "high       5\n",
       "Name: budget, dtype: int64"
      ]
     },
     "execution_count": 89,
     "metadata": {},
     "output_type": "execute_result"
    }
   ],
   "source": [
    "user_total['budget'].value_counts()"
   ]
  },
  {
   "cell_type": "markdown",
   "metadata": {},
   "source": [
    "<span style=\"color:blue\">\n",
    "As we have given value 1 for low priced, 2 for medium priced and 3 for high priced restaurants, similarly, we will assign values -  1 for low budget users, 2 for medium budget users and 3 for high budget users"
   ]
  },
  {
   "cell_type": "code",
   "execution_count": 90,
   "metadata": {},
   "outputs": [
    {
     "data": {
      "text/plain": [
       "2    98\n",
       "1    35\n",
       "3     5\n",
       "Name: budget, dtype: int64"
      ]
     },
     "execution_count": 90,
     "metadata": {},
     "output_type": "execute_result"
    }
   ],
   "source": [
    "user_total['budget'] = user_total['budget'].map({'low':1, 'medium':2, 'high':3})\n",
    "user_total['budget'].value_counts()"
   ]
  },
  {
   "cell_type": "code",
   "execution_count": 91,
   "metadata": {},
   "outputs": [
    {
     "data": {
      "text/plain": [
       "family      76\n",
       "friends     46\n",
       "solitary    16\n",
       "Name: ambience, dtype: int64"
      ]
     },
     "execution_count": 91,
     "metadata": {},
     "output_type": "execute_result"
    }
   ],
   "source": [
    "user_total['ambience'].value_counts()"
   ]
  },
  {
   "cell_type": "markdown",
   "metadata": {},
   "source": [
    "<span style=\"color:blue\">\n",
    "Given that we have assigned restaurants with familiar ambience as 1 and quiet as 0, we will similarly assign values 1 for family and friends, 0 for solitary"
   ]
  },
  {
   "cell_type": "code",
   "execution_count": 92,
   "metadata": {},
   "outputs": [
    {
     "data": {
      "text/plain": [
       "1    122\n",
       "0     16\n",
       "Name: ambience, dtype: int64"
      ]
     },
     "execution_count": 92,
     "metadata": {},
     "output_type": "execute_result"
    }
   ],
   "source": [
    "user_total['ambience'] = user_total['ambience'].map({'family':1, 'friends':1, 'solitary':0})\n",
    "user_total['ambience'].value_counts()"
   ]
  },
  {
   "cell_type": "markdown",
   "metadata": {},
   "source": [
    "<span style=\"color:blue\">\n",
    "As mentioned before, we are assuming Mexico to be a cash-driven economy. So we are assigning users with cash preference with value 2 and others with 1\n"
   ]
  },
  {
   "cell_type": "code",
   "execution_count": 93,
   "metadata": {},
   "outputs": [
    {
     "data": {
      "text/plain": [
       "2    117\n",
       "1     21\n",
       "Name: Upayment, dtype: int64"
      ]
     },
     "execution_count": 93,
     "metadata": {},
     "output_type": "execute_result"
    }
   ],
   "source": [
    "user_total['Upayment'] = user_total['Upayment'].apply(lambda x:x[0] if type(x)==list else x)\n",
    "user_total['Upayment'] = user_total['Upayment'] .map({'cash':2, 'VISA':1, 'bank_debit_cards':1, 'MasterCard-Eurocard':1, 'American_Express':1})\n",
    "user_total['Upayment'] = user_total['Upayment'].fillna(0)\n",
    "user_total['Upayment'] = user_total['Upayment'].astype('int64')\n",
    "user_total['Upayment'].value_counts()"
   ]
  },
  {
   "cell_type": "markdown",
   "metadata": {},
   "source": [
    "<span style=\"color:blue\">\n",
    "Overall there are more than 100 types of cuisines. It would be complex to predict rating based on 100+ cuisines. Also, many cuisines are related.So we are grouping these cuisines into 8 major categories."
   ]
  },
  {
   "cell_type": "code",
   "execution_count": 94,
   "metadata": {},
   "outputs": [],
   "source": [
    "user_total['Rcuisine_Bar_Pub'] = np.zeros(user_total.shape[0])\n",
    "i_total = ((user_total.Rcuisine_Bar == 1) | (user_total.Rcuisine_Bar_Pub == 1))\n",
    "user_total.loc[i_total,'Rcuisine_Bar_Pub'] = 1\n",
    "\n",
    "\n",
    "\n",
    "user_total['Rcuisine_Asian'] = np.zeros(user_total.shape[0])\n",
    "i_total = (\n",
    "            (user_total.Rcuisine_Japanese==1) | (user_total.Rcuisine_Korean==1) | \n",
    "(user_total['Rcuisine_Indian-Pakistani']==1) | (user_total.Rcuisine_Lebanese==1) | \n",
    "(user_total.Rcuisine_Moroccan==1) | (user_total.Rcuisine_Chinese==1) | \n",
    "(user_total.Rcuisine_Afghan==1) | (user_total.Rcuisine_Middle_Eastern==1) | \n",
    "(user_total.Rcuisine_Mongolian==1) | (user_total.Rcuisine_Sushi==1) | \n",
    "(user_total.Rcuisine_Asian==1) | (user_total.Rcuisine_Turkish==1) | \n",
    "(user_total.Rcuisine_Mediterranean==1) | (user_total.Rcuisine_Israeli==1) | \n",
    "(user_total['Rcuisine_Russian-Ukrainian']==1) | (user_total.Rcuisine_Malaysian==1) | \n",
    "(user_total.Rcuisine_African==1) | (user_total.Rcuisine_Pacific_Northwest==1) | \n",
    "(user_total.Rcuisine_Persian==1) | (user_total.Rcuisine_Cambodian==1) | \n",
    "(user_total.Rcuisine_Pacific_Rim==1) | (user_total.Rcuisine_Tunisian==1) | \n",
    "(user_total.Rcuisine_Filipino==1) | (user_total.Rcuisine_Dim_Sum==1) | \n",
    "(user_total.Rcuisine_Thai==1) | (user_total.Rcuisine_Indonesian==1) | (user_total.Rcuisine_Tibetan==1) | \n",
    "(user_total.Rcuisine_Southeast_Asian==1) | (user_total.Rcuisine_Burmese==1) | \n",
    "(user_total.Rcuisine_North_African==1) | (user_total.Rcuisine_Vietnamese==1))\n",
    "user_total.loc[i_total,'Rcuisine_Asian'] = 1\n",
    "\n",
    "user_total['Rcuisine_Mexican'] = np.zeros(user_total.shape[0])\n",
    "i_total = ((user_total.Rcuisine_Mexican==1) | (user_total.Rcuisine_Latin_American==1) | \n",
    "(user_total.Rcuisine_Cuban==1) | (user_total.Rcuisine_Spanish==1) | \n",
    "(user_total.Rcuisine_Peruvian==1) | (user_total.Rcuisine_Caribbean==1) | \n",
    "(user_total.Rcuisine_Jamaican==1) | (user_total.Rcuisine_Chilean==1) | \n",
    "(user_total.Rcuisine_Brazilian==1) | (user_total.Rcuisine_Southern==1))\n",
    "user_total.loc[i_total,'Rcuisine_Mexican'] = 1\n",
    "\n",
    "user_total['Rcuisine_Western'] = np.zeros(user_total.shape[0])\n",
    "i_total = ((user_total['Rcuisine_Continental-European']==1) | (user_total.Rcuisine_Italian==1) | \n",
    "(user_total.Rcuisine_Portuguese==1) | (user_total.Rcuisine_Eastern_European==1) | \n",
    "(user_total.Rcuisine_Polynesian==1) | (user_total.Rcuisine_Polish==1) | \n",
    "(user_total.Rcuisine_Australian==1) | (user_total.Rcuisine_British==1) | \n",
    "(user_total.Rcuisine_Austrian==1) | (user_total.Rcuisine_Irish==1) | \n",
    "(user_total.Rcuisine_Southwestern==1) | (user_total.Rcuisine_German==1) | \n",
    "(user_total.Rcuisine_Ethiopian==1) | (user_total.Rcuisine_Romanian==1) | \n",
    "(user_total.Rcuisine_Greek==1) | (user_total.Rcuisine_Swiss==1) | \n",
    "(user_total['Rcuisine_Cajun-Creole']==1) | (user_total.Rcuisine_Armenian==1) | \n",
    "(user_total.Rcuisine_Hungarian==1) | (user_total['Rcuisine_Dutch-Belgian']==1) | \n",
    "(user_total.Rcuisine_Scandinavian==1) | (user_total.Rcuisine_French==1) )\n",
    "user_total.loc[i_total,'Rcuisine_Western'] = 1\n",
    "\n",
    "user_total['Rcuisine_American_Burgers'] = np.zeros(user_total.shape[0])\n",
    "i_total = ( (user_total.Rcuisine_American==1) | (user_total.Rcuisine_Hawaiian==1) |\n",
    "            (user_total.Rcuisine_Canadian==1) | (user_total.Rcuisine_California==1))\n",
    "user_total.loc[i_total,'Rcuisine_American_Burgers'] = 1\n",
    "\n",
    "user_total['Rcuisine_Others'] = np.zeros(user_total.shape[0])\n",
    "i_total = ((user_total.Rcuisine_Bakery==1) | (user_total['Rcuisine_Breakfast-Brunch']==1) | \n",
    "(user_total.Rcuisine_Contemporary==1) | (user_total.Rcuisine_Bagels==1) | \n",
    "(user_total.Rcuisine_Family==1) | (user_total.Rcuisine_Juice==1) | \n",
    "(user_total.Rcuisine_Hot_Dogs==1) | (user_total.Rcuisine_Diner==1) | \n",
    "(user_total.Rcuisine_Fast_Food==1) | (user_total['Rcuisine_Deli-Sandwiches']==1) | \n",
    "(user_total.Rcuisine_Regional==1) | (user_total.Rcuisine_Fusion==1) | \n",
    "(user_total.Rcuisine_Barbecue==1) | (user_total.Rcuisine_Pizzeria==1) | \n",
    "(user_total.Rcuisine_Burgers==1) | (user_total['Rcuisine_Tex-Mex']==1) | \n",
    "(user_total.Rcuisine_Soup==1) | (user_total.Rcuisine_Game==1) | \n",
    "(user_total.Rcuisine_Doughnuts==1) | (user_total['Rcuisine_Dessert-Ice_Cream']==1) | \n",
    "(user_total.Rcuisine_Seafood==1) | (user_total['Rcuisine_Organic-Healthy']==1) | \n",
    "(user_total.Rcuisine_Steaks==1) | (user_total.Rcuisine_Vegetarian==1) | \n",
    "(user_total.Rcuisine_Tapas==1) | (user_total.Rcuisine_Eclectic==1) | \n",
    "(user_total.Rcuisine_Basque==1) | (user_total.Rcuisine_Tea_House==1) | \n",
    "(user_total.Rcuisine_International==1) | (user_total.Rcuisine_Indigenous==1) | \n",
    "(user_total.Rcuisine_Kosher==1) | (user_total.Rcuisine_Fine_Dining==1))\n",
    "user_total.loc[i_total,'Rcuisine_Others'] = 1"
   ]
  },
  {
   "cell_type": "markdown",
   "metadata": {},
   "source": [
    "<span style=\"color:blue\">\n",
    "Now that we have grouped the cuisines, we would like to drop the individual columns"
   ]
  },
  {
   "cell_type": "code",
   "execution_count": 95,
   "metadata": {},
   "outputs": [],
   "source": [
    "user_total = user_total.drop(['Rcuisine_American',\n",
    "'Rcuisine_Bakery', 'Rcuisine_Breakfast-Brunch', 'Rcuisine_Japanese', 'Rcuisine_Contemporary', 'Rcuisine_Bagels', \n",
    "'Rcuisine_Cafe-Coffee_Shop', 'Rcuisine_Continental-European', 'Rcuisine_Family', 'Rcuisine_Juice', 'Rcuisine_Hawaiian',\n",
    "'Rcuisine_Hot_Dogs', 'Rcuisine_Latin_American', 'Rcuisine_Korean', 'Rcuisine_Italian', 'Rcuisine_Diner', 'Rcuisine_Deli-Sandwiches',\n",
    "'Rcuisine_Regional', 'Rcuisine_Fusion', 'Rcuisine_Portuguese', 'Rcuisine_Indian-Pakistani', 'Rcuisine_Eastern_European', \n",
    "'Rcuisine_Lebanese', 'Rcuisine_Moroccan', 'Rcuisine_Barbecue', 'Rcuisine_Polynesian', 'Rcuisine_Polish', 'Rcuisine_Chinese',\n",
    "'Rcuisine_Pizzeria', 'Rcuisine_Burgers', 'Rcuisine_Afghan', 'Rcuisine_Middle_Eastern', 'Rcuisine_Mongolian', 'Rcuisine_Bar',\n",
    "'Rcuisine_Cuban', 'Rcuisine_Tex-Mex', 'Rcuisine_Spanish', 'Rcuisine_Soup', 'Rcuisine_Sushi', 'Rcuisine_Game', \n",
    "'Rcuisine_Doughnuts', 'Rcuisine_Australian', 'Rcuisine_Dessert-Ice_Cream', 'Rcuisine_Seafood', 'Rcuisine_Turkish',\n",
    "'Rcuisine_Organic-Healthy', 'Rcuisine_Steaks', 'Rcuisine_Mediterranean', 'Rcuisine_British', 'Rcuisine_Austrian',\n",
    "'Rcuisine_Israeli', 'Rcuisine_Russian-Ukrainian', 'Rcuisine_Malaysian', 'Rcuisine_Vegetarian', 'Rcuisine_Peruvian',\n",
    "'Rcuisine_Tapas', 'Rcuisine_Eclectic', 'Rcuisine_African', 'Rcuisine_Basque', 'Rcuisine_Canadian', \n",
    "'Rcuisine_Irish', 'Rcuisine_Southwestern', 'Rcuisine_Tea_House', 'Rcuisine_International', 'Rcuisine_Pacific_Northwest',\n",
    "'Rcuisine_German', 'Rcuisine_Persian', 'Rcuisine_Ethiopian', 'Rcuisine_Romanian', 'Rcuisine_Cambodian', 'Rcuisine_Pacific_Rim',\n",
    "'Rcuisine_Tunisian',  'Rcuisine_Filipino', 'Rcuisine_Dim_Sum', 'Rcuisine_Greek', 'Rcuisine_Thai', 'Rcuisine_Swiss',\n",
    "'Rcuisine_Cajun-Creole', 'Rcuisine_Armenian', 'Rcuisine_Indigenous', 'Rcuisine_Bar_Pub', 'Rcuisine_Caribbean', 'Rcuisine_Indonesian',\n",
    "'Rcuisine_Hungarian', 'Rcuisine_Dutch-Belgian', 'Rcuisine_Kosher', 'Rcuisine_Fine_Dining', 'Rcuisine_Jamaican', 'Rcuisine_Tibetan',\n",
    "'Rcuisine_Southeast_Asian', 'Rcuisine_Burmese', 'Rcuisine_California', 'Rcuisine_Scandinavian', 'Rcuisine_Chilean', 'Rcuisine_North_African',\n",
    "'Rcuisine_Vietnamese', 'Rcuisine_French', 'Rcuisine_Brazilian', 'Rcuisine_Southern' ], axis=1)"
   ]
  },
  {
   "cell_type": "code",
   "execution_count": 96,
   "metadata": {},
   "outputs": [
    {
     "name": "stdout",
     "output_type": "stream",
     "text": [
      "0\n"
     ]
    }
   ],
   "source": [
    "print(user_total.isnull().sum().sum())"
   ]
  },
  {
   "cell_type": "code",
   "execution_count": 97,
   "metadata": {},
   "outputs": [
    {
     "name": "stdout",
     "output_type": "stream",
     "text": [
      "0\n"
     ]
    }
   ],
   "source": [
    "print(res_total.isnull().sum().sum())"
   ]
  },
  {
   "cell_type": "markdown",
   "metadata": {},
   "source": [
    "## Step 5: Data Transformation is completed."
   ]
  },
  {
   "cell_type": "markdown",
   "metadata": {},
   "source": [
    "## Step 6: Feature Engineering begins!"
   ]
  },
  {
   "cell_type": "code",
   "execution_count": 98,
   "metadata": {},
   "outputs": [],
   "source": [
    "user_total1 = user_total.copy()\n",
    "res_total1 = res_total.copy()"
   ]
  },
  {
   "cell_type": "markdown",
   "metadata": {},
   "source": [
    "To perform feature engineering and selection, we will follow the steps below:\n",
    "\n",
    "1) Integrate user and restaurant dataframes with rating dataframe. We will call this final_df.\n",
    "\n",
    "2) Create a rating dataframe that resembles a matrix with row index as placeID and column index as userID. we will call this overall_rating. Initialize this matrix dataframe with '-1'. Then check rating for each userID and placeID combination. If a rating is available then, replace the '-1' with the rating. if the rating is not available, replace the '-1' with zero"
   ]
  },
  {
   "cell_type": "code",
   "execution_count": 99,
   "metadata": {},
   "outputs": [
    {
     "data": {
      "text/html": [
       "<div>\n",
       "<style scoped>\n",
       "    .dataframe tbody tr th:only-of-type {\n",
       "        vertical-align: middle;\n",
       "    }\n",
       "\n",
       "    .dataframe tbody tr th {\n",
       "        vertical-align: top;\n",
       "    }\n",
       "\n",
       "    .dataframe thead th {\n",
       "        text-align: right;\n",
       "    }\n",
       "</style>\n",
       "<table border=\"1\" class=\"dataframe\">\n",
       "  <thead>\n",
       "    <tr style=\"text-align: right;\">\n",
       "      <th></th>\n",
       "      <th>placeID</th>\n",
       "      <th>Rpayment</th>\n",
       "      <th>Rcuisine_Cafeteria_res</th>\n",
       "      <th>Rcuisine_Fast_Food_res</th>\n",
       "      <th>Rcuisine_Mexican_res</th>\n",
       "      <th>parking_lot</th>\n",
       "      <th>alcohol</th>\n",
       "      <th>smoking_area</th>\n",
       "      <th>dress_code</th>\n",
       "      <th>accessibility</th>\n",
       "      <th>...</th>\n",
       "      <th>budget</th>\n",
       "      <th>Rcuisine_Asian_user</th>\n",
       "      <th>Rcuisine_Bar_Pub_Brewery</th>\n",
       "      <th>Rcuisine_Cafeteria_user</th>\n",
       "      <th>Rcuisine_Fast_Food_user</th>\n",
       "      <th>Rcuisine_Mexican_user</th>\n",
       "      <th>Upayment</th>\n",
       "      <th>Rcuisine_Western_user</th>\n",
       "      <th>Rcuisine_American_Burgers_user</th>\n",
       "      <th>Rcuisine_Others_user</th>\n",
       "    </tr>\n",
       "  </thead>\n",
       "  <tbody>\n",
       "    <tr>\n",
       "      <th>0</th>\n",
       "      <td>135109</td>\n",
       "      <td>2</td>\n",
       "      <td>0.0</td>\n",
       "      <td>0.0</td>\n",
       "      <td>0.0</td>\n",
       "      <td>0</td>\n",
       "      <td>1</td>\n",
       "      <td>1</td>\n",
       "      <td>0</td>\n",
       "      <td>0</td>\n",
       "      <td>...</td>\n",
       "      <td>2</td>\n",
       "      <td>0.0</td>\n",
       "      <td>0</td>\n",
       "      <td>0</td>\n",
       "      <td>0</td>\n",
       "      <td>0.0</td>\n",
       "      <td>2</td>\n",
       "      <td>0.0</td>\n",
       "      <td>0.0</td>\n",
       "      <td>0.0</td>\n",
       "    </tr>\n",
       "    <tr>\n",
       "      <th>1</th>\n",
       "      <td>135109</td>\n",
       "      <td>2</td>\n",
       "      <td>0.0</td>\n",
       "      <td>0.0</td>\n",
       "      <td>0.0</td>\n",
       "      <td>0</td>\n",
       "      <td>1</td>\n",
       "      <td>1</td>\n",
       "      <td>0</td>\n",
       "      <td>0</td>\n",
       "      <td>...</td>\n",
       "      <td>2</td>\n",
       "      <td>0.0</td>\n",
       "      <td>0</td>\n",
       "      <td>0</td>\n",
       "      <td>0</td>\n",
       "      <td>0.0</td>\n",
       "      <td>2</td>\n",
       "      <td>0.0</td>\n",
       "      <td>0.0</td>\n",
       "      <td>0.0</td>\n",
       "    </tr>\n",
       "    <tr>\n",
       "      <th>2</th>\n",
       "      <td>135109</td>\n",
       "      <td>2</td>\n",
       "      <td>0.0</td>\n",
       "      <td>0.0</td>\n",
       "      <td>0.0</td>\n",
       "      <td>0</td>\n",
       "      <td>1</td>\n",
       "      <td>1</td>\n",
       "      <td>0</td>\n",
       "      <td>0</td>\n",
       "      <td>...</td>\n",
       "      <td>2</td>\n",
       "      <td>0.0</td>\n",
       "      <td>0</td>\n",
       "      <td>0</td>\n",
       "      <td>0</td>\n",
       "      <td>0.0</td>\n",
       "      <td>1</td>\n",
       "      <td>0.0</td>\n",
       "      <td>0.0</td>\n",
       "      <td>0.0</td>\n",
       "    </tr>\n",
       "    <tr>\n",
       "      <th>3</th>\n",
       "      <td>135109</td>\n",
       "      <td>2</td>\n",
       "      <td>0.0</td>\n",
       "      <td>0.0</td>\n",
       "      <td>0.0</td>\n",
       "      <td>0</td>\n",
       "      <td>1</td>\n",
       "      <td>1</td>\n",
       "      <td>0</td>\n",
       "      <td>0</td>\n",
       "      <td>...</td>\n",
       "      <td>2</td>\n",
       "      <td>0.0</td>\n",
       "      <td>0</td>\n",
       "      <td>0</td>\n",
       "      <td>0</td>\n",
       "      <td>0.0</td>\n",
       "      <td>1</td>\n",
       "      <td>0.0</td>\n",
       "      <td>0.0</td>\n",
       "      <td>1.0</td>\n",
       "    </tr>\n",
       "    <tr>\n",
       "      <th>4</th>\n",
       "      <td>135106</td>\n",
       "      <td>2</td>\n",
       "      <td>0.0</td>\n",
       "      <td>0.0</td>\n",
       "      <td>1.0</td>\n",
       "      <td>0</td>\n",
       "      <td>1</td>\n",
       "      <td>0</td>\n",
       "      <td>0</td>\n",
       "      <td>1</td>\n",
       "      <td>...</td>\n",
       "      <td>2</td>\n",
       "      <td>0.0</td>\n",
       "      <td>0</td>\n",
       "      <td>0</td>\n",
       "      <td>0</td>\n",
       "      <td>0.0</td>\n",
       "      <td>2</td>\n",
       "      <td>0.0</td>\n",
       "      <td>0.0</td>\n",
       "      <td>1.0</td>\n",
       "    </tr>\n",
       "  </tbody>\n",
       "</table>\n",
       "<p>5 rows × 40 columns</p>\n",
       "</div>"
      ],
      "text/plain": [
       "   placeID  Rpayment  Rcuisine_Cafeteria_res  Rcuisine_Fast_Food_res  \\\n",
       "0   135109         2                     0.0                     0.0   \n",
       "1   135109         2                     0.0                     0.0   \n",
       "2   135109         2                     0.0                     0.0   \n",
       "3   135109         2                     0.0                     0.0   \n",
       "4   135106         2                     0.0                     0.0   \n",
       "\n",
       "   Rcuisine_Mexican_res  parking_lot  alcohol  smoking_area  dress_code  \\\n",
       "0                   0.0            0        1             1           0   \n",
       "1                   0.0            0        1             1           0   \n",
       "2                   0.0            0        1             1           0   \n",
       "3                   0.0            0        1             1           0   \n",
       "4                   1.0            0        1             0           0   \n",
       "\n",
       "   accessibility          ...           budget  Rcuisine_Asian_user  \\\n",
       "0              0          ...                2                  0.0   \n",
       "1              0          ...                2                  0.0   \n",
       "2              0          ...                2                  0.0   \n",
       "3              0          ...                2                  0.0   \n",
       "4              1          ...                2                  0.0   \n",
       "\n",
       "   Rcuisine_Bar_Pub_Brewery  Rcuisine_Cafeteria_user  Rcuisine_Fast_Food_user  \\\n",
       "0                         0                        0                        0   \n",
       "1                         0                        0                        0   \n",
       "2                         0                        0                        0   \n",
       "3                         0                        0                        0   \n",
       "4                         0                        0                        0   \n",
       "\n",
       "   Rcuisine_Mexican_user  Upayment  Rcuisine_Western_user  \\\n",
       "0                    0.0         2                    0.0   \n",
       "1                    0.0         2                    0.0   \n",
       "2                    0.0         1                    0.0   \n",
       "3                    0.0         1                    0.0   \n",
       "4                    0.0         2                    0.0   \n",
       "\n",
       "   Rcuisine_American_Burgers_user  Rcuisine_Others_user  \n",
       "0                             0.0                   0.0  \n",
       "1                             0.0                   0.0  \n",
       "2                             0.0                   0.0  \n",
       "3                             0.0                   1.0  \n",
       "4                             0.0                   1.0  \n",
       "\n",
       "[5 rows x 40 columns]"
      ]
     },
     "execution_count": 99,
     "metadata": {},
     "output_type": "execute_result"
    }
   ],
   "source": [
    "final_df = pd.merge(left= res_total1, right= final_rating, how='left', on='placeID')\n",
    "final_df = pd.merge(left= final_df, right= user_total, how='left', on='userID', suffixes=['_res', '_user'])\n",
    "final_df.head()"
   ]
  },
  {
   "cell_type": "markdown",
   "metadata": {},
   "source": [
    "<span style=\"color:blue\">\n",
    "Finding Correlation matrix between columns and target variable"
   ]
  },
  {
   "cell_type": "code",
   "execution_count": 100,
   "metadata": {},
   "outputs": [],
   "source": [
    "cor_features1=final_df.copy()\n",
    "cor_features1 = cor_features1.drop(columns=['placeID', 'userID'])"
   ]
  },
  {
   "cell_type": "code",
   "execution_count": 101,
   "metadata": {},
   "outputs": [
    {
     "name": "stdout",
     "output_type": "stream",
     "text": [
      "Feature-Target Correlations\n"
     ]
    },
    {
     "data": {
      "text/plain": [
       "{'Rpayment': 0.019323397975326714,\n",
       " 'Rcuisine_Cafeteria_res': 0.0024310166082252118,\n",
       " 'Rcuisine_Fast_Food_res': -0.013202424777046536,\n",
       " 'Rcuisine_Mexican_res': -0.0070636660507722646,\n",
       " 'parking_lot': -0.004229383775589355,\n",
       " 'alcohol': 0.045210394893900406,\n",
       " 'smoking_area': -0.048497585981083405,\n",
       " 'dress_code': 0.10416124792378081,\n",
       " 'accessibility': -0.03769439865851669,\n",
       " 'price': 0.09074519223574695,\n",
       " 'url': 0.048594688623152305,\n",
       " 'Rambience': -0.01079566511220449,\n",
       " 'franchise': -0.011819126881603286,\n",
       " 'area': 0.037051492827210285,\n",
       " 'other_services': 0.06982308567470041,\n",
       " 'Rcuisine_Bar_Pub': 0.013566935555827737,\n",
       " 'Rcuisine_Asian_res': 0.021684607634337147,\n",
       " 'Rcuisine_Western_res': -0.011308464080922918,\n",
       " 'Rcuisine_American_Burgers_res': -0.03271424612864708,\n",
       " 'Rcuisine_Others_res': 0.07694486824795206,\n",
       " 'food_rating': 0.7148549832421072,\n",
       " 'service_rating': 0.6907568315978132,\n",
       " 'smoker': -0.05816366858957192,\n",
       " 'drink_level': -0.054595629075978695,\n",
       " 'dress_preference': 0.1016099022890231,\n",
       " 'ambience': 0.05900591657232144,\n",
       " 'transport': 0.05889716390648405,\n",
       " 'budget': 0.07039356831610066,\n",
       " 'Rcuisine_Asian_user': 0.07388083543772657,\n",
       " 'Rcuisine_Bar_Pub_Brewery': -0.17149452570785764,\n",
       " 'Rcuisine_Cafeteria_user': -0.11971934050062329,\n",
       " 'Rcuisine_Fast_Food_user': -0.0493552893202305,\n",
       " 'Rcuisine_Mexican_user': -0.030528049189415988,\n",
       " 'Upayment': -0.016469001909813364,\n",
       " 'Rcuisine_Western_user': 0.030221287025607085,\n",
       " 'Rcuisine_American_Burgers_user': -0.09597938374566145,\n",
       " 'Rcuisine_Others_user': -0.00602971664901098}"
      ]
     },
     "execution_count": 101,
     "metadata": {},
     "output_type": "execute_result"
    }
   ],
   "source": [
    "from scipy.stats import pearsonr\n",
    "target_col_name = 'rating'\n",
    "feature_target_corr = {}\n",
    "for col in final_df:\n",
    "    if target_col_name != col and col!= 'placeID' and col!= 'userID':\n",
    "        feature_target_corr[col] = \\\n",
    "            pearsonr(final_df[col], final_df[target_col_name])[0]\n",
    "print(\"Feature-Target Correlations\")\n",
    "feature_target_corr"
   ]
  },
  {
   "cell_type": "code",
   "execution_count": 102,
   "metadata": {},
   "outputs": [],
   "source": [
    "overall_rating = pd.DataFrame( np.zeros((len(res_total),len(total_no_users)))-1.0, \n",
    "                              columns=total_no_users, index=res_total['placeID'] )\n",
    "food_rating = overall_rating.copy()\n",
    "service_rating = overall_rating.copy() \n",
    "for r, u, o, f, s in zip(final_rating.placeID, final_rating.userID, final_rating.rating, final_rating.food_rating, \n",
    "                         final_rating.service_rating):\n",
    "    overall_rating.loc[r,u] = o\n",
    "    food_rating.loc[r,u] = f\n",
    "    service_rating.loc[r,u] = s\n",
    "\n",
    "review = pd.DataFrame( np.zeros(overall_rating.shape), columns=total_no_users, index=res_total['placeID'])\n",
    "review[overall_rating >= 0] = 1\n"
   ]
  },
  {
   "cell_type": "code",
   "execution_count": 103,
   "metadata": {},
   "outputs": [],
   "source": [
    "# Calculate the mean rating for each restaurant\n",
    "def getMeanReviewRating(rating,review,column_name):\n",
    "\n",
    "    rating = rating*review    \n",
    "    rating[column_name] =  (np.sum(rating, axis=1)/np.sum((review == 1.0), axis=1))\n",
    "    mean_df = pd.DataFrame(rating[column_name])\n",
    "    return mean_df\n",
    "Y_overall_mean = getMeanReviewRating(overall_rating,review, 'overall_rating')\n",
    "Y_food_mean = getMeanReviewRating(food_rating,review, 'food_rating')\n",
    "Y_service_mean = getMeanReviewRating(service_rating,review, 'service_rating')"
   ]
  },
  {
   "cell_type": "code",
   "execution_count": 104,
   "metadata": {},
   "outputs": [
    {
     "data": {
      "text/html": [
       "<div>\n",
       "<style scoped>\n",
       "    .dataframe tbody tr th:only-of-type {\n",
       "        vertical-align: middle;\n",
       "    }\n",
       "\n",
       "    .dataframe tbody tr th {\n",
       "        vertical-align: top;\n",
       "    }\n",
       "\n",
       "    .dataframe thead th {\n",
       "        text-align: right;\n",
       "    }\n",
       "</style>\n",
       "<table border=\"1\" class=\"dataframe\">\n",
       "  <thead>\n",
       "    <tr style=\"text-align: right;\">\n",
       "      <th></th>\n",
       "      <th>placeID</th>\n",
       "      <th>Rpayment</th>\n",
       "      <th>Rcuisine_Cafeteria</th>\n",
       "      <th>Rcuisine_Fast_Food</th>\n",
       "      <th>Rcuisine_Mexican</th>\n",
       "      <th>parking_lot</th>\n",
       "      <th>alcohol</th>\n",
       "      <th>smoking_area</th>\n",
       "      <th>dress_code</th>\n",
       "      <th>accessibility</th>\n",
       "      <th>...</th>\n",
       "      <th>area</th>\n",
       "      <th>other_services</th>\n",
       "      <th>Rcuisine_Bar_Pub</th>\n",
       "      <th>Rcuisine_Asian</th>\n",
       "      <th>Rcuisine_Western</th>\n",
       "      <th>Rcuisine_American_Burgers</th>\n",
       "      <th>Rcuisine_Others</th>\n",
       "      <th>overall_rating</th>\n",
       "      <th>food_rating</th>\n",
       "      <th>service_rating</th>\n",
       "    </tr>\n",
       "  </thead>\n",
       "  <tbody>\n",
       "    <tr>\n",
       "      <th>0</th>\n",
       "      <td>135109</td>\n",
       "      <td>2</td>\n",
       "      <td>0.0</td>\n",
       "      <td>0.0</td>\n",
       "      <td>0.0</td>\n",
       "      <td>0</td>\n",
       "      <td>1</td>\n",
       "      <td>1</td>\n",
       "      <td>0</td>\n",
       "      <td>0</td>\n",
       "      <td>...</td>\n",
       "      <td>1</td>\n",
       "      <td>1</td>\n",
       "      <td>0.0</td>\n",
       "      <td>0.0</td>\n",
       "      <td>1.0</td>\n",
       "      <td>0.0</td>\n",
       "      <td>0.0</td>\n",
       "      <td>1.000000</td>\n",
       "      <td>1.250000</td>\n",
       "      <td>0.750000</td>\n",
       "    </tr>\n",
       "    <tr>\n",
       "      <th>1</th>\n",
       "      <td>135106</td>\n",
       "      <td>2</td>\n",
       "      <td>0.0</td>\n",
       "      <td>0.0</td>\n",
       "      <td>1.0</td>\n",
       "      <td>0</td>\n",
       "      <td>1</td>\n",
       "      <td>0</td>\n",
       "      <td>0</td>\n",
       "      <td>1</td>\n",
       "      <td>...</td>\n",
       "      <td>0</td>\n",
       "      <td>0</td>\n",
       "      <td>0.0</td>\n",
       "      <td>0.0</td>\n",
       "      <td>0.0</td>\n",
       "      <td>0.0</td>\n",
       "      <td>0.0</td>\n",
       "      <td>1.200000</td>\n",
       "      <td>1.200000</td>\n",
       "      <td>1.200000</td>\n",
       "    </tr>\n",
       "    <tr>\n",
       "      <th>2</th>\n",
       "      <td>135104</td>\n",
       "      <td>2</td>\n",
       "      <td>0.0</td>\n",
       "      <td>0.0</td>\n",
       "      <td>1.0</td>\n",
       "      <td>1</td>\n",
       "      <td>1</td>\n",
       "      <td>1</td>\n",
       "      <td>0</td>\n",
       "      <td>2</td>\n",
       "      <td>...</td>\n",
       "      <td>1</td>\n",
       "      <td>1</td>\n",
       "      <td>0.0</td>\n",
       "      <td>0.0</td>\n",
       "      <td>0.0</td>\n",
       "      <td>0.0</td>\n",
       "      <td>0.0</td>\n",
       "      <td>0.857143</td>\n",
       "      <td>1.428571</td>\n",
       "      <td>0.857143</td>\n",
       "    </tr>\n",
       "    <tr>\n",
       "      <th>3</th>\n",
       "      <td>135088</td>\n",
       "      <td>2</td>\n",
       "      <td>1.0</td>\n",
       "      <td>0.0</td>\n",
       "      <td>0.0</td>\n",
       "      <td>1</td>\n",
       "      <td>0</td>\n",
       "      <td>1</td>\n",
       "      <td>0</td>\n",
       "      <td>0</td>\n",
       "      <td>...</td>\n",
       "      <td>1</td>\n",
       "      <td>0</td>\n",
       "      <td>0.0</td>\n",
       "      <td>0.0</td>\n",
       "      <td>0.0</td>\n",
       "      <td>0.0</td>\n",
       "      <td>0.0</td>\n",
       "      <td>1.000000</td>\n",
       "      <td>1.166667</td>\n",
       "      <td>1.000000</td>\n",
       "    </tr>\n",
       "    <tr>\n",
       "      <th>4</th>\n",
       "      <td>135086</td>\n",
       "      <td>2</td>\n",
       "      <td>0.0</td>\n",
       "      <td>1.0</td>\n",
       "      <td>0.0</td>\n",
       "      <td>1</td>\n",
       "      <td>0</td>\n",
       "      <td>1</td>\n",
       "      <td>0</td>\n",
       "      <td>0</td>\n",
       "      <td>...</td>\n",
       "      <td>1</td>\n",
       "      <td>0</td>\n",
       "      <td>0.0</td>\n",
       "      <td>0.0</td>\n",
       "      <td>0.0</td>\n",
       "      <td>1.0</td>\n",
       "      <td>0.0</td>\n",
       "      <td>0.800000</td>\n",
       "      <td>0.600000</td>\n",
       "      <td>0.800000</td>\n",
       "    </tr>\n",
       "  </tbody>\n",
       "</table>\n",
       "<p>5 rows × 24 columns</p>\n",
       "</div>"
      ],
      "text/plain": [
       "   placeID  Rpayment  Rcuisine_Cafeteria  Rcuisine_Fast_Food  \\\n",
       "0   135109         2                 0.0                 0.0   \n",
       "1   135106         2                 0.0                 0.0   \n",
       "2   135104         2                 0.0                 0.0   \n",
       "3   135088         2                 1.0                 0.0   \n",
       "4   135086         2                 0.0                 1.0   \n",
       "\n",
       "   Rcuisine_Mexican  parking_lot  alcohol  smoking_area  dress_code  \\\n",
       "0               0.0            0        1             1           0   \n",
       "1               1.0            0        1             0           0   \n",
       "2               1.0            1        1             1           0   \n",
       "3               0.0            1        0             1           0   \n",
       "4               0.0            1        0             1           0   \n",
       "\n",
       "   accessibility       ...        area  other_services  Rcuisine_Bar_Pub  \\\n",
       "0              0       ...           1               1               0.0   \n",
       "1              1       ...           0               0               0.0   \n",
       "2              2       ...           1               1               0.0   \n",
       "3              0       ...           1               0               0.0   \n",
       "4              0       ...           1               0               0.0   \n",
       "\n",
       "   Rcuisine_Asian  Rcuisine_Western  Rcuisine_American_Burgers  \\\n",
       "0             0.0               1.0                        0.0   \n",
       "1             0.0               0.0                        0.0   \n",
       "2             0.0               0.0                        0.0   \n",
       "3             0.0               0.0                        0.0   \n",
       "4             0.0               0.0                        1.0   \n",
       "\n",
       "   Rcuisine_Others  overall_rating  food_rating  service_rating  \n",
       "0              0.0        1.000000     1.250000        0.750000  \n",
       "1              0.0        1.200000     1.200000        1.200000  \n",
       "2              0.0        0.857143     1.428571        0.857143  \n",
       "3              0.0        1.000000     1.166667        1.000000  \n",
       "4              0.0        0.800000     0.600000        0.800000  \n",
       "\n",
       "[5 rows x 24 columns]"
      ]
     },
     "execution_count": 104,
     "metadata": {},
     "output_type": "execute_result"
    }
   ],
   "source": [
    "#To analyse features, we are integrating the previously merged dataframe with mean rating dataframes\n",
    "res_total_feature_analyse = res_total.copy()\n",
    "res_total_feature_analyse = pd.merge(left=res_total_feature_analyse, right=Y_overall_mean, how='left', on='placeID')\n",
    "res_total_feature_analyse = pd.merge(left=res_total_feature_analyse, right=Y_food_mean, how='left', on='placeID')\n",
    "res_total_feature_analyse = pd.merge(left=res_total_feature_analyse, right=Y_service_mean, how='left', on='placeID')\n",
    "res_total_feature_analyse.head()"
   ]
  },
  {
   "cell_type": "code",
   "execution_count": 105,
   "metadata": {},
   "outputs": [
    {
     "data": {
      "text/html": [
       "<div>\n",
       "<style scoped>\n",
       "    .dataframe tbody tr th:only-of-type {\n",
       "        vertical-align: middle;\n",
       "    }\n",
       "\n",
       "    .dataframe tbody tr th {\n",
       "        vertical-align: top;\n",
       "    }\n",
       "\n",
       "    .dataframe thead th {\n",
       "        text-align: right;\n",
       "    }\n",
       "</style>\n",
       "<table border=\"1\" class=\"dataframe\">\n",
       "  <thead>\n",
       "    <tr style=\"text-align: right;\">\n",
       "      <th></th>\n",
       "      <th>placeID</th>\n",
       "      <th>Rpayment</th>\n",
       "      <th>Rcuisine_Cafeteria_res</th>\n",
       "      <th>Rcuisine_Fast_Food_res</th>\n",
       "      <th>Rcuisine_Mexican_res</th>\n",
       "      <th>parking_lot</th>\n",
       "      <th>alcohol</th>\n",
       "      <th>smoking_area</th>\n",
       "      <th>dress_code</th>\n",
       "      <th>accessibility</th>\n",
       "      <th>...</th>\n",
       "      <th>budget</th>\n",
       "      <th>Rcuisine_Asian_user</th>\n",
       "      <th>Rcuisine_Bar_Pub_Brewery</th>\n",
       "      <th>Rcuisine_Cafeteria_user</th>\n",
       "      <th>Rcuisine_Fast_Food_user</th>\n",
       "      <th>Rcuisine_Mexican_user</th>\n",
       "      <th>Upayment</th>\n",
       "      <th>Rcuisine_Western_user</th>\n",
       "      <th>Rcuisine_American_Burgers_user</th>\n",
       "      <th>Rcuisine_Others_user</th>\n",
       "    </tr>\n",
       "  </thead>\n",
       "  <tbody>\n",
       "    <tr>\n",
       "      <th>0</th>\n",
       "      <td>135109</td>\n",
       "      <td>2</td>\n",
       "      <td>0.0</td>\n",
       "      <td>0.0</td>\n",
       "      <td>0.0</td>\n",
       "      <td>0</td>\n",
       "      <td>1</td>\n",
       "      <td>1</td>\n",
       "      <td>0</td>\n",
       "      <td>0</td>\n",
       "      <td>...</td>\n",
       "      <td>2</td>\n",
       "      <td>0.0</td>\n",
       "      <td>0</td>\n",
       "      <td>0</td>\n",
       "      <td>0</td>\n",
       "      <td>0.0</td>\n",
       "      <td>2</td>\n",
       "      <td>0.0</td>\n",
       "      <td>0.0</td>\n",
       "      <td>0.0</td>\n",
       "    </tr>\n",
       "    <tr>\n",
       "      <th>1</th>\n",
       "      <td>135109</td>\n",
       "      <td>2</td>\n",
       "      <td>0.0</td>\n",
       "      <td>0.0</td>\n",
       "      <td>0.0</td>\n",
       "      <td>0</td>\n",
       "      <td>1</td>\n",
       "      <td>1</td>\n",
       "      <td>0</td>\n",
       "      <td>0</td>\n",
       "      <td>...</td>\n",
       "      <td>2</td>\n",
       "      <td>0.0</td>\n",
       "      <td>0</td>\n",
       "      <td>0</td>\n",
       "      <td>0</td>\n",
       "      <td>0.0</td>\n",
       "      <td>2</td>\n",
       "      <td>0.0</td>\n",
       "      <td>0.0</td>\n",
       "      <td>0.0</td>\n",
       "    </tr>\n",
       "    <tr>\n",
       "      <th>2</th>\n",
       "      <td>135109</td>\n",
       "      <td>2</td>\n",
       "      <td>0.0</td>\n",
       "      <td>0.0</td>\n",
       "      <td>0.0</td>\n",
       "      <td>0</td>\n",
       "      <td>1</td>\n",
       "      <td>1</td>\n",
       "      <td>0</td>\n",
       "      <td>0</td>\n",
       "      <td>...</td>\n",
       "      <td>2</td>\n",
       "      <td>0.0</td>\n",
       "      <td>0</td>\n",
       "      <td>0</td>\n",
       "      <td>0</td>\n",
       "      <td>0.0</td>\n",
       "      <td>1</td>\n",
       "      <td>0.0</td>\n",
       "      <td>0.0</td>\n",
       "      <td>0.0</td>\n",
       "    </tr>\n",
       "    <tr>\n",
       "      <th>3</th>\n",
       "      <td>135109</td>\n",
       "      <td>2</td>\n",
       "      <td>0.0</td>\n",
       "      <td>0.0</td>\n",
       "      <td>0.0</td>\n",
       "      <td>0</td>\n",
       "      <td>1</td>\n",
       "      <td>1</td>\n",
       "      <td>0</td>\n",
       "      <td>0</td>\n",
       "      <td>...</td>\n",
       "      <td>2</td>\n",
       "      <td>0.0</td>\n",
       "      <td>0</td>\n",
       "      <td>0</td>\n",
       "      <td>0</td>\n",
       "      <td>0.0</td>\n",
       "      <td>1</td>\n",
       "      <td>0.0</td>\n",
       "      <td>0.0</td>\n",
       "      <td>1.0</td>\n",
       "    </tr>\n",
       "    <tr>\n",
       "      <th>4</th>\n",
       "      <td>135106</td>\n",
       "      <td>2</td>\n",
       "      <td>0.0</td>\n",
       "      <td>0.0</td>\n",
       "      <td>1.0</td>\n",
       "      <td>0</td>\n",
       "      <td>1</td>\n",
       "      <td>0</td>\n",
       "      <td>0</td>\n",
       "      <td>1</td>\n",
       "      <td>...</td>\n",
       "      <td>2</td>\n",
       "      <td>0.0</td>\n",
       "      <td>0</td>\n",
       "      <td>0</td>\n",
       "      <td>0</td>\n",
       "      <td>0.0</td>\n",
       "      <td>2</td>\n",
       "      <td>0.0</td>\n",
       "      <td>0.0</td>\n",
       "      <td>1.0</td>\n",
       "    </tr>\n",
       "  </tbody>\n",
       "</table>\n",
       "<p>5 rows × 40 columns</p>\n",
       "</div>"
      ],
      "text/plain": [
       "   placeID  Rpayment  Rcuisine_Cafeteria_res  Rcuisine_Fast_Food_res  \\\n",
       "0   135109         2                     0.0                     0.0   \n",
       "1   135109         2                     0.0                     0.0   \n",
       "2   135109         2                     0.0                     0.0   \n",
       "3   135109         2                     0.0                     0.0   \n",
       "4   135106         2                     0.0                     0.0   \n",
       "\n",
       "   Rcuisine_Mexican_res  parking_lot  alcohol  smoking_area  dress_code  \\\n",
       "0                   0.0            0        1             1           0   \n",
       "1                   0.0            0        1             1           0   \n",
       "2                   0.0            0        1             1           0   \n",
       "3                   0.0            0        1             1           0   \n",
       "4                   1.0            0        1             0           0   \n",
       "\n",
       "   accessibility          ...           budget  Rcuisine_Asian_user  \\\n",
       "0              0          ...                2                  0.0   \n",
       "1              0          ...                2                  0.0   \n",
       "2              0          ...                2                  0.0   \n",
       "3              0          ...                2                  0.0   \n",
       "4              1          ...                2                  0.0   \n",
       "\n",
       "   Rcuisine_Bar_Pub_Brewery  Rcuisine_Cafeteria_user  Rcuisine_Fast_Food_user  \\\n",
       "0                         0                        0                        0   \n",
       "1                         0                        0                        0   \n",
       "2                         0                        0                        0   \n",
       "3                         0                        0                        0   \n",
       "4                         0                        0                        0   \n",
       "\n",
       "   Rcuisine_Mexican_user  Upayment  Rcuisine_Western_user  \\\n",
       "0                    0.0         2                    0.0   \n",
       "1                    0.0         2                    0.0   \n",
       "2                    0.0         1                    0.0   \n",
       "3                    0.0         1                    0.0   \n",
       "4                    0.0         2                    0.0   \n",
       "\n",
       "   Rcuisine_American_Burgers_user  Rcuisine_Others_user  \n",
       "0                             0.0                   0.0  \n",
       "1                             0.0                   0.0  \n",
       "2                             0.0                   0.0  \n",
       "3                             0.0                   1.0  \n",
       "4                             0.0                   1.0  \n",
       "\n",
       "[5 rows x 40 columns]"
      ]
     },
     "execution_count": 105,
     "metadata": {},
     "output_type": "execute_result"
    }
   ],
   "source": [
    "# create a dataframe that analyse user_info features along with restaurant features with ratings\n",
    "res_total_user_feature = final_df.copy()\n",
    "res_total_user_feature.head()"
   ]
  },
  {
   "cell_type": "code",
   "execution_count": 106,
   "metadata": {},
   "outputs": [],
   "source": [
    "import matplotlib.pyplot as plt\n",
    "\n",
    "# this method plots the restaurants features with mean ratings\n",
    "def feature_groupby(df,group_by_column_name,Xlabel_names,Xlabel_range):\n",
    "    groupby_overall = df['overall_rating'].groupby(df[group_by_column_name])\n",
    "    groupby_food = df['food_rating'].groupby(df[group_by_column_name])\n",
    "    groupby_service = df['service_rating'].groupby(df[group_by_column_name])\n",
    "    plt.plot(groupby_overall.mean(), label='overall')\n",
    "    plt.plot(groupby_food.mean(), label='food')\n",
    "    plt.plot(groupby_service.mean(), label = 'service')\n",
    "    plt.xticks(Xlabel_range, Xlabel_names)\n",
    "    plt.legend()\n",
    "    plt.xlabel(group_by_column_name)\n",
    "    plt.ylabel('mean_rating')\n",
    "    plt.show()\n",
    "    \n",
    "    "
   ]
  },
  {
   "cell_type": "code",
   "execution_count": 107,
   "metadata": {},
   "outputs": [],
   "source": [
    "import matplotlib.pyplot as plt\n",
    "\n",
    "# this method plots the restaurants features with mean ratings for various user groups\n",
    "def feature_user_groupby(df,group_by_column_name,user_column_name,user_groups,Xlabel_names,Xlabel_range):\n",
    "    for group_name,group in user_groups.items():              \n",
    "        user_groupby_overall = df['rating'][df[user_column_name]== group].groupby(df[group_by_column_name])\n",
    "        user_groupby_food = df['food_rating'][df[user_column_name]== group].groupby(df[group_by_column_name])\n",
    "        user_groupby_service = df['service_rating'][df[user_column_name]== group].groupby(df[group_by_column_name])    \n",
    "        plt.plot(user_groupby_overall.mean(), label='overall')\n",
    "        plt.plot(user_groupby_food.mean(), label='food')\n",
    "        plt.plot(user_groupby_service.mean(), label = 'service')\n",
    "        plt.xticks(Xlabel_range, Xlabel_names)\n",
    "        plt.legend()\n",
    "        plt.xlabel(group_by_column_name)\n",
    "        plt.ylabel('mean_rating')\n",
    "        plt.title(group_name + ' ' + user_column_name)\n",
    "        plt.show()\n",
    "    \n",
    "    \n",
    "    "
   ]
  },
  {
   "cell_type": "markdown",
   "metadata": {},
   "source": [
    "**Price vs Average restaurant ratings**"
   ]
  },
  {
   "cell_type": "code",
   "execution_count": 108,
   "metadata": {},
   "outputs": [
    {
     "data": {
      "image/png": "[encoded data removed]",
      "text/plain": [
       "<Figure size 432x288 with 1 Axes>"
      ]
     },
     "metadata": {},
     "output_type": "display_data"
    }
   ],
   "source": [
    "feature_groupby(res_total_feature_analyse,'price',['low', 'medium', 'high'],np.arange(1,4))"
   ]
  },
  {
   "cell_type": "markdown",
   "metadata": {},
   "source": [
    "Here we are 1) grouping restaurants based on price 2) calculating the average rating for each group 3) plottting these mean values. Based on this graph, we can see that:\n",
    "\n",
    "**Service Rating:**\n",
    "Low priced restaurants have the lowest service rating. as the price increases, service rating increased but then it almost converged from medium to high priced ones. \n",
    "\n",
    "**Food Rating:**\n",
    "Low priced restaurants have the lowest food rating. As the price increases, food rating increased. However, food rating is similar for both medium and high priced restaurants. This is an important observation\n",
    "\n",
    "**Overall Rating:** Low priced restaurants have the lowest overall rating. As the price increases, overall rating increased. It is to be noticed that the medium priced and high priced only differed on the service level and not on the food level.\n",
    "\n",
    "We can conclude that, you get what you pay for!"
   ]
  },
  {
   "cell_type": "markdown",
   "metadata": {},
   "source": [
    "**Price vs Average restaurant ratings for users with different budgets**"
   ]
  },
  {
   "cell_type": "code",
   "execution_count": 109,
   "metadata": {},
   "outputs": [
    {
     "data": {
      "image/png": "[encoded data removed]",
      "text/plain": [
       "<Figure size 432x288 with 1 Axes>"
      ]
     },
     "metadata": {},
     "output_type": "display_data"
    },
    {
     "data": {
      "image/png": "[encoded data removed]",
      "text/plain": [
       "<Figure size 432x288 with 1 Axes>"
      ]
     },
     "metadata": {},
     "output_type": "display_data"
    },
    {
     "data": {
      "image/png": "[encoded data removed]",
      "text/plain": [
       "<Figure size 432x288 with 1 Axes>"
      ]
     },
     "metadata": {},
     "output_type": "display_data"
    }
   ],
   "source": [
    "feature_user_groupby(res_total_user_feature,'price','budget', {'low':1,'medium':2,'high':3},['low', 'medium', 'high'],np.arange(1,4))"
   ]
  },
  {
   "cell_type": "markdown",
   "metadata": {},
   "source": [
    "Here, we are plotting the ratings given by three groups of users who visited low, medium and high priced restaurants .\n",
    "Medium priced restaurants are the preferred restaurants by all the three user groups.\n"
   ]
  },
  {
   "cell_type": "markdown",
   "metadata": {},
   "source": [
    "** Parking Lot vs Average restaurant ratings **"
   ]
  },
  {
   "cell_type": "code",
   "execution_count": 110,
   "metadata": {},
   "outputs": [
    {
     "data": {
      "text/plain": [
       "1    65\n",
       "0    65\n",
       "Name: parking_lot, dtype: int64"
      ]
     },
     "execution_count": 110,
     "metadata": {},
     "output_type": "execute_result"
    }
   ],
   "source": [
    "res_total_feature_analyse['parking_lot'].value_counts()"
   ]
  },
  {
   "cell_type": "code",
   "execution_count": 111,
   "metadata": {},
   "outputs": [
    {
     "data": {
      "image/png": "[encoded data removed]",
      "text/plain": [
       "<Figure size 432x288 with 1 Axes>"
      ]
     },
     "metadata": {},
     "output_type": "display_data"
    }
   ],
   "source": [
    "feature_groupby(res_total_feature_analyse,'parking_lot',['none', 'parking_available'],np.arange(0,2))"
   ]
  },
  {
   "cell_type": "markdown",
   "metadata": {},
   "source": [
    "There is not a significant change in overall rating for restaurants with or without parking."
   ]
  },
  {
   "cell_type": "code",
   "execution_count": 112,
   "metadata": {},
   "outputs": [
    {
     "data": {
      "text/plain": [
       "0    848\n",
       "1    313\n",
       "Name: transport, dtype: int64"
      ]
     },
     "execution_count": 112,
     "metadata": {},
     "output_type": "execute_result"
    }
   ],
   "source": [
    "res_total_user_feature['transport'].value_counts()"
   ]
  },
  {
   "cell_type": "markdown",
   "metadata": {},
   "source": [
    "**Parking Lot vs Average restaurant ratings for users with different transport preferences**"
   ]
  },
  {
   "cell_type": "code",
   "execution_count": 113,
   "metadata": {},
   "outputs": [
    {
     "data": {
      "image/png": "[encoded data removed]",
      "text/plain": [
       "<Figure size 432x288 with 1 Axes>"
      ]
     },
     "metadata": {},
     "output_type": "display_data"
    },
    {
     "data": {
      "image/png": "[encoded data removed]",
      "text/plain": [
       "<Figure size 432x288 with 1 Axes>"
      ]
     },
     "metadata": {},
     "output_type": "display_data"
    }
   ],
   "source": [
    "feature_user_groupby(res_total_user_feature,'parking_lot','transport', {'public/on-foot': 0, 'car owner': 1},['none', 'parking_available'],np.arange(0,2))"
   ]
  },
  {
   "cell_type": "markdown",
   "metadata": {},
   "source": [
    "As expected, food rating did not change based on parking options. \n",
    "Overall there is no significant change in trend between car-owners and non-car owners"
   ]
  },
  {
   "cell_type": "markdown",
   "metadata": {},
   "source": [
    "**Smoking area vs Average restaurant ratings**"
   ]
  },
  {
   "cell_type": "code",
   "execution_count": 114,
   "metadata": {},
   "outputs": [
    {
     "data": {
      "text/plain": [
       "1    95\n",
       "0    35\n",
       "Name: smoking_area, dtype: int64"
      ]
     },
     "execution_count": 114,
     "metadata": {},
     "output_type": "execute_result"
    }
   ],
   "source": [
    "res_total_feature_analyse['smoking_area'].value_counts()"
   ]
  },
  {
   "cell_type": "code",
   "execution_count": 115,
   "metadata": {},
   "outputs": [
    {
     "data": {
      "image/png": "[encoded data removed]",
      "text/plain": [
       "<Figure size 432x288 with 1 Axes>"
      ]
     },
     "metadata": {},
     "output_type": "display_data"
    }
   ],
   "source": [
    "feature_groupby(res_total_feature_analyse,'smoking_area',['not permitted', 'permitted'],np.arange(0,2))"
   ]
  },
  {
   "cell_type": "markdown",
   "metadata": {},
   "source": [
    "All Ratings have dropped for restaurants that permit smoking"
   ]
  },
  {
   "cell_type": "markdown",
   "metadata": {},
   "source": [
    "**Smoking area vs Average restaurant ratings for differnet preferences of users**"
   ]
  },
  {
   "cell_type": "code",
   "execution_count": 116,
   "metadata": {},
   "outputs": [
    {
     "data": {
      "image/png": "[encoded data removed]",
      "text/plain": [
       "<Figure size 432x288 with 1 Axes>"
      ]
     },
     "metadata": {},
     "output_type": "display_data"
    },
    {
     "data": {
      "image/png": "[encoded data removed]",
      "text/plain": [
       "<Figure size 432x288 with 1 Axes>"
      ]
     },
     "metadata": {},
     "output_type": "display_data"
    }
   ],
   "source": [
    "feature_user_groupby(res_total_user_feature,'smoking_area','smoker', {'Non': 0, '': 1},['not permitted', 'permitted'],np.arange(0,2))"
   ]
  },
  {
   "cell_type": "markdown",
   "metadata": {},
   "source": [
    "Non-smokers gave better ratings for restaurants that do not permit smoking. We think this is natural. \n",
    "For smokers, there has not been an signifcant change in ratings."
   ]
  },
  {
   "cell_type": "markdown",
   "metadata": {},
   "source": [
    "**Alcohol served vs Average restaurant ratings **"
   ]
  },
  {
   "cell_type": "code",
   "execution_count": 117,
   "metadata": {},
   "outputs": [
    {
     "data": {
      "text/plain": [
       "0    87\n",
       "1    43\n",
       "Name: alcohol, dtype: int64"
      ]
     },
     "execution_count": 117,
     "metadata": {},
     "output_type": "execute_result"
    }
   ],
   "source": [
    "res_total_feature_analyse['alcohol'].value_counts()"
   ]
  },
  {
   "cell_type": "code",
   "execution_count": 118,
   "metadata": {},
   "outputs": [
    {
     "data": {
      "image/png": "[encoded data removed]",
      "text/plain": [
       "<Figure size 432x288 with 1 Axes>"
      ]
     },
     "metadata": {},
     "output_type": "display_data"
    }
   ],
   "source": [
    "feature_groupby(res_total_feature_analyse,'alcohol',['No_Alcohol_Served', 'Alcohol_Served'],np.arange(0,2))"
   ]
  },
  {
   "cell_type": "markdown",
   "metadata": {},
   "source": [
    "Restaurants that serve alcohol have higher ratings "
   ]
  },
  {
   "cell_type": "markdown",
   "metadata": {},
   "source": [
    "**Alcohol served vs Average restaurant ratings for users with alcohol preferences**"
   ]
  },
  {
   "cell_type": "code",
   "execution_count": 119,
   "metadata": {},
   "outputs": [
    {
     "data": {
      "image/png": "[encoded data removed]",
      "text/plain": [
       "<Figure size 432x288 with 1 Axes>"
      ]
     },
     "metadata": {},
     "output_type": "display_data"
    },
    {
     "data": {
      "image/png": "[encoded data removed]",
      "text/plain": [
       "<Figure size 432x288 with 1 Axes>"
      ]
     },
     "metadata": {},
     "output_type": "display_data"
    }
   ],
   "source": [
    "feature_user_groupby(res_total_user_feature,'alcohol','drink_level', {'abstemious': 0, 'casual/Social drinker': 1},['No_Alcohol_Served', 'Alcohol_Served'],np.arange(0,2))"
   ]
  },
  {
   "cell_type": "markdown",
   "metadata": {},
   "source": [
    "Users who are drinkers gave better ratings for restaurants that serve alcohol."
   ]
  },
  {
   "cell_type": "markdown",
   "metadata": {},
   "source": [
    "**Other services provided by restaurant vs Average restaurant ratings**"
   ]
  },
  {
   "cell_type": "code",
   "execution_count": 120,
   "metadata": {},
   "outputs": [
    {
     "data": {
      "text/plain": [
       "0    119\n",
       "1     11\n",
       "Name: other_services, dtype: int64"
      ]
     },
     "execution_count": 120,
     "metadata": {},
     "output_type": "execute_result"
    }
   ],
   "source": [
    "res_total_feature_analyse['other_services'].value_counts()"
   ]
  },
  {
   "cell_type": "code",
   "execution_count": 121,
   "metadata": {},
   "outputs": [
    {
     "data": {
      "image/png": "[encoded data removed]",
      "text/plain": [
       "<Figure size 432x288 with 1 Axes>"
      ]
     },
     "metadata": {},
     "output_type": "display_data"
    }
   ],
   "source": [
    "feature_groupby(res_total_feature_analyse,'other_services',['none', 'services provided'],np.arange(0,2))"
   ]
  },
  {
   "cell_type": "markdown",
   "metadata": {},
   "source": [
    "Restaurants that provide additional services have higher ratings"
   ]
  },
  {
   "cell_type": "markdown",
   "metadata": {},
   "source": [
    "**Dress Code mentioned by restaurants vs Average restaurant ratings**"
   ]
  },
  {
   "cell_type": "code",
   "execution_count": 122,
   "metadata": {},
   "outputs": [
    {
     "data": {
      "text/plain": [
       "0    128\n",
       "1      2\n",
       "Name: dress_code, dtype: int64"
      ]
     },
     "execution_count": 122,
     "metadata": {},
     "output_type": "execute_result"
    }
   ],
   "source": [
    "res_total_feature_analyse['dress_code'].value_counts()"
   ]
  },
  {
   "cell_type": "code",
   "execution_count": 123,
   "metadata": {},
   "outputs": [
    {
     "data": {
      "image/png": "[encoded data removed]",
      "text/plain": [
       "<Figure size 432x288 with 1 Axes>"
      ]
     },
     "metadata": {},
     "output_type": "display_data"
    }
   ],
   "source": [
    "feature_groupby(res_total_feature_analyse,'dress_code',['informal/casual', 'formal'],np.arange(0,2))"
   ]
  },
  {
   "cell_type": "markdown",
   "metadata": {},
   "source": [
    "Restaurants with formal dress code have higher ratings. Generally, they could be higher star restaurants."
   ]
  },
  {
   "cell_type": "markdown",
   "metadata": {},
   "source": [
    "**Dress Code mentioned by restaurants  vs Average restaurant ratings for users with different dress preferences**"
   ]
  },
  {
   "cell_type": "code",
   "execution_count": 124,
   "metadata": {},
   "outputs": [
    {
     "data": {
      "image/png": "[encoded data removed]",
      "text/plain": [
       "<Figure size 432x288 with 1 Axes>"
      ]
     },
     "metadata": {},
     "output_type": "display_data"
    },
    {
     "data": {
      "image/png": "[encoded data removed]",
      "text/plain": [
       "<Figure size 432x288 with 1 Axes>"
      ]
     },
     "metadata": {},
     "output_type": "display_data"
    }
   ],
   "source": [
    "feature_user_groupby(res_total_user_feature,'dress_code','dress_preference', {'informal':0, 'elegant/formal':1},['informal/casual', 'formal'],np.arange(0,2))"
   ]
  },
  {
   "cell_type": "markdown",
   "metadata": {},
   "source": [
    "Users who prefer informal dress code still gave higher ratings to the restaurants that have formal dress code.  This could be also because they are higher priced restaurants. Users who prefer elegant/formal dress gave higher rating to restaurants with formal dress code."
   ]
  },
  {
   "cell_type": "markdown",
   "metadata": {},
   "source": [
    "**Accessibility provided by restaurants  vs Average restaurant ratings**"
   ]
  },
  {
   "cell_type": "code",
   "execution_count": 125,
   "metadata": {},
   "outputs": [
    {
     "data": {
      "text/plain": [
       "0    76\n",
       "2    45\n",
       "1     9\n",
       "Name: accessibility, dtype: int64"
      ]
     },
     "execution_count": 125,
     "metadata": {},
     "output_type": "execute_result"
    }
   ],
   "source": [
    "res_total_feature_analyse['accessibility'].value_counts()"
   ]
  },
  {
   "cell_type": "code",
   "execution_count": 126,
   "metadata": {},
   "outputs": [
    {
     "data": {
      "image/png": "[encoded data removed]",
      "text/plain": [
       "<Figure size 432x288 with 1 Axes>"
      ]
     },
     "metadata": {},
     "output_type": "display_data"
    }
   ],
   "source": [
    "feature_groupby(res_total_feature_analyse,'accessibility',['no_accessibility', 'partially', 'completely'],np.arange(0,3))"
   ]
  },
  {
   "cell_type": "markdown",
   "metadata": {},
   "source": [
    "We could not interpret the distribution for this feature as it is not fully clear why the ratings dropped from partially accessible to completely accessible restaurants."
   ]
  },
  {
   "cell_type": "markdown",
   "metadata": {},
   "source": [
    "**Type of Restaurant  vs Average restaurant ratings **"
   ]
  },
  {
   "cell_type": "code",
   "execution_count": 127,
   "metadata": {},
   "outputs": [
    {
     "data": {
      "text/plain": [
       "1    115\n",
       "0     15\n",
       "Name: area, dtype: int64"
      ]
     },
     "execution_count": 127,
     "metadata": {},
     "output_type": "execute_result"
    }
   ],
   "source": [
    "res_total_feature_analyse['area'].value_counts()"
   ]
  },
  {
   "cell_type": "code",
   "execution_count": 128,
   "metadata": {},
   "outputs": [
    {
     "data": {
      "image/png": "[encoded data removed]",
      "text/plain": [
       "<Figure size 432x288 with 1 Axes>"
      ]
     },
     "metadata": {},
     "output_type": "display_data"
    }
   ],
   "source": [
    "feature_groupby(res_total_feature_analyse,'area',['open', 'closed'],np.arange(0,2))"
   ]
  },
  {
   "cell_type": "markdown",
   "metadata": {},
   "source": [
    "Closed restaurants have higher overall ratings. This makes sense as most users preferred closed space restaurants"
   ]
  },
  {
   "cell_type": "markdown",
   "metadata": {},
   "source": [
    "**Cuisines provided by restaurants  vs Average restaurant ratings**"
   ]
  },
  {
   "cell_type": "code",
   "execution_count": 129,
   "metadata": {},
   "outputs": [],
   "source": [
    "columns = ['Rcuisine_Mexican','Rcuisine_American_Burgers', 'Rcuisine_Asian','Rcuisine_Bar_Pub', 'Rcuisine_Cafeteria',\n",
    "           'Rcuisine_Fast_Food','Rcuisine_Others','Rcuisine_Western']\n",
    "overall_rating_cusine = []\n",
    "food_rating_cusine = []\n",
    "service_rating_cusine = []\n",
    "\n",
    "for x in columns:\n",
    "    overall_mean_value = res_total_feature_analyse['overall_rating'][res_total_feature_analyse[x]==1].mean()\n",
    "    overall_rating_cusine.append(overall_mean_value)\n",
    "    food_mean_value = res_total_feature_analyse['food_rating'][res_total_feature_analyse[x]==1].mean()\n",
    "    food_rating_cusine.append(food_mean_value)\n",
    "    service_mean_value = res_total_feature_analyse['service_rating'][res_total_feature_analyse[x]==1].mean()\n",
    "    service_rating_cusine.append(service_mean_value)"
   ]
  },
  {
   "cell_type": "code",
   "execution_count": 130,
   "metadata": {},
   "outputs": [
    {
     "data": {
      "image/png": "[encoded data removed]",
      "text/plain": [
       "<Figure size 432x288 with 1 Axes>"
      ]
     },
     "metadata": {},
     "output_type": "display_data"
    }
   ],
   "source": [
    "plt.plot(overall_rating_cusine, label='overall')\n",
    "plt.plot(food_rating_cusine, label='food')\n",
    "plt.plot(service_rating_cusine, label = 'service')\n",
    "plt.xticks(np.arange(0,9),columns)\n",
    "plt.xticks(rotation=40)\n",
    "plt.legend()\n",
    "plt.xlabel('cuisine')\n",
    "plt.ylabel('mean_rating')\n",
    "plt.show()\n"
   ]
  },
  {
   "cell_type": "markdown",
   "metadata": {},
   "source": [
    "Rcuisine_Others cuisine got highest ratings among all the cuisine groups. Asian restaurants got the next higher ratings. Fastfood cuisine got lowest ratings."
   ]
  },
  {
   "cell_type": "code",
   "execution_count": 131,
   "metadata": {},
   "outputs": [
    {
     "data": {
      "text/html": [
       "<div>\n",
       "<style scoped>\n",
       "    .dataframe tbody tr th:only-of-type {\n",
       "        vertical-align: middle;\n",
       "    }\n",
       "\n",
       "    .dataframe tbody tr th {\n",
       "        vertical-align: top;\n",
       "    }\n",
       "\n",
       "    .dataframe thead th {\n",
       "        text-align: right;\n",
       "    }\n",
       "</style>\n",
       "<table border=\"1\" class=\"dataframe\">\n",
       "  <thead>\n",
       "    <tr style=\"text-align: right;\">\n",
       "      <th></th>\n",
       "      <th>sum_sq</th>\n",
       "      <th>df</th>\n",
       "      <th>F</th>\n",
       "      <th>PR(&gt;F)</th>\n",
       "    </tr>\n",
       "  </thead>\n",
       "  <tbody>\n",
       "    <tr>\n",
       "      <th>food_rating</th>\n",
       "      <td>1.652159</td>\n",
       "      <td>1.0</td>\n",
       "      <td>56.576426</td>\n",
       "      <td>1.165176e-11</td>\n",
       "    </tr>\n",
       "    <tr>\n",
       "      <th>service_rating</th>\n",
       "      <td>1.671657</td>\n",
       "      <td>1.0</td>\n",
       "      <td>57.244124</td>\n",
       "      <td>9.267018e-12</td>\n",
       "    </tr>\n",
       "    <tr>\n",
       "      <th>parking_lot</th>\n",
       "      <td>0.002329</td>\n",
       "      <td>1.0</td>\n",
       "      <td>0.079748</td>\n",
       "      <td>7.781340e-01</td>\n",
       "    </tr>\n",
       "    <tr>\n",
       "      <th>url</th>\n",
       "      <td>0.000292</td>\n",
       "      <td>1.0</td>\n",
       "      <td>0.010012</td>\n",
       "      <td>9.204665e-01</td>\n",
       "    </tr>\n",
       "    <tr>\n",
       "      <th>dress_code</th>\n",
       "      <td>0.005054</td>\n",
       "      <td>1.0</td>\n",
       "      <td>0.173068</td>\n",
       "      <td>6.781552e-01</td>\n",
       "    </tr>\n",
       "    <tr>\n",
       "      <th>alcohol</th>\n",
       "      <td>0.007727</td>\n",
       "      <td>1.0</td>\n",
       "      <td>0.264618</td>\n",
       "      <td>6.079272e-01</td>\n",
       "    </tr>\n",
       "    <tr>\n",
       "      <th>area</th>\n",
       "      <td>0.114426</td>\n",
       "      <td>1.0</td>\n",
       "      <td>3.918397</td>\n",
       "      <td>5.008863e-02</td>\n",
       "    </tr>\n",
       "    <tr>\n",
       "      <th>smoking_area</th>\n",
       "      <td>0.119173</td>\n",
       "      <td>1.0</td>\n",
       "      <td>4.080953</td>\n",
       "      <td>4.563397e-02</td>\n",
       "    </tr>\n",
       "    <tr>\n",
       "      <th>accessibility</th>\n",
       "      <td>0.043317</td>\n",
       "      <td>1.0</td>\n",
       "      <td>1.483339</td>\n",
       "      <td>2.256826e-01</td>\n",
       "    </tr>\n",
       "    <tr>\n",
       "      <th>price</th>\n",
       "      <td>0.010695</td>\n",
       "      <td>1.0</td>\n",
       "      <td>0.366252</td>\n",
       "      <td>5.462167e-01</td>\n",
       "    </tr>\n",
       "    <tr>\n",
       "      <th>Rambience</th>\n",
       "      <td>0.147004</td>\n",
       "      <td>1.0</td>\n",
       "      <td>5.033999</td>\n",
       "      <td>2.672005e-02</td>\n",
       "    </tr>\n",
       "    <tr>\n",
       "      <th>Residual</th>\n",
       "      <td>3.445866</td>\n",
       "      <td>118.0</td>\n",
       "      <td>NaN</td>\n",
       "      <td>NaN</td>\n",
       "    </tr>\n",
       "  </tbody>\n",
       "</table>\n",
       "</div>"
      ],
      "text/plain": [
       "                  sum_sq     df          F        PR(>F)\n",
       "food_rating     1.652159    1.0  56.576426  1.165176e-11\n",
       "service_rating  1.671657    1.0  57.244124  9.267018e-12\n",
       "parking_lot     0.002329    1.0   0.079748  7.781340e-01\n",
       "url             0.000292    1.0   0.010012  9.204665e-01\n",
       "dress_code      0.005054    1.0   0.173068  6.781552e-01\n",
       "alcohol         0.007727    1.0   0.264618  6.079272e-01\n",
       "area            0.114426    1.0   3.918397  5.008863e-02\n",
       "smoking_area    0.119173    1.0   4.080953  4.563397e-02\n",
       "accessibility   0.043317    1.0   1.483339  2.256826e-01\n",
       "price           0.010695    1.0   0.366252  5.462167e-01\n",
       "Rambience       0.147004    1.0   5.033999  2.672005e-02\n",
       "Residual        3.445866  118.0        NaN           NaN"
      ]
     },
     "execution_count": 131,
     "metadata": {},
     "output_type": "execute_result"
    }
   ],
   "source": [
    "# Here are we are calculating statistics from anova table.\n",
    "import statsmodels.api as sm\n",
    "from statsmodels.formula.api import ols\n",
    "\n",
    "mod = ols(\n",
    "    'overall_rating~ food_rating + service_rating + parking_lot + url + dress_code + alcohol + area + smoking_area + accessibility + price + Rambience', data=res_total_feature_analyse).fit()\n",
    "\n",
    "aov_table = sm.stats.anova_lm(mod, typ=2)\n",
    "aov_table"
   ]
  },
  {
   "cell_type": "markdown",
   "metadata": {},
   "source": [
    "We can see that p value is less for most of the features we selected. This explains that these features are significant."
   ]
  },
  {
   "cell_type": "markdown",
   "metadata": {},
   "source": [
    "## Step 6: Feature Engineering is completed."
   ]
  },
  {
   "cell_type": "markdown",
   "metadata": {},
   "source": [
    "## Step 7: Model Selection and Evaluation begins!"
   ]
  },
  {
   "cell_type": "code",
   "execution_count": 132,
   "metadata": {},
   "outputs": [],
   "source": [
    "final_df = final_df.drop(['food_rating','service_rating'], axis=1)\n"
   ]
  },
  {
   "cell_type": "code",
   "execution_count": 133,
   "metadata": {},
   "outputs": [],
   "source": [
    "split = np.random.rand(len(final_df)) < 0.81\n",
    "train_df = final_df[split]\n",
    "test_df = final_df[~split]\n",
    "\n",
    "X_train = train_df[train_df.columns.difference(['placeID','userID','rating'])]\n",
    "y_train = train_df[\"rating\"]\n",
    "X_test = test_df[test_df.columns.difference(['placeID','userID','rating'])]\n",
    "y_test = test_df[\"rating\"]"
   ]
  },
  {
   "cell_type": "code",
   "execution_count": 134,
   "metadata": {},
   "outputs": [],
   "source": [
    "feature_df = final_df[final_df.columns.difference(['placeID','userID'])]"
   ]
  },
  {
   "cell_type": "markdown",
   "metadata": {},
   "source": [
    "** Linear Regression using kfold cross validation**"
   ]
  },
  {
   "cell_type": "code",
   "execution_count": 135,
   "metadata": {},
   "outputs": [
    {
     "name": "stdout",
     "output_type": "stream",
     "text": [
      "0.7458835811540527\n"
     ]
    }
   ],
   "source": [
    "from sklearn import datasets, linear_model\n",
    "from sklearn.model_selection import cross_val_score\n",
    "l_x=feature_df.loc[:, feature_df.columns != 'rating']\n",
    "l_y=feature_df[\"rating\"]\n",
    "l_regr = linear_model.LinearRegression()\n",
    "rmse_logistic_Scores = cross_val_score(l_regr, l_x, l_y, cv=10, scoring='neg_mean_squared_error')\n",
    "print(rmse_logistic_Scores.mean() *-1)"
   ]
  },
  {
   "cell_type": "markdown",
   "metadata": {},
   "source": [
    "** K-nearest neighbors Regression using kfold cross-validation**"
   ]
  },
  {
   "cell_type": "code",
   "execution_count": 136,
   "metadata": {},
   "outputs": [
    {
     "name": "stdout",
     "output_type": "stream",
     "text": [
      "[0.9939879695960807, 0.8739578442847208, 0.8401241142594655, 0.8139704495375164, 0.8077171624037076, 0.7983048433092258, 0.7901514259559753, 0.7810133372752147, 0.7757765739552512, 0.7773811617700284, 0.7736953955286572, 0.7758097786318211, 0.7749013089893616, 0.7742259448313209, 0.7735516103359609, 0.770793473561392, 0.7729702203593791, 0.7702001588336738, 0.7691308921887351, 0.7693382099665081, 0.7689063627687843, 0.7675077386195244, 0.7668014227603728, 0.7664905008591383, 0.767336346891141, 0.7655316701166667, 0.7668811028856826, 0.7660651025940234, 0.7661292217632293, 0.7665672814954373, 0.7663780089283779, 0.7675845338411038, 0.7682485704272034, 0.7699419857871662, 0.7700331926921524, 0.7686869420303208, 0.7667521609550202, 0.7670473886781186, 0.7660889890610514, 0.7649488362705709, 0.7658655965687173, 0.76614776276648, 0.7656015881908743, 0.7654791253305564, 0.7659619205104917, 0.7662016792859426, 0.7646326627166404, 0.7653941906740304, 0.765815912137505]\n"
     ]
    }
   ],
   "source": [
    "from sklearn.neighbors import KNeighborsRegressor\n",
    "k_x=feature_df.loc[:, feature_df.columns != 'rating']\n",
    "k_y=feature_df[\"rating\"]\n",
    "knn = KNeighborsRegressor()\n",
    "# search for an optimal value of K for KN\n",
    "k_range = list(range(1, 50))\n",
    "k_scores = []\n",
    "for k in k_range:\n",
    "    knn = KNeighborsRegressor(n_neighbors=k)\n",
    "    scores = cross_val_score(knn, k_x, k_y, cv=10, scoring='neg_mean_squared_error')\n",
    "    temp= scores*-1\n",
    "    k_scores.append(temp.mean() ** (1/2))\n",
    "print(k_scores)"
   ]
  },
  {
   "cell_type": "code",
   "execution_count": 137,
   "metadata": {},
   "outputs": [
    {
     "data": {
      "text/plain": [
       "Text(0,0.5,'RMSE')"
      ]
     },
     "execution_count": 137,
     "metadata": {},
     "output_type": "execute_result"
    },
    {
     "data": {
      "image/png": "[encoded data removed]",
      "text/plain": [
       "<Figure size 432x288 with 1 Axes>"
      ]
     },
     "metadata": {},
     "output_type": "display_data"
    }
   ],
   "source": [
    "import matplotlib.pyplot as plt\n",
    "%matplotlib inline\n",
    "\n",
    "# plot the value of K for KNN (x-axis) versus the cross-validated accuracy (y-axis)\n",
    "plt.plot(k_range, k_scores)\n",
    "plt.xlabel('Value of K for KNN')\n",
    "plt.ylabel('RMSE')"
   ]
  },
  {
   "cell_type": "markdown",
   "metadata": {},
   "source": [
    "RMSE curve converges and remains constant after the k value of 10"
   ]
  },
  {
   "cell_type": "code",
   "execution_count": 138,
   "metadata": {},
   "outputs": [
    {
     "name": "stdout",
     "output_type": "stream",
     "text": [
      "0.7773811617700284\n"
     ]
    }
   ],
   "source": [
    "# 10-fold cross-validation with the best KNN model\n",
    "knn = KNeighborsRegressor(n_neighbors=10)\n",
    "k_mse=(cross_val_score(knn, k_x, k_y, cv=10, scoring='neg_mean_squared_error').mean() * -1 )\n",
    "k_rmse=k_mse ** (1/2)\n",
    "print(k_rmse)"
   ]
  },
  {
   "cell_type": "markdown",
   "metadata": {},
   "source": [
    "Linear Regression has low RMSE compared to KNN model\n",
    "So, Linear regression model performs better than kNN model. So we are using linear regression model to predict the ratings for the restaurants that user has not rated yet."
   ]
  },
  {
   "cell_type": "markdown",
   "metadata": {},
   "source": [
    "## Step 7: Model Selection and Evaluation completed."
   ]
  },
  {
   "cell_type": "markdown",
   "metadata": {},
   "source": [
    "## Step 8: Restaurant Recommendation begins!"
   ]
  },
  {
   "cell_type": "markdown",
   "metadata": {},
   "source": [
    "** For one particular user, we will predict the ratings for the restaurants that the user didnot give and then suggests the top 5 restaurants from the overall restaurant dataset.\n",
    "we choose user U1030\n",
    "**"
   ]
  },
  {
   "cell_type": "code",
   "execution_count": 139,
   "metadata": {},
   "outputs": [],
   "source": [
    "ratings_to_be_predicted_test = pd.DataFrame()\n",
    "ratings_to_be_predicted_test['userID'] = user_total['userID']\n",
    "ratings_to_be_predicted_test['tmp'] =1\n",
    "unique_restuarants = pd.DataFrame()\n",
    "unique_restuarants['placeID'] = res_total['placeID']\n",
    "unique_restuarants['tmp'] =1\n",
    "ratings_to_be_predicted_test = pd.merge(ratings_to_be_predicted_test, unique_restuarants,on='tmp')\n",
    "ratings_to_be_predicted_test = ratings_to_be_predicted_test.drop(columns = ['tmp'])"
   ]
  },
  {
   "cell_type": "code",
   "execution_count": 140,
   "metadata": {},
   "outputs": [],
   "source": [
    "ratings_to_be_predicted_test = pd.merge(left= ratings_to_be_predicted_test, right= res_total, how='left',  on='placeID')\n"
   ]
  },
  {
   "cell_type": "code",
   "execution_count": 141,
   "metadata": {},
   "outputs": [],
   "source": [
    "ratings_to_be_predicted_test = pd.merge(left= ratings_to_be_predicted_test, right= user_total, how='left',  on='userID', suffixes=['_res', '_user'])"
   ]
  },
  {
   "cell_type": "code",
   "execution_count": 142,
   "metadata": {},
   "outputs": [
    {
     "data": {
      "text/html": [
       "<div>\n",
       "<style scoped>\n",
       "    .dataframe tbody tr th:only-of-type {\n",
       "        vertical-align: middle;\n",
       "    }\n",
       "\n",
       "    .dataframe tbody tr th {\n",
       "        vertical-align: top;\n",
       "    }\n",
       "\n",
       "    .dataframe thead th {\n",
       "        text-align: right;\n",
       "    }\n",
       "</style>\n",
       "<table border=\"1\" class=\"dataframe\">\n",
       "  <thead>\n",
       "    <tr style=\"text-align: right;\">\n",
       "      <th></th>\n",
       "      <th>userID</th>\n",
       "      <th>placeID</th>\n",
       "      <th>Rpayment</th>\n",
       "      <th>Rcuisine_Cafeteria_res</th>\n",
       "      <th>Rcuisine_Fast_Food_res</th>\n",
       "      <th>Rcuisine_Mexican_res</th>\n",
       "      <th>parking_lot</th>\n",
       "      <th>alcohol</th>\n",
       "      <th>smoking_area</th>\n",
       "      <th>dress_code</th>\n",
       "      <th>...</th>\n",
       "      <th>Rcuisine_Cafeteria_user</th>\n",
       "      <th>Rcuisine_Fast_Food_user</th>\n",
       "      <th>Rcuisine_Mexican_user</th>\n",
       "      <th>Upayment</th>\n",
       "      <th>Rcuisine_Western_user</th>\n",
       "      <th>Rcuisine_American_Burgers_user</th>\n",
       "      <th>Rcuisine_Others_user</th>\n",
       "      <th>rating</th>\n",
       "      <th>food_rating</th>\n",
       "      <th>service_rating</th>\n",
       "    </tr>\n",
       "  </thead>\n",
       "  <tbody>\n",
       "    <tr>\n",
       "      <th>0</th>\n",
       "      <td>U1001</td>\n",
       "      <td>135109</td>\n",
       "      <td>2</td>\n",
       "      <td>0.0</td>\n",
       "      <td>0.0</td>\n",
       "      <td>0.0</td>\n",
       "      <td>0</td>\n",
       "      <td>1</td>\n",
       "      <td>1</td>\n",
       "      <td>0</td>\n",
       "      <td>...</td>\n",
       "      <td>0</td>\n",
       "      <td>0</td>\n",
       "      <td>0.0</td>\n",
       "      <td>2</td>\n",
       "      <td>0.0</td>\n",
       "      <td>1.0</td>\n",
       "      <td>0.0</td>\n",
       "      <td>NaN</td>\n",
       "      <td>NaN</td>\n",
       "      <td>NaN</td>\n",
       "    </tr>\n",
       "    <tr>\n",
       "      <th>1</th>\n",
       "      <td>U1001</td>\n",
       "      <td>135106</td>\n",
       "      <td>2</td>\n",
       "      <td>0.0</td>\n",
       "      <td>0.0</td>\n",
       "      <td>1.0</td>\n",
       "      <td>0</td>\n",
       "      <td>1</td>\n",
       "      <td>0</td>\n",
       "      <td>0</td>\n",
       "      <td>...</td>\n",
       "      <td>0</td>\n",
       "      <td>0</td>\n",
       "      <td>0.0</td>\n",
       "      <td>2</td>\n",
       "      <td>0.0</td>\n",
       "      <td>1.0</td>\n",
       "      <td>0.0</td>\n",
       "      <td>NaN</td>\n",
       "      <td>NaN</td>\n",
       "      <td>NaN</td>\n",
       "    </tr>\n",
       "    <tr>\n",
       "      <th>2</th>\n",
       "      <td>U1001</td>\n",
       "      <td>135104</td>\n",
       "      <td>2</td>\n",
       "      <td>0.0</td>\n",
       "      <td>0.0</td>\n",
       "      <td>1.0</td>\n",
       "      <td>1</td>\n",
       "      <td>1</td>\n",
       "      <td>1</td>\n",
       "      <td>0</td>\n",
       "      <td>...</td>\n",
       "      <td>0</td>\n",
       "      <td>0</td>\n",
       "      <td>0.0</td>\n",
       "      <td>2</td>\n",
       "      <td>0.0</td>\n",
       "      <td>1.0</td>\n",
       "      <td>0.0</td>\n",
       "      <td>NaN</td>\n",
       "      <td>NaN</td>\n",
       "      <td>NaN</td>\n",
       "    </tr>\n",
       "    <tr>\n",
       "      <th>3</th>\n",
       "      <td>U1001</td>\n",
       "      <td>135088</td>\n",
       "      <td>2</td>\n",
       "      <td>1.0</td>\n",
       "      <td>0.0</td>\n",
       "      <td>0.0</td>\n",
       "      <td>1</td>\n",
       "      <td>0</td>\n",
       "      <td>1</td>\n",
       "      <td>0</td>\n",
       "      <td>...</td>\n",
       "      <td>0</td>\n",
       "      <td>0</td>\n",
       "      <td>0.0</td>\n",
       "      <td>2</td>\n",
       "      <td>0.0</td>\n",
       "      <td>1.0</td>\n",
       "      <td>0.0</td>\n",
       "      <td>NaN</td>\n",
       "      <td>NaN</td>\n",
       "      <td>NaN</td>\n",
       "    </tr>\n",
       "    <tr>\n",
       "      <th>4</th>\n",
       "      <td>U1001</td>\n",
       "      <td>135086</td>\n",
       "      <td>2</td>\n",
       "      <td>0.0</td>\n",
       "      <td>1.0</td>\n",
       "      <td>0.0</td>\n",
       "      <td>1</td>\n",
       "      <td>0</td>\n",
       "      <td>1</td>\n",
       "      <td>0</td>\n",
       "      <td>...</td>\n",
       "      <td>0</td>\n",
       "      <td>0</td>\n",
       "      <td>0.0</td>\n",
       "      <td>2</td>\n",
       "      <td>0.0</td>\n",
       "      <td>1.0</td>\n",
       "      <td>0.0</td>\n",
       "      <td>NaN</td>\n",
       "      <td>NaN</td>\n",
       "      <td>NaN</td>\n",
       "    </tr>\n",
       "  </tbody>\n",
       "</table>\n",
       "<p>5 rows × 40 columns</p>\n",
       "</div>"
      ],
      "text/plain": [
       "  userID  placeID  Rpayment  Rcuisine_Cafeteria_res  Rcuisine_Fast_Food_res  \\\n",
       "0  U1001   135109         2                     0.0                     0.0   \n",
       "1  U1001   135106         2                     0.0                     0.0   \n",
       "2  U1001   135104         2                     0.0                     0.0   \n",
       "3  U1001   135088         2                     1.0                     0.0   \n",
       "4  U1001   135086         2                     0.0                     1.0   \n",
       "\n",
       "   Rcuisine_Mexican_res  parking_lot  alcohol  smoking_area  dress_code  \\\n",
       "0                   0.0            0        1             1           0   \n",
       "1                   1.0            0        1             0           0   \n",
       "2                   1.0            1        1             1           0   \n",
       "3                   0.0            1        0             1           0   \n",
       "4                   0.0            1        0             1           0   \n",
       "\n",
       "        ...        Rcuisine_Cafeteria_user  Rcuisine_Fast_Food_user  \\\n",
       "0       ...                              0                        0   \n",
       "1       ...                              0                        0   \n",
       "2       ...                              0                        0   \n",
       "3       ...                              0                        0   \n",
       "4       ...                              0                        0   \n",
       "\n",
       "   Rcuisine_Mexican_user  Upayment  Rcuisine_Western_user  \\\n",
       "0                    0.0         2                    0.0   \n",
       "1                    0.0         2                    0.0   \n",
       "2                    0.0         2                    0.0   \n",
       "3                    0.0         2                    0.0   \n",
       "4                    0.0         2                    0.0   \n",
       "\n",
       "   Rcuisine_American_Burgers_user  Rcuisine_Others_user  rating  food_rating  \\\n",
       "0                             1.0                   0.0     NaN          NaN   \n",
       "1                             1.0                   0.0     NaN          NaN   \n",
       "2                             1.0                   0.0     NaN          NaN   \n",
       "3                             1.0                   0.0     NaN          NaN   \n",
       "4                             1.0                   0.0     NaN          NaN   \n",
       "\n",
       "   service_rating  \n",
       "0             NaN  \n",
       "1             NaN  \n",
       "2             NaN  \n",
       "3             NaN  \n",
       "4             NaN  \n",
       "\n",
       "[5 rows x 40 columns]"
      ]
     },
     "execution_count": 142,
     "metadata": {},
     "output_type": "execute_result"
    }
   ],
   "source": [
    "ratings_to_be_predicted_test = pd.merge(ratings_to_be_predicted_test,final_rating,how = 'left', on = ['placeID','userID'])\n",
    "ratings_to_be_predicted_test.head()"
   ]
  },
  {
   "cell_type": "code",
   "execution_count": 143,
   "metadata": {},
   "outputs": [],
   "source": [
    "ratings_to_be_predicted_test = ratings_to_be_predicted_test.drop(columns = ['food_rating','service_rating'])\n",
    "ratings_to_be_predicted_test =ratings_to_be_predicted_test.fillna(-1)"
   ]
  },
  {
   "cell_type": "code",
   "execution_count": 144,
   "metadata": {},
   "outputs": [
    {
     "data": {
      "text/plain": [
       "130"
      ]
     },
     "execution_count": 144,
     "metadata": {},
     "output_type": "execute_result"
    }
   ],
   "source": [
    "Ratings_predict_for_U1030 = ratings_to_be_predicted_test[ratings_to_be_predicted_test['userID'] == 'U1030']\n",
    "len(Ratings_predict_for_U1030)"
   ]
  },
  {
   "cell_type": "code",
   "execution_count": 145,
   "metadata": {},
   "outputs": [],
   "source": [
    "test_data = Ratings_predict_for_U1030[Ratings_predict_for_U1030['rating'] ==-1]"
   ]
  },
  {
   "cell_type": "code",
   "execution_count": 146,
   "metadata": {},
   "outputs": [],
   "source": [
    "cols_selected = [col for col in final_df.columns if col not in ['userID','placeID']]\n",
    "predicted_feature_df = test_data[cols_selected]"
   ]
  },
  {
   "cell_type": "code",
   "execution_count": 147,
   "metadata": {},
   "outputs": [],
   "source": [
    "X_test_user = predicted_feature_df[predicted_feature_df.columns.difference(['rating'])]\n",
    "y_test_user = predicted_feature_df[\"rating\"]"
   ]
  },
  {
   "cell_type": "code",
   "execution_count": 148,
   "metadata": {},
   "outputs": [
    {
     "name": "stderr",
     "output_type": "stream",
     "text": [
      "C:\\Users\\kiran\\Anaconda3\\lib\\site-packages\\ipykernel_launcher.py:14: SettingWithCopyWarning: \n",
      "A value is trying to be set on a copy of a slice from a DataFrame.\n",
      "Try using .loc[row_indexer,col_indexer] = value instead\n",
      "\n",
      "See the caveats in the documentation: http://pandas.pydata.org/pandas-docs/stable/indexing.html#indexing-view-versus-copy\n",
      "  \n"
     ]
    }
   ],
   "source": [
    "from sklearn import datasets, linear_model\n",
    "from sklearn.metrics import mean_squared_error, r2_score\n",
    "%matplotlib inline\n",
    "from sklearn.metrics import roc_auc_score, auc, roc_curve\n",
    "# Create linear regression object\n",
    "regr = linear_model.LinearRegression()\n",
    "\n",
    "# Train the model using the training sets\n",
    "regr.fit(X_train, y_train)\n",
    "\n",
    "# Make predictions using the testing set\n",
    "rating_pred = regr.predict(X_test_user)\n",
    "\n",
    "predicted_feature_df[\"rating\"] = rating_pred\n",
    "\n"
   ]
  },
  {
   "cell_type": "code",
   "execution_count": 149,
   "metadata": {},
   "outputs": [
    {
     "name": "stderr",
     "output_type": "stream",
     "text": [
      "C:\\Users\\kiran\\Anaconda3\\lib\\site-packages\\ipykernel_launcher.py:1: SettingWithCopyWarning: \n",
      "A value is trying to be set on a copy of a slice from a DataFrame.\n",
      "Try using .loc[row_indexer,col_indexer] = value instead\n",
      "\n",
      "See the caveats in the documentation: http://pandas.pydata.org/pandas-docs/stable/indexing.html#indexing-view-versus-copy\n",
      "  \"\"\"Entry point for launching an IPython kernel.\n"
     ]
    }
   ],
   "source": [
    "test_data['rating'] = predicted_feature_df[\"rating\"]\n"
   ]
  },
  {
   "cell_type": "code",
   "execution_count": 150,
   "metadata": {},
   "outputs": [],
   "source": [
    "test_data_for_prior_rated_restaurants = Ratings_predict_for_U1030[Ratings_predict_for_U1030['rating'] !=-1]"
   ]
  },
  {
   "cell_type": "code",
   "execution_count": 151,
   "metadata": {},
   "outputs": [],
   "source": [
    "test_data = test_data.append(test_data_for_prior_rated_restaurants)"
   ]
  },
  {
   "cell_type": "code",
   "execution_count": 152,
   "metadata": {},
   "outputs": [
    {
     "data": {
      "text/plain": [
       "3887    134986\n",
       "3824    135018\n",
       "3842    132922\n",
       "3865    132755\n",
       "3835    134975\n",
       "Name: placeID, dtype: int64"
      ]
     },
     "execution_count": 152,
     "metadata": {},
     "output_type": "execute_result"
    }
   ],
   "source": [
    "df1 = test_data.sort_values('rating',ascending = False).head()\n",
    "df1['placeID']"
   ]
  },
  {
   "cell_type": "code",
   "execution_count": 153,
   "metadata": {},
   "outputs": [
    {
     "name": "stdout",
     "output_type": "stream",
     "text": [
      "For the user with userID U1030, the top 5 restaurants are with placeIDs [134986, 135018, 132922, 132755, 134975]\n"
     ]
    }
   ],
   "source": [
    "print(\"For the user with userID U1030, the top 5 restaurants are with placeIDs {}\".format(df1['placeID'].tolist()))"
   ]
  },
  {
   "cell_type": "markdown",
   "metadata": {},
   "source": [
    "## Step 8: Restaurant Recommendation completed!"
   ]
  }
 ],
 "metadata": {
  "kernelspec": {
   "display_name": "Python 3",
   "language": "python",
   "name": "python3"
  },
  "language_info": {
   "codemirror_mode": {
    "name": "ipython",
    "version": 3
   },
   "file_extension": ".py",
   "mimetype": "text/x-python",
   "name": "python",
   "nbconvert_exporter": "python",
   "pygments_lexer": "ipython3",
   "version": "3.7.0"
  }
 },
 "nbformat": 4,
 "nbformat_minor": 2
}
